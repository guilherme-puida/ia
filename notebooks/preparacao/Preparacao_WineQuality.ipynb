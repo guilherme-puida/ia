{
  "nbformat": 4,
  "nbformat_minor": 0,
  "metadata": {
    "colab": {
      "provenance": [],
      "authorship_tag": "ABX9TyNnIXYdpT3ahWTSLfdFOpD/",
      "include_colab_link": true
    },
    "kernelspec": {
      "name": "python3",
      "display_name": "Python 3"
    },
    "language_info": {
      "name": "python"
    }
  },
  "cells": [
    {
      "cell_type": "markdown",
      "metadata": {
        "id": "view-in-github",
        "colab_type": "text"
      },
      "source": [
        "<a href=\"https://colab.research.google.com/github/guilherme-puida/ia/blob/main/Preparacao_WineQuality.ipynb\" target=\"_parent\"><img src=\"https://colab.research.google.com/assets/colab-badge.svg\" alt=\"Open In Colab\"/></a>"
      ]
    },
    {
      "cell_type": "markdown",
      "source": [
        "# Wine Quality Dataset\n",
        "\n",
        "### Origem do Dataset\n",
        "\n",
        "- [*Kaggle - Wine Quality*](https://www.kaggle.com/datasets/rajyellow46/wine-quality/data)\n",
        "- [*UC Irvine*](https://archive.ics.uci.edu/dataset/186/wine+quality)\n",
        "\n",
        "### Atribuições\n",
        "\n",
        "O dataset utilizado foi disponibilizado em página da [*UC Irvine*](https://archive.ics.uci.edu/dataset/186/wine+quality) sob a licença *CC BY 4.0*. As atribuições de autores se encontram no mesmo *site* supracitado. O dataset possui *paper* introdutório sob autoria de [CORTEZ et al (2009)](https://www.sciencedirect.com/science/article/abs/pii/S0167923609001377?via%3Dihub).\n",
        "\n",
        "CORTEZ, Paulo; ANTÓNIO CERDEIRA; ALMEIDA, Fernando; et al. Modeling wine preferences by data mining from physicochemical properties. Decision Support Systems, v. 47, n. 4, p. 547–553, 2009. Disponível em: <https://www.sciencedirect.com/science/article/abs/pii/S0167923609001377?via%3Dihub>."
      ],
      "metadata": {
        "id": "anaHC3F2gSOB"
      }
    },
    {
      "cell_type": "code",
      "execution_count": null,
      "metadata": {
        "id": "rViN_GnsgOHk"
      },
      "outputs": [],
      "source": []
    }
  ]
}