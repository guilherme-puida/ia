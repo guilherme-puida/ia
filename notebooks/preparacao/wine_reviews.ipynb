{
  "cells": [
    {
      "cell_type": "code",
      "execution_count": 62,
      "metadata": {
        "id": "V8gJgDmkJQLH"
      },
      "outputs": [],
      "source": [
        "import pandas as pd\n",
        "import matplotlib.pyplot as plt\n",
        "import numpy as np\n",
        "from scipy import stats"
      ]
    },
    {
      "cell_type": "code",
      "execution_count": 63,
      "metadata": {
        "id": "X06HQptVJrYB"
      },
      "outputs": [],
      "source": [
        "original_df = pd.read_csv('winemag-data-130k-v2.csv')\n",
        "df = original_df"
      ]
    },
    {
      "cell_type": "code",
      "execution_count": 64,
      "metadata": {
        "colab": {
          "base_uri": "https://localhost:8080/",
          "height": 1000
        },
        "id": "9mlUicQaS9Ep",
        "outputId": "7e997d4f-31d9-4b99-d704-d0c6f07ea501"
      },
      "outputs": [
        {
          "output_type": "execute_result",
          "data": {
            "text/plain": [
              "        Unnamed: 0   country  \\\n",
              "0                0     Italy   \n",
              "1                1  Portugal   \n",
              "2                2        US   \n",
              "3                3        US   \n",
              "4                4        US   \n",
              "...            ...       ...   \n",
              "129966      129966   Germany   \n",
              "129967      129967        US   \n",
              "129968      129968    France   \n",
              "129969      129969    France   \n",
              "129970      129970    France   \n",
              "\n",
              "                                              description  \\\n",
              "0       Aromas include tropical fruit, broom, brimston...   \n",
              "1       This is ripe and fruity, a wine that is smooth...   \n",
              "2       Tart and snappy, the flavors of lime flesh and...   \n",
              "3       Pineapple rind, lemon pith and orange blossom ...   \n",
              "4       Much like the regular bottling from 2012, this...   \n",
              "...                                                   ...   \n",
              "129966  Notes of honeysuckle and cantaloupe sweeten th...   \n",
              "129967  Citation is given as much as a decade of bottl...   \n",
              "129968  Well-drained gravel soil gives this wine its c...   \n",
              "129969  A dry style of Pinot Gris, this is crisp with ...   \n",
              "129970  Big, rich and off-dry, this is powered by inte...   \n",
              "\n",
              "                                   designation  points  price  \\\n",
              "0                                 Vulkà Bianco      87    NaN   \n",
              "1                                     Avidagos      87   15.0   \n",
              "2                                          NaN      87   14.0   \n",
              "3                         Reserve Late Harvest      87   13.0   \n",
              "4           Vintner's Reserve Wild Child Block      87   65.0   \n",
              "...                                        ...     ...    ...   \n",
              "129966  Brauneberger Juffer-Sonnenuhr Spätlese      90   28.0   \n",
              "129967                                     NaN      90   75.0   \n",
              "129968                                   Kritt      90   30.0   \n",
              "129969                                     NaN      90   32.0   \n",
              "129970           Lieu-dit Harth Cuvée Caroline      90   21.0   \n",
              "\n",
              "                 province             region_1           region_2  \\\n",
              "0       Sicily & Sardinia                 Etna                NaN   \n",
              "1                   Douro                  NaN                NaN   \n",
              "2                  Oregon    Willamette Valley  Willamette Valley   \n",
              "3                Michigan  Lake Michigan Shore                NaN   \n",
              "4                  Oregon    Willamette Valley  Willamette Valley   \n",
              "...                   ...                  ...                ...   \n",
              "129966              Mosel                  NaN                NaN   \n",
              "129967             Oregon               Oregon       Oregon Other   \n",
              "129968             Alsace               Alsace                NaN   \n",
              "129969             Alsace               Alsace                NaN   \n",
              "129970             Alsace               Alsace                NaN   \n",
              "\n",
              "               taster_name taster_twitter_handle  \\\n",
              "0            Kerin O’Keefe          @kerinokeefe   \n",
              "1               Roger Voss            @vossroger   \n",
              "2             Paul Gregutt           @paulgwine    \n",
              "3       Alexander Peartree                   NaN   \n",
              "4             Paul Gregutt           @paulgwine    \n",
              "...                    ...                   ...   \n",
              "129966  Anna Lee C. Iijima                   NaN   \n",
              "129967        Paul Gregutt           @paulgwine    \n",
              "129968          Roger Voss            @vossroger   \n",
              "129969          Roger Voss            @vossroger   \n",
              "129970          Roger Voss            @vossroger   \n",
              "\n",
              "                                                    title         variety  \\\n",
              "0                       Nicosia 2013 Vulkà Bianco  (Etna)     White Blend   \n",
              "1           Quinta dos Avidagos 2011 Avidagos Red (Douro)  Portuguese Red   \n",
              "2           Rainstorm 2013 Pinot Gris (Willamette Valley)      Pinot Gris   \n",
              "3       St. Julian 2013 Reserve Late Harvest Riesling ...        Riesling   \n",
              "4       Sweet Cheeks 2012 Vintner's Reserve Wild Child...      Pinot Noir   \n",
              "...                                                   ...             ...   \n",
              "129966  Dr. H. Thanisch (Erben Müller-Burggraef) 2013 ...        Riesling   \n",
              "129967                  Citation 2004 Pinot Noir (Oregon)      Pinot Noir   \n",
              "129968  Domaine Gresser 2013 Kritt Gewurztraminer (Als...  Gewürztraminer   \n",
              "129969      Domaine Marcel Deiss 2012 Pinot Gris (Alsace)      Pinot Gris   \n",
              "129970  Domaine Schoffit 2012 Lieu-dit Harth Cuvée Car...  Gewürztraminer   \n",
              "\n",
              "                                          winery  \n",
              "0                                        Nicosia  \n",
              "1                            Quinta dos Avidagos  \n",
              "2                                      Rainstorm  \n",
              "3                                     St. Julian  \n",
              "4                                   Sweet Cheeks  \n",
              "...                                          ...  \n",
              "129966  Dr. H. Thanisch (Erben Müller-Burggraef)  \n",
              "129967                                  Citation  \n",
              "129968                           Domaine Gresser  \n",
              "129969                      Domaine Marcel Deiss  \n",
              "129970                          Domaine Schoffit  \n",
              "\n",
              "[129971 rows x 14 columns]"
            ],
            "text/html": [
              "\n",
              "  <div id=\"df-8f840417-0244-4e4d-bb69-e383fa5eeff2\" class=\"colab-df-container\">\n",
              "    <div>\n",
              "<style scoped>\n",
              "    .dataframe tbody tr th:only-of-type {\n",
              "        vertical-align: middle;\n",
              "    }\n",
              "\n",
              "    .dataframe tbody tr th {\n",
              "        vertical-align: top;\n",
              "    }\n",
              "\n",
              "    .dataframe thead th {\n",
              "        text-align: right;\n",
              "    }\n",
              "</style>\n",
              "<table border=\"1\" class=\"dataframe\">\n",
              "  <thead>\n",
              "    <tr style=\"text-align: right;\">\n",
              "      <th></th>\n",
              "      <th>Unnamed: 0</th>\n",
              "      <th>country</th>\n",
              "      <th>description</th>\n",
              "      <th>designation</th>\n",
              "      <th>points</th>\n",
              "      <th>price</th>\n",
              "      <th>province</th>\n",
              "      <th>region_1</th>\n",
              "      <th>region_2</th>\n",
              "      <th>taster_name</th>\n",
              "      <th>taster_twitter_handle</th>\n",
              "      <th>title</th>\n",
              "      <th>variety</th>\n",
              "      <th>winery</th>\n",
              "    </tr>\n",
              "  </thead>\n",
              "  <tbody>\n",
              "    <tr>\n",
              "      <th>0</th>\n",
              "      <td>0</td>\n",
              "      <td>Italy</td>\n",
              "      <td>Aromas include tropical fruit, broom, brimston...</td>\n",
              "      <td>Vulkà Bianco</td>\n",
              "      <td>87</td>\n",
              "      <td>NaN</td>\n",
              "      <td>Sicily &amp; Sardinia</td>\n",
              "      <td>Etna</td>\n",
              "      <td>NaN</td>\n",
              "      <td>Kerin O’Keefe</td>\n",
              "      <td>@kerinokeefe</td>\n",
              "      <td>Nicosia 2013 Vulkà Bianco  (Etna)</td>\n",
              "      <td>White Blend</td>\n",
              "      <td>Nicosia</td>\n",
              "    </tr>\n",
              "    <tr>\n",
              "      <th>1</th>\n",
              "      <td>1</td>\n",
              "      <td>Portugal</td>\n",
              "      <td>This is ripe and fruity, a wine that is smooth...</td>\n",
              "      <td>Avidagos</td>\n",
              "      <td>87</td>\n",
              "      <td>15.0</td>\n",
              "      <td>Douro</td>\n",
              "      <td>NaN</td>\n",
              "      <td>NaN</td>\n",
              "      <td>Roger Voss</td>\n",
              "      <td>@vossroger</td>\n",
              "      <td>Quinta dos Avidagos 2011 Avidagos Red (Douro)</td>\n",
              "      <td>Portuguese Red</td>\n",
              "      <td>Quinta dos Avidagos</td>\n",
              "    </tr>\n",
              "    <tr>\n",
              "      <th>2</th>\n",
              "      <td>2</td>\n",
              "      <td>US</td>\n",
              "      <td>Tart and snappy, the flavors of lime flesh and...</td>\n",
              "      <td>NaN</td>\n",
              "      <td>87</td>\n",
              "      <td>14.0</td>\n",
              "      <td>Oregon</td>\n",
              "      <td>Willamette Valley</td>\n",
              "      <td>Willamette Valley</td>\n",
              "      <td>Paul Gregutt</td>\n",
              "      <td>@paulgwine</td>\n",
              "      <td>Rainstorm 2013 Pinot Gris (Willamette Valley)</td>\n",
              "      <td>Pinot Gris</td>\n",
              "      <td>Rainstorm</td>\n",
              "    </tr>\n",
              "    <tr>\n",
              "      <th>3</th>\n",
              "      <td>3</td>\n",
              "      <td>US</td>\n",
              "      <td>Pineapple rind, lemon pith and orange blossom ...</td>\n",
              "      <td>Reserve Late Harvest</td>\n",
              "      <td>87</td>\n",
              "      <td>13.0</td>\n",
              "      <td>Michigan</td>\n",
              "      <td>Lake Michigan Shore</td>\n",
              "      <td>NaN</td>\n",
              "      <td>Alexander Peartree</td>\n",
              "      <td>NaN</td>\n",
              "      <td>St. Julian 2013 Reserve Late Harvest Riesling ...</td>\n",
              "      <td>Riesling</td>\n",
              "      <td>St. Julian</td>\n",
              "    </tr>\n",
              "    <tr>\n",
              "      <th>4</th>\n",
              "      <td>4</td>\n",
              "      <td>US</td>\n",
              "      <td>Much like the regular bottling from 2012, this...</td>\n",
              "      <td>Vintner's Reserve Wild Child Block</td>\n",
              "      <td>87</td>\n",
              "      <td>65.0</td>\n",
              "      <td>Oregon</td>\n",
              "      <td>Willamette Valley</td>\n",
              "      <td>Willamette Valley</td>\n",
              "      <td>Paul Gregutt</td>\n",
              "      <td>@paulgwine</td>\n",
              "      <td>Sweet Cheeks 2012 Vintner's Reserve Wild Child...</td>\n",
              "      <td>Pinot Noir</td>\n",
              "      <td>Sweet Cheeks</td>\n",
              "    </tr>\n",
              "    <tr>\n",
              "      <th>...</th>\n",
              "      <td>...</td>\n",
              "      <td>...</td>\n",
              "      <td>...</td>\n",
              "      <td>...</td>\n",
              "      <td>...</td>\n",
              "      <td>...</td>\n",
              "      <td>...</td>\n",
              "      <td>...</td>\n",
              "      <td>...</td>\n",
              "      <td>...</td>\n",
              "      <td>...</td>\n",
              "      <td>...</td>\n",
              "      <td>...</td>\n",
              "      <td>...</td>\n",
              "    </tr>\n",
              "    <tr>\n",
              "      <th>129966</th>\n",
              "      <td>129966</td>\n",
              "      <td>Germany</td>\n",
              "      <td>Notes of honeysuckle and cantaloupe sweeten th...</td>\n",
              "      <td>Brauneberger Juffer-Sonnenuhr Spätlese</td>\n",
              "      <td>90</td>\n",
              "      <td>28.0</td>\n",
              "      <td>Mosel</td>\n",
              "      <td>NaN</td>\n",
              "      <td>NaN</td>\n",
              "      <td>Anna Lee C. Iijima</td>\n",
              "      <td>NaN</td>\n",
              "      <td>Dr. H. Thanisch (Erben Müller-Burggraef) 2013 ...</td>\n",
              "      <td>Riesling</td>\n",
              "      <td>Dr. H. Thanisch (Erben Müller-Burggraef)</td>\n",
              "    </tr>\n",
              "    <tr>\n",
              "      <th>129967</th>\n",
              "      <td>129967</td>\n",
              "      <td>US</td>\n",
              "      <td>Citation is given as much as a decade of bottl...</td>\n",
              "      <td>NaN</td>\n",
              "      <td>90</td>\n",
              "      <td>75.0</td>\n",
              "      <td>Oregon</td>\n",
              "      <td>Oregon</td>\n",
              "      <td>Oregon Other</td>\n",
              "      <td>Paul Gregutt</td>\n",
              "      <td>@paulgwine</td>\n",
              "      <td>Citation 2004 Pinot Noir (Oregon)</td>\n",
              "      <td>Pinot Noir</td>\n",
              "      <td>Citation</td>\n",
              "    </tr>\n",
              "    <tr>\n",
              "      <th>129968</th>\n",
              "      <td>129968</td>\n",
              "      <td>France</td>\n",
              "      <td>Well-drained gravel soil gives this wine its c...</td>\n",
              "      <td>Kritt</td>\n",
              "      <td>90</td>\n",
              "      <td>30.0</td>\n",
              "      <td>Alsace</td>\n",
              "      <td>Alsace</td>\n",
              "      <td>NaN</td>\n",
              "      <td>Roger Voss</td>\n",
              "      <td>@vossroger</td>\n",
              "      <td>Domaine Gresser 2013 Kritt Gewurztraminer (Als...</td>\n",
              "      <td>Gewürztraminer</td>\n",
              "      <td>Domaine Gresser</td>\n",
              "    </tr>\n",
              "    <tr>\n",
              "      <th>129969</th>\n",
              "      <td>129969</td>\n",
              "      <td>France</td>\n",
              "      <td>A dry style of Pinot Gris, this is crisp with ...</td>\n",
              "      <td>NaN</td>\n",
              "      <td>90</td>\n",
              "      <td>32.0</td>\n",
              "      <td>Alsace</td>\n",
              "      <td>Alsace</td>\n",
              "      <td>NaN</td>\n",
              "      <td>Roger Voss</td>\n",
              "      <td>@vossroger</td>\n",
              "      <td>Domaine Marcel Deiss 2012 Pinot Gris (Alsace)</td>\n",
              "      <td>Pinot Gris</td>\n",
              "      <td>Domaine Marcel Deiss</td>\n",
              "    </tr>\n",
              "    <tr>\n",
              "      <th>129970</th>\n",
              "      <td>129970</td>\n",
              "      <td>France</td>\n",
              "      <td>Big, rich and off-dry, this is powered by inte...</td>\n",
              "      <td>Lieu-dit Harth Cuvée Caroline</td>\n",
              "      <td>90</td>\n",
              "      <td>21.0</td>\n",
              "      <td>Alsace</td>\n",
              "      <td>Alsace</td>\n",
              "      <td>NaN</td>\n",
              "      <td>Roger Voss</td>\n",
              "      <td>@vossroger</td>\n",
              "      <td>Domaine Schoffit 2012 Lieu-dit Harth Cuvée Car...</td>\n",
              "      <td>Gewürztraminer</td>\n",
              "      <td>Domaine Schoffit</td>\n",
              "    </tr>\n",
              "  </tbody>\n",
              "</table>\n",
              "<p>129971 rows × 14 columns</p>\n",
              "</div>\n",
              "    <div class=\"colab-df-buttons\">\n",
              "\n",
              "  <div class=\"colab-df-container\">\n",
              "    <button class=\"colab-df-convert\" onclick=\"convertToInteractive('df-8f840417-0244-4e4d-bb69-e383fa5eeff2')\"\n",
              "            title=\"Convert this dataframe to an interactive table.\"\n",
              "            style=\"display:none;\">\n",
              "\n",
              "  <svg xmlns=\"http://www.w3.org/2000/svg\" height=\"24px\" viewBox=\"0 -960 960 960\">\n",
              "    <path d=\"M120-120v-720h720v720H120Zm60-500h600v-160H180v160Zm220 220h160v-160H400v160Zm0 220h160v-160H400v160ZM180-400h160v-160H180v160Zm440 0h160v-160H620v160ZM180-180h160v-160H180v160Zm440 0h160v-160H620v160Z\"/>\n",
              "  </svg>\n",
              "    </button>\n",
              "\n",
              "  <style>\n",
              "    .colab-df-container {\n",
              "      display:flex;\n",
              "      gap: 12px;\n",
              "    }\n",
              "\n",
              "    .colab-df-convert {\n",
              "      background-color: #E8F0FE;\n",
              "      border: none;\n",
              "      border-radius: 50%;\n",
              "      cursor: pointer;\n",
              "      display: none;\n",
              "      fill: #1967D2;\n",
              "      height: 32px;\n",
              "      padding: 0 0 0 0;\n",
              "      width: 32px;\n",
              "    }\n",
              "\n",
              "    .colab-df-convert:hover {\n",
              "      background-color: #E2EBFA;\n",
              "      box-shadow: 0px 1px 2px rgba(60, 64, 67, 0.3), 0px 1px 3px 1px rgba(60, 64, 67, 0.15);\n",
              "      fill: #174EA6;\n",
              "    }\n",
              "\n",
              "    .colab-df-buttons div {\n",
              "      margin-bottom: 4px;\n",
              "    }\n",
              "\n",
              "    [theme=dark] .colab-df-convert {\n",
              "      background-color: #3B4455;\n",
              "      fill: #D2E3FC;\n",
              "    }\n",
              "\n",
              "    [theme=dark] .colab-df-convert:hover {\n",
              "      background-color: #434B5C;\n",
              "      box-shadow: 0px 1px 3px 1px rgba(0, 0, 0, 0.15);\n",
              "      filter: drop-shadow(0px 1px 2px rgba(0, 0, 0, 0.3));\n",
              "      fill: #FFFFFF;\n",
              "    }\n",
              "  </style>\n",
              "\n",
              "    <script>\n",
              "      const buttonEl =\n",
              "        document.querySelector('#df-8f840417-0244-4e4d-bb69-e383fa5eeff2 button.colab-df-convert');\n",
              "      buttonEl.style.display =\n",
              "        google.colab.kernel.accessAllowed ? 'block' : 'none';\n",
              "\n",
              "      async function convertToInteractive(key) {\n",
              "        const element = document.querySelector('#df-8f840417-0244-4e4d-bb69-e383fa5eeff2');\n",
              "        const dataTable =\n",
              "          await google.colab.kernel.invokeFunction('convertToInteractive',\n",
              "                                                    [key], {});\n",
              "        if (!dataTable) return;\n",
              "\n",
              "        const docLinkHtml = 'Like what you see? Visit the ' +\n",
              "          '<a target=\"_blank\" href=https://colab.research.google.com/notebooks/data_table.ipynb>data table notebook</a>'\n",
              "          + ' to learn more about interactive tables.';\n",
              "        element.innerHTML = '';\n",
              "        dataTable['output_type'] = 'display_data';\n",
              "        await google.colab.output.renderOutput(dataTable, element);\n",
              "        const docLink = document.createElement('div');\n",
              "        docLink.innerHTML = docLinkHtml;\n",
              "        element.appendChild(docLink);\n",
              "      }\n",
              "    </script>\n",
              "  </div>\n",
              "\n",
              "\n",
              "<div id=\"df-2e17872e-4afd-45c9-a9f5-2b96155dadc3\">\n",
              "  <button class=\"colab-df-quickchart\" onclick=\"quickchart('df-2e17872e-4afd-45c9-a9f5-2b96155dadc3')\"\n",
              "            title=\"Suggest charts\"\n",
              "            style=\"display:none;\">\n",
              "\n",
              "<svg xmlns=\"http://www.w3.org/2000/svg\" height=\"24px\"viewBox=\"0 0 24 24\"\n",
              "     width=\"24px\">\n",
              "    <g>\n",
              "        <path d=\"M19 3H5c-1.1 0-2 .9-2 2v14c0 1.1.9 2 2 2h14c1.1 0 2-.9 2-2V5c0-1.1-.9-2-2-2zM9 17H7v-7h2v7zm4 0h-2V7h2v10zm4 0h-2v-4h2v4z\"/>\n",
              "    </g>\n",
              "</svg>\n",
              "  </button>\n",
              "\n",
              "<style>\n",
              "  .colab-df-quickchart {\n",
              "      --bg-color: #E8F0FE;\n",
              "      --fill-color: #1967D2;\n",
              "      --hover-bg-color: #E2EBFA;\n",
              "      --hover-fill-color: #174EA6;\n",
              "      --disabled-fill-color: #AAA;\n",
              "      --disabled-bg-color: #DDD;\n",
              "  }\n",
              "\n",
              "  [theme=dark] .colab-df-quickchart {\n",
              "      --bg-color: #3B4455;\n",
              "      --fill-color: #D2E3FC;\n",
              "      --hover-bg-color: #434B5C;\n",
              "      --hover-fill-color: #FFFFFF;\n",
              "      --disabled-bg-color: #3B4455;\n",
              "      --disabled-fill-color: #666;\n",
              "  }\n",
              "\n",
              "  .colab-df-quickchart {\n",
              "    background-color: var(--bg-color);\n",
              "    border: none;\n",
              "    border-radius: 50%;\n",
              "    cursor: pointer;\n",
              "    display: none;\n",
              "    fill: var(--fill-color);\n",
              "    height: 32px;\n",
              "    padding: 0;\n",
              "    width: 32px;\n",
              "  }\n",
              "\n",
              "  .colab-df-quickchart:hover {\n",
              "    background-color: var(--hover-bg-color);\n",
              "    box-shadow: 0 1px 2px rgba(60, 64, 67, 0.3), 0 1px 3px 1px rgba(60, 64, 67, 0.15);\n",
              "    fill: var(--button-hover-fill-color);\n",
              "  }\n",
              "\n",
              "  .colab-df-quickchart-complete:disabled,\n",
              "  .colab-df-quickchart-complete:disabled:hover {\n",
              "    background-color: var(--disabled-bg-color);\n",
              "    fill: var(--disabled-fill-color);\n",
              "    box-shadow: none;\n",
              "  }\n",
              "\n",
              "  .colab-df-spinner {\n",
              "    border: 2px solid var(--fill-color);\n",
              "    border-color: transparent;\n",
              "    border-bottom-color: var(--fill-color);\n",
              "    animation:\n",
              "      spin 1s steps(1) infinite;\n",
              "  }\n",
              "\n",
              "  @keyframes spin {\n",
              "    0% {\n",
              "      border-color: transparent;\n",
              "      border-bottom-color: var(--fill-color);\n",
              "      border-left-color: var(--fill-color);\n",
              "    }\n",
              "    20% {\n",
              "      border-color: transparent;\n",
              "      border-left-color: var(--fill-color);\n",
              "      border-top-color: var(--fill-color);\n",
              "    }\n",
              "    30% {\n",
              "      border-color: transparent;\n",
              "      border-left-color: var(--fill-color);\n",
              "      border-top-color: var(--fill-color);\n",
              "      border-right-color: var(--fill-color);\n",
              "    }\n",
              "    40% {\n",
              "      border-color: transparent;\n",
              "      border-right-color: var(--fill-color);\n",
              "      border-top-color: var(--fill-color);\n",
              "    }\n",
              "    60% {\n",
              "      border-color: transparent;\n",
              "      border-right-color: var(--fill-color);\n",
              "    }\n",
              "    80% {\n",
              "      border-color: transparent;\n",
              "      border-right-color: var(--fill-color);\n",
              "      border-bottom-color: var(--fill-color);\n",
              "    }\n",
              "    90% {\n",
              "      border-color: transparent;\n",
              "      border-bottom-color: var(--fill-color);\n",
              "    }\n",
              "  }\n",
              "</style>\n",
              "\n",
              "  <script>\n",
              "    async function quickchart(key) {\n",
              "      const quickchartButtonEl =\n",
              "        document.querySelector('#' + key + ' button');\n",
              "      quickchartButtonEl.disabled = true;  // To prevent multiple clicks.\n",
              "      quickchartButtonEl.classList.add('colab-df-spinner');\n",
              "      try {\n",
              "        const charts = await google.colab.kernel.invokeFunction(\n",
              "            'suggestCharts', [key], {});\n",
              "      } catch (error) {\n",
              "        console.error('Error during call to suggestCharts:', error);\n",
              "      }\n",
              "      quickchartButtonEl.classList.remove('colab-df-spinner');\n",
              "      quickchartButtonEl.classList.add('colab-df-quickchart-complete');\n",
              "    }\n",
              "    (() => {\n",
              "      let quickchartButtonEl =\n",
              "        document.querySelector('#df-2e17872e-4afd-45c9-a9f5-2b96155dadc3 button');\n",
              "      quickchartButtonEl.style.display =\n",
              "        google.colab.kernel.accessAllowed ? 'block' : 'none';\n",
              "    })();\n",
              "  </script>\n",
              "</div>\n",
              "\n",
              "  <div id=\"id_30089ae8-283e-46f8-afbb-77c290bad2ee\">\n",
              "    <style>\n",
              "      .colab-df-generate {\n",
              "        background-color: #E8F0FE;\n",
              "        border: none;\n",
              "        border-radius: 50%;\n",
              "        cursor: pointer;\n",
              "        display: none;\n",
              "        fill: #1967D2;\n",
              "        height: 32px;\n",
              "        padding: 0 0 0 0;\n",
              "        width: 32px;\n",
              "      }\n",
              "\n",
              "      .colab-df-generate:hover {\n",
              "        background-color: #E2EBFA;\n",
              "        box-shadow: 0px 1px 2px rgba(60, 64, 67, 0.3), 0px 1px 3px 1px rgba(60, 64, 67, 0.15);\n",
              "        fill: #174EA6;\n",
              "      }\n",
              "\n",
              "      [theme=dark] .colab-df-generate {\n",
              "        background-color: #3B4455;\n",
              "        fill: #D2E3FC;\n",
              "      }\n",
              "\n",
              "      [theme=dark] .colab-df-generate:hover {\n",
              "        background-color: #434B5C;\n",
              "        box-shadow: 0px 1px 3px 1px rgba(0, 0, 0, 0.15);\n",
              "        filter: drop-shadow(0px 1px 2px rgba(0, 0, 0, 0.3));\n",
              "        fill: #FFFFFF;\n",
              "      }\n",
              "    </style>\n",
              "    <button class=\"colab-df-generate\" onclick=\"generateWithVariable('original_df')\"\n",
              "            title=\"Generate code using this dataframe.\"\n",
              "            style=\"display:none;\">\n",
              "\n",
              "  <svg xmlns=\"http://www.w3.org/2000/svg\" height=\"24px\"viewBox=\"0 0 24 24\"\n",
              "       width=\"24px\">\n",
              "    <path d=\"M7,19H8.4L18.45,9,17,7.55,7,17.6ZM5,21V16.75L18.45,3.32a2,2,0,0,1,2.83,0l1.4,1.43a1.91,1.91,0,0,1,.58,1.4,1.91,1.91,0,0,1-.58,1.4L9.25,21ZM18.45,9,17,7.55Zm-12,3A5.31,5.31,0,0,0,4.9,8.1,5.31,5.31,0,0,0,1,6.5,5.31,5.31,0,0,0,4.9,4.9,5.31,5.31,0,0,0,6.5,1,5.31,5.31,0,0,0,8.1,4.9,5.31,5.31,0,0,0,12,6.5,5.46,5.46,0,0,0,6.5,12Z\"/>\n",
              "  </svg>\n",
              "    </button>\n",
              "    <script>\n",
              "      (() => {\n",
              "      const buttonEl =\n",
              "        document.querySelector('#id_30089ae8-283e-46f8-afbb-77c290bad2ee button.colab-df-generate');\n",
              "      buttonEl.style.display =\n",
              "        google.colab.kernel.accessAllowed ? 'block' : 'none';\n",
              "\n",
              "      buttonEl.onclick = () => {\n",
              "        google.colab.notebook.generateWithVariable('original_df');\n",
              "      }\n",
              "      })();\n",
              "    </script>\n",
              "  </div>\n",
              "\n",
              "    </div>\n",
              "  </div>\n"
            ],
            "application/vnd.google.colaboratory.intrinsic+json": {
              "type": "dataframe",
              "variable_name": "original_df"
            }
          },
          "metadata": {},
          "execution_count": 64
        }
      ],
      "source": [
        "original_df"
      ]
    },
    {
      "cell_type": "markdown",
      "metadata": {
        "id": "LzDwW_dZMXFP"
      },
      "source": [
        "#Etapa de Exploração dos dados"
      ]
    },
    {
      "cell_type": "code",
      "execution_count": 65,
      "metadata": {
        "colab": {
          "base_uri": "https://localhost:8080/"
        },
        "id": "0XKV-EjJUSrn",
        "outputId": "84c0f691-0f93-4160-949b-63061bd1dd66"
      },
      "outputs": [
        {
          "output_type": "stream",
          "name": "stdout",
          "text": [
            "<class 'pandas.core.frame.DataFrame'>\n",
            "RangeIndex: 129971 entries, 0 to 129970\n",
            "Data columns (total 14 columns):\n",
            " #   Column                 Non-Null Count   Dtype  \n",
            "---  ------                 --------------   -----  \n",
            " 0   Unnamed: 0             129971 non-null  int64  \n",
            " 1   country                129908 non-null  object \n",
            " 2   description            129971 non-null  object \n",
            " 3   designation            92506 non-null   object \n",
            " 4   points                 129971 non-null  int64  \n",
            " 5   price                  120975 non-null  float64\n",
            " 6   province               129908 non-null  object \n",
            " 7   region_1               108724 non-null  object \n",
            " 8   region_2               50511 non-null   object \n",
            " 9   taster_name            103727 non-null  object \n",
            " 10  taster_twitter_handle  98758 non-null   object \n",
            " 11  title                  129971 non-null  object \n",
            " 12  variety                129970 non-null  object \n",
            " 13  winery                 129971 non-null  object \n",
            "dtypes: float64(1), int64(2), object(11)\n",
            "memory usage: 13.9+ MB\n"
          ]
        }
      ],
      "source": [
        "df.info()"
      ]
    },
    {
      "cell_type": "markdown",
      "metadata": {
        "id": "qynT0EcuSB4o"
      },
      "source": [
        "## *Countries*\n",
        "\n",
        "*Countries*, ou países em português, é um tipo de dado representado pelo formato *String*, o qual indica o país de origem do vinho, pode-se observar a partir dele que a maior quantidade de vinhos avaliados vieram dos Estados Unidos, seguidos da França, Itália, Espanha, Portugal e Chile. Ademais, há poucos dados de países ausentes, sendo esses apenas 0.0484724% da amostra total, nesse contexto o fator de ruído existente é o de a possível maior facilidade de classificar vinhos vindos desses país em comparação aos que possuem menor quantidade de avaliações. Nesse contexto, tal dado tem bastante relevância para atividade de previsão de classificação dos vinhos, pois esse pode impactar indiretamente na qualidade do mesmo."
      ]
    },
    {
      "cell_type": "code",
      "execution_count": 66,
      "metadata": {
        "colab": {
          "base_uri": "https://localhost:8080/",
          "height": 627
        },
        "id": "uNihIv-NOroO",
        "outputId": "7f9523fd-ce6a-4919-826f-0ca53605a354"
      },
      "outputs": [
        {
          "output_type": "display_data",
          "data": {
            "text/plain": [
              "<Figure size 640x480 with 1 Axes>"
            ],
            "image/png": "[encoded data removed]"
          },
          "metadata": {}
        }
      ],
      "source": [
        "countries = df['country'].value_counts()\n",
        "countries.plot(kind='bar')\n",
        "\n",
        "plt.xlabel('Países')\n",
        "plt.ylabel('Quantidade')\n",
        "plt.title('Quantidade de vinhos avaliados de cada país')\n",
        "plt.show()"
      ]
    },
    {
      "cell_type": "markdown",
      "metadata": {
        "id": "-SwtEU7EnxB2"
      },
      "source": [
        "## *Description*\n",
        "\n",
        "*Description*, ou descrição em português, é um tipo de dado representado pelo formato *String*. Não há dados de descrições ausentes, nesse contexto o fator de ruído existente é a subjetividade das palavras usadas por cada avaliador. Além disso, tal dado tem bastante relevância para a atividade de previsão de classificação de vinhos, pois esse pode revelar informações importantes para essa atividade."
      ]
    },
    {
      "cell_type": "markdown",
      "metadata": {
        "id": "7sR9Dnzcu9jK"
      },
      "source": [
        "## *Designation*\n",
        "\n",
        "*Designation*, ou designação em português, é um tipo de dado representado pelo formato *String*, o qual refere-se à designação ou nome dado a uma parte específica de uma vinícola onde as uvas utilizadas para fazer o vinho são cultivadas. Há uma quantidade significativa de designações ausentes, sendo essas 28.8251135% da amostra total, nesse contexto o fator ruído é existente, podendo dificultar a classificação dos vinhos. Apesar disso, tal dado tem bastante relevância para a atividade de previsão de classificação de vinhos, pois esse pode impactar bastante na qualidade do mesmo."
      ]
    },
    {
      "cell_type": "code",
      "execution_count": 67,
      "metadata": {
        "id": "vnDif-HrG8bj",
        "outputId": "08b3a545-9924-4b5a-b680-10a3e4e31f95",
        "colab": {
          "base_uri": "https://localhost:8080/"
        }
      },
      "outputs": [
        {
          "output_type": "execute_result",
          "data": {
            "text/plain": [
              "designation\n",
              "Reserve                          2009\n",
              "Estate                           1322\n",
              "Reserva                          1259\n",
              "Riserva                           698\n",
              "Estate Grown                      621\n",
              "                                 ... \n",
              "Ilercavònia                         1\n",
              "VA                                  1\n",
              "Sein                                1\n",
              "Vigna Riserva                       1\n",
              "Lieu-dit Harth Cuvée Caroline       1\n",
              "Name: count, Length: 37979, dtype: int64"
            ]
          },
          "metadata": {},
          "execution_count": 67
        }
      ],
      "source": [
        "df['designation'].value_counts()"
      ]
    },
    {
      "cell_type": "markdown",
      "metadata": {
        "id": "AFhw2yuIxc5B"
      },
      "source": [
        "## *Points*\n",
        "\n",
        "*Points*, ou pontos em português, é um tipo de dado representado pelo formato *int64*, ou seja um número inteiro representado por 64 bits, o qual indica a nota obtida pelo vinho em uma escala de 1 a 100, entretanto só foram publicadas notas iguais ou maiores a 80. Não há dados de pontos ausentes, nesse contexto o fator de ruído é relativo a subjetividade da avaliação e a possível dificuldade de classificar vinhos de menor qualidade devido sua ausência no conjunto de dados. Entretanto, tal dado é extremamente importante para a atividade de previsão de classificação de vinhos."
      ]
    },
    {
      "cell_type": "code",
      "execution_count": 68,
      "metadata": {
        "colab": {
          "base_uri": "https://localhost:8080/",
          "height": 449
        },
        "id": "i6cU6vg4bYMy",
        "outputId": "85562d4a-f39e-4624-be1e-16a409cea08c"
      },
      "outputs": [
        {
          "output_type": "display_data",
          "data": {
            "text/plain": [
              "<Figure size 640x480 with 1 Axes>"
            ],
            "image/png": "[encoded data removed]"
          },
          "metadata": {}
        }
      ],
      "source": [
        "from scipy.stats import norm\n",
        "\n",
        "points = df['points']\n",
        "_, bins = np.histogram(points)\n",
        "mu, std = points.mean(), points.std()\n",
        "plt.hist(points, bins, alpha=0.6, density=True)\n",
        "\n",
        "xmin, xmax = plt.xlim()\n",
        "x = np.linspace(xmin, xmax, 100)\n",
        "p = norm.pdf(x, mu, std)\n",
        "\n",
        "plt.xlabel('Points')\n",
        "plt.ylabel('Frequency')\n",
        "plt.plot(x, p, 'k', linewidth=2)\n",
        "plt.show()"
      ]
    },
    {
      "cell_type": "markdown",
      "metadata": {
        "id": "VgfjImxw9Pju"
      },
      "source": [
        "## *Price*\n",
        "\n",
        "*Price*, ou preço em português, é um tipo de dado representado pelo formato *float64*, ou seja um número real representado por 64 bits, o qual indica o preço correspondente a uma garrafa desse vinho. Há dados de preços ausentes, sendo esses correspondentes a 6.921544% da amostra total, podendo gerar um ruído no modelo. Nesse contexto, tal dado tem relevância para atividade de previsão de classificação dos vinhos, pois se espera que uma garrafa mais cara corresponda a um vinho de maior qualidade, porém tal realação não é certa."
      ]
    },
    {
      "cell_type": "code",
      "execution_count": 69,
      "metadata": {
        "colab": {
          "base_uri": "https://localhost:8080/",
          "height": 559
        },
        "id": "9xuNVEYlfvG0",
        "outputId": "35981dc0-f010-4466-81ae-797c1a8d0b42"
      },
      "outputs": [
        {
          "output_type": "execute_result",
          "data": {
            "text/plain": [
              "(array([25102., 37880., 20169., 14716.,  9870.,  3954.,  3043.,  1697.,\n",
              "         1388.,   480.]),\n",
              " array([  400.,  1530.,  2660.,  3790.,  4920.,  6050.,  7180.,  8310.,\n",
              "         9440., 10570., 11700.]),\n",
              " <BarContainer object of 10 artists>)"
            ]
          },
          "metadata": {},
          "execution_count": 69
        },
        {
          "output_type": "display_data",
          "data": {
            "text/plain": [
              "<Figure size 640x480 with 1 Axes>"
            ],
            "image/png": "[encoded data removed]"
          },
          "metadata": {}
        }
      ],
      "source": [
        "price = df['price'].dropna() * 100\n",
        "\n",
        "# remove outliers\n",
        "price = price[abs(price - np.mean(price)) < 2 * np.std(price)]\n",
        "_, bins = np.histogram(price)\n",
        "\n",
        "plt.xlabel('Price (cents)')\n",
        "plt.ylabel('Amount')\n",
        "plt.title('Price histogram')\n",
        "plt.hist(price, bins)"
      ]
    },
    {
      "cell_type": "code",
      "execution_count": 70,
      "metadata": {
        "id": "JYzU2r6Bi7J1",
        "outputId": "f33671f4-e13b-4211-d2b7-7e9ea659b3e2",
        "colab": {
          "base_uri": "https://localhost:8080/",
          "height": 489
        }
      },
      "outputs": [
        {
          "output_type": "execute_result",
          "data": {
            "text/plain": [
              "Text(0.5, 1.0, 'Price (cents) and points')"
            ]
          },
          "metadata": {},
          "execution_count": 70
        },
        {
          "output_type": "display_data",
          "data": {
            "text/plain": [
              "<Figure size 640x480 with 1 Axes>"
            ],
            "image/png": "[encoded data removed]"
          },
          "metadata": {}
        }
      ],
      "source": [
        "plt.scatter(df['price'], df['points'], alpha=0.6)\n",
        "plt.xlabel('Price (cents)')\n",
        "plt.ylabel('Points')\n",
        "plt.title('Price (cents) and points')"
      ]
    },
    {
      "cell_type": "markdown",
      "metadata": {
        "id": "O9m4m2yU---i"
      },
      "source": [
        "## *Province*\n",
        "\n",
        "*Province*, ou provincia em português, é um tipo de dado representado pelo formato *String*, o qual indica a provincia ou estado de origem do vinho. Há poucos dados de provincia ausentes, sendo esses apenas 0.0484724% da amostra total, nesse contexto o fator de ruído existente é o de a possível maior facilidade de classificar vinhos vindos das provincias que mais aparecem em comparação aos que possuem menor quantidade de avaliações. Apesar disso, tal dado tem bastante relevância para atividade de previsão de classificação dos vinhos, pois esse pode impactar indiretamente na qualidade do mesmo."
      ]
    },
    {
      "cell_type": "markdown",
      "metadata": {
        "id": "nYr5mbbAA2Wg"
      },
      "source": [
        "## *Region_1*\n",
        "\n",
        "*Region 1*, ou região 1 em português, é um tipo de dado representado pelo formato *String*, o qual se refere à área de cultivo de vinho em uma província ou estado específico de origem do vinho. Há dados da região 1 ausentes, sendo esses 1.63468493% da amostra total, nesse contexto o fator de ruído existente é o da possível maior facilidade de classificar vinhos vindos das regiões mais avaliadas em comparação com as que possuem menor quantidade de avaliações. Nesse contexto, tal dado tem bastante relevância para atividade de previsão de classificação dos vinhos, pois esse pode impactar indiretamente na qualidade do mesmo."
      ]
    },
    {
      "cell_type": "markdown",
      "metadata": {
        "id": "X5WIjTCS0Rf2"
      },
      "source": [
        "## *Region_2*\n",
        "\n",
        "_Region 2_, ou região 2 em português, é um dado do tipo _String_, que representa a região específica em que o vinho é cultivado (ex: Rutherford dentro de Napa Valley). Esse valor é nulo em 61% dos casos, já que essa informação frequentemente não existe.\n",
        "\n",
        "Pela quantidade alta de valores nulos, esse atributo não será muito útil para as análises do trabalho."
      ]
    },
    {
      "cell_type": "markdown",
      "metadata": {
        "id": "AbWEQ_cG1R5R"
      },
      "source": [
        "## *Taster_name* e *taster_twitter_handle*\n",
        "\n",
        "Esses atributos, ambos do tipo _String_, representam o nome e usuário do _Twitter_ do autor daquela _review_. Esses dados são nulos em 20% e em 24% dos casos, respectivamente. Diante disso, esses dados, podem acabar não sendo tão uteis, pois não estão presentes em boa parte dos casos, pois sua utilização podeia causar ruído no modelo gerado."
      ]
    },
    {
      "cell_type": "markdown",
      "metadata": {
        "id": "b0SJh6buG5rU"
      },
      "source": [
        "## *Title*\n",
        "\n",
        "*Title*, ou título em português, é um dado do tipo _String_, que contem o título da avaliação e o ano da safra. Esse valor está presente em 100% dos casos e pode ser bastante relevante para avaliação, pois o ano da safra pode um fator ser impactante na qualidade do vinho."
      ]
    },
    {
      "cell_type": "markdown",
      "metadata": {
        "id": "jDawryWPIN2d"
      },
      "source": [
        "## *Variety*\n",
        "\n",
        "*Variety*, ou variedade em português, é um dado do tipo _String_, que contem o tipo de uvas utilizadas para fazer o vinho. Esse dado está presente em quase 100% dos casos e pode ser bastante relevante para avaliação dado que isso pode influenciar diretamente na qualidade do vinho."
      ]
    },
    {
      "cell_type": "markdown",
      "metadata": {
        "id": "an9vGZK_NK52"
      },
      "source": [
        "## *Winery*\n",
        "\n",
        "*Winery*, ou vinícola em português, é um dado do tipo _String_, que contem a vinícola de origem do vinho. Esse dado está presente em 100% dos casos e pode ser bastante relevante para avaliação, dado que a vinícola de origem pode influenciar na qualidade do vinho."
      ]
    },
    {
      "cell_type": "markdown",
      "metadata": {
        "id": "C7xLIGKIMK7E"
      },
      "source": [
        "# Etapa de preparação de dados\n"
      ]
    },
    {
      "cell_type": "markdown",
      "metadata": {
        "id": "kZJvsnRXMkYz"
      },
      "source": [
        "## *Country*\n",
        "\n",
        "Eliminaremos as tuplas nos quais o valor de *country* é nulo e em seguida codificaremos com um número que representará cada país"
      ]
    },
    {
      "cell_type": "code",
      "execution_count": 71,
      "metadata": {
        "id": "FevjwAE8RABa",
        "colab": {
          "base_uri": "https://localhost:8080/"
        },
        "outputId": "b20dd7bd-271e-4ab1-a663-5293114e20c1"
      },
      "outputs": [
        {
          "output_type": "stream",
          "name": "stderr",
          "text": [
            "<ipython-input-71-53e0e8f869f8>:8: SettingWithCopyWarning: \n",
            "A value is trying to be set on a copy of a slice from a DataFrame.\n",
            "Try using .loc[row_indexer,col_indexer] = value instead\n",
            "\n",
            "See the caveats in the documentation: https://pandas.pydata.org/pandas-docs/stable/user_guide/indexing.html#returning-a-view-versus-a-copy\n",
            "  df['country'] = df['country'].map(map_of_countries)\n"
          ]
        }
      ],
      "source": [
        "df = df.dropna(subset=['country'])\n",
        "\n",
        "# Mapeia cada país com um número\n",
        "uniqui_countries = df['country'].unique()\n",
        "map_of_countries = {country: i for i, country in enumerate(uniqui_countries)}\n",
        "\n",
        "# Aplicar o mapeamento à coluna 'country'\n",
        "df['country'] = df['country'].map(map_of_countries)"
      ]
    },
    {
      "cell_type": "markdown",
      "source": [
        "## *Description*\n",
        "\n",
        "O atributo *description* não necessita de tratamento neste primeiro momento"
      ],
      "metadata": {
        "id": "8YOfl97rWIeD"
      }
    },
    {
      "cell_type": "markdown",
      "source": [
        "## *Designation*\n",
        "\n",
        "Devido a alta incidência de valores ausentes, aproximadamente 30% da tuplas, eliminaremos esse atribuito do *dataset*"
      ],
      "metadata": {
        "id": "auZy65ClWQC4"
      }
    },
    {
      "cell_type": "code",
      "source": [
        "df = df.drop('designation', axis=1)"
      ],
      "metadata": {
        "id": "vW1oxHkzXMHv"
      },
      "execution_count": 72,
      "outputs": []
    },
    {
      "cell_type": "markdown",
      "source": [
        "## *Points*\n",
        "\n",
        "Normalizaremos os valores na coluna de *points*"
      ],
      "metadata": {
        "id": "_44GdC12Xvtb"
      }
    },
    {
      "cell_type": "code",
      "source": [
        "# Encontramos o valor mínimo e máximo da coluna\n",
        "min_value = df['points'].min()\n",
        "max_value = df['points'].max()\n",
        "\n",
        "# Aplicamos a fórmula de normalização min-max\n",
        "df['points'] = (df['points'] - min_value) / (max_value - min_value)"
      ],
      "metadata": {
        "id": "cX-BSbcvferz"
      },
      "execution_count": 73,
      "outputs": []
    },
    {
      "cell_type": "markdown",
      "source": [
        "## *Price*\n",
        "\n",
        "Eliminaremos as tuplas nos quais o atributo *price* é nulo, em seguida removemos os *outliers* de *price* e por fim normalizaremos os valores na coluna *price*"
      ],
      "metadata": {
        "id": "Jc9ItznfiaHL"
      }
    },
    {
      "cell_type": "code",
      "source": [
        "df = df.dropna(subset=['price'])\n",
        "\n",
        "# Remoção de outliers\n",
        "z_scores = stats.zscore(df['price'])\n",
        "abs_z_scores = abs(z_scores)\n",
        "filtered_entries = (abs_z_scores < 3)\n",
        "df = df[filtered_entries]\n",
        "\n",
        "# Encontramos o valor mínimo e máximo da coluna\n",
        "min_value = df['price'].min()\n",
        "max_value = df['price'].max()\n",
        "\n",
        "# Aplicamos a fórmula de normalização min-max\n",
        "df['price'] = (df['price'] - min_value) / (max_value - min_value)"
      ],
      "metadata": {
        "id": "yNAlrx71i4yP"
      },
      "execution_count": 74,
      "outputs": []
    },
    {
      "cell_type": "markdown",
      "source": [
        "## *Province*\n",
        "\n",
        "Eliminaremos as tuplas nos quais o valor de *province* é nulo e em seguida codificaremos com um número que representará cada provincia"
      ],
      "metadata": {
        "id": "yTfJooBDjd0d"
      }
    },
    {
      "cell_type": "code",
      "source": [
        "df = df.dropna(subset=['province'])\n",
        "\n",
        "# Mapeia cada provincia com um número\n",
        "uniqui_provinces = df['province'].unique()\n",
        "map_of_provinces = {province: i for i, province in enumerate(uniqui_provinces)}\n",
        "\n",
        "# Aplicar o mapeamento à coluna 'province'\n",
        "df['province'] = df['province'].map(map_of_provinces)"
      ],
      "metadata": {
        "id": "CoTVgIpokXOo"
      },
      "execution_count": 75,
      "outputs": []
    },
    {
      "cell_type": "markdown",
      "source": [
        "## *Region_1*\n",
        "\n",
        "Eliminaremos as tuplas nos quais o valor de *region_1* é nulo e em seguida codificaremos com um número que representará cada região_1"
      ],
      "metadata": {
        "id": "_pETaAY9lq7w"
      }
    },
    {
      "cell_type": "code",
      "source": [
        "df = df.dropna(subset=['region_1'])\n",
        "\n",
        "# Mapeia cada região_1 com um número\n",
        "uniqui_regions_1 = df['region_1'].unique()\n",
        "map_of_regions_1 = {region_1: i for i, region_1 in enumerate(uniqui_regions_1)}\n",
        "\n",
        "# Aplicar o mapeamento à coluna 'region_1'\n",
        "df['region_1'] = df['region_1'].map(map_of_regions_1)"
      ],
      "metadata": {
        "id": "3Jf7AaPBl03K",
        "colab": {
          "base_uri": "https://localhost:8080/"
        },
        "outputId": "6028bf4c-c084-4e21-9133-788725f927ce"
      },
      "execution_count": 76,
      "outputs": [
        {
          "output_type": "stream",
          "name": "stderr",
          "text": [
            "<ipython-input-76-66049d99d9b3>:8: SettingWithCopyWarning: \n",
            "A value is trying to be set on a copy of a slice from a DataFrame.\n",
            "Try using .loc[row_indexer,col_indexer] = value instead\n",
            "\n",
            "See the caveats in the documentation: https://pandas.pydata.org/pandas-docs/stable/user_guide/indexing.html#returning-a-view-versus-a-copy\n",
            "  df['region_1'] = df['region_1'].map(map_of_regions_1)\n"
          ]
        }
      ]
    },
    {
      "cell_type": "markdown",
      "source": [
        "## *Region_2*\n",
        "\n",
        "Devido a alta incidência de valores ausentes, aproximadamente 61% da tuplas, eliminaremos esse atribuito do *dataset*"
      ],
      "metadata": {
        "id": "Q8-K5k-im8R9"
      }
    },
    {
      "cell_type": "code",
      "source": [
        "df = df.drop('region_2', axis=1)"
      ],
      "metadata": {
        "id": "ag37BUJJnNgl"
      },
      "execution_count": 77,
      "outputs": []
    },
    {
      "cell_type": "markdown",
      "source": [
        "## *Taster_name e taster_twitter_handle*\n",
        "\n",
        "Devido a alta incidência de valores ausentes, 20% das tuplas e em 24% das tuplas, respectivamente, eliminaremos esse atribuito do *dataset*"
      ],
      "metadata": {
        "id": "bh7UGsuYnSMn"
      }
    },
    {
      "cell_type": "code",
      "source": [
        "df = df.drop('taster_name', axis=1)\n",
        "df = df.drop('taster_twitter_handle', axis=1)"
      ],
      "metadata": {
        "id": "sUNcPClQnvsr"
      },
      "execution_count": 78,
      "outputs": []
    },
    {
      "cell_type": "markdown",
      "source": [
        "## *Title*\n",
        "\n",
        "O atributo *Title* não necessita de tratamento neste primeiro momento"
      ],
      "metadata": {
        "id": "aGwdRpDZn-Qs"
      }
    },
    {
      "cell_type": "markdown",
      "source": [
        "## *Variety*\n",
        "\n",
        "Eliminaremos as tuplas nos quais o valor de *variety* é nulo e em seguida codificaremos com um número que representará cada tipo de uva usado para produção do vinho"
      ],
      "metadata": {
        "id": "Lqo94n7UoOVo"
      }
    },
    {
      "cell_type": "code",
      "source": [
        "df = df.dropna(subset=['variety'])\n",
        "\n",
        "# Mapeia cada variedade com um número\n",
        "uniqui_varieties = df['variety'].unique()\n",
        "map_of_varieties = {variety: i for i, variety in enumerate(uniqui_varieties)}\n",
        "\n",
        "# Aplicar o mapeamento à coluna 'variety'\n",
        "df['variety'] = df['variety'].map(map_of_varieties)"
      ],
      "metadata": {
        "id": "vvFFJumKo9dr"
      },
      "execution_count": 79,
      "outputs": []
    },
    {
      "cell_type": "markdown",
      "source": [
        "## *Winery*\n",
        "\n",
        "Codificaremos com um número que representará cada tipo de vinícola"
      ],
      "metadata": {
        "id": "RBley0zRpslA"
      }
    },
    {
      "cell_type": "code",
      "source": [
        "# Mapeia cada vinícola com um número\n",
        "uniqui_wineries = df['winery'].unique()\n",
        "map_of_wineries = {winery: i for i, winery in enumerate(uniqui_wineries)}\n",
        "\n",
        "# Aplicar o mapeamento à coluna 'winery'\n",
        "df['winery'] = df['winery'].map(map_of_wineries)"
      ],
      "metadata": {
        "id": "HLhrDHlIprnW"
      },
      "execution_count": 80,
      "outputs": []
    },
    {
      "cell_type": "code",
      "source": [
        "df"
      ],
      "metadata": {
        "id": "G2IIBq4oqFyk",
        "colab": {
          "base_uri": "https://localhost:8080/",
          "height": 614
        },
        "outputId": "7ed8c4bc-352d-4c9e-a0c3-4504880f54df"
      },
      "execution_count": 81,
      "outputs": [
        {
          "output_type": "execute_result",
          "data": {
            "text/plain": [
              "        Unnamed: 0  country  \\\n",
              "2                2        2   \n",
              "3                3        2   \n",
              "4                4        2   \n",
              "5                5        3   \n",
              "6                6        0   \n",
              "...            ...      ...   \n",
              "129965      129965        4   \n",
              "129967      129967        2   \n",
              "129968      129968        4   \n",
              "129969      129969        4   \n",
              "129970      129970        4   \n",
              "\n",
              "                                              description  points     price  \\\n",
              "2       Tart and snappy, the flavors of lime flesh and...    0.35  0.064935   \n",
              "3       Pineapple rind, lemon pith and orange blossom ...    0.35  0.058442   \n",
              "4       Much like the regular bottling from 2012, this...    0.35  0.396104   \n",
              "5       Blackberry and raspberry aromas show a typical...    0.35  0.071429   \n",
              "6       Here's a bright, informal red that opens with ...    0.35  0.077922   \n",
              "...                                                   ...     ...       ...   \n",
              "129965  While it's rich, this beautiful dry wine also ...    0.50  0.155844   \n",
              "129967  Citation is given as much as a decade of bottl...    0.50  0.461039   \n",
              "129968  Well-drained gravel soil gives this wine its c...    0.50  0.168831   \n",
              "129969  A dry style of Pinot Gris, this is crisp with ...    0.50  0.181818   \n",
              "129970  Big, rich and off-dry, this is powered by inte...    0.50  0.110390   \n",
              "\n",
              "        province  region_1                                              title  \\\n",
              "2              1         0      Rainstorm 2013 Pinot Gris (Willamette Valley)   \n",
              "3              2         1  St. Julian 2013 Reserve Late Harvest Riesling ...   \n",
              "4              1         0  Sweet Cheeks 2012 Vintner's Reserve Wild Child...   \n",
              "5              3         2  Tandem 2011 Ars In Vitro Tempranillo-Merlot (N...   \n",
              "6              4         3   Terre di Giurfo 2013 Belsito Frappato (Vittoria)   \n",
              "...          ...       ...                                                ...   \n",
              "129965         5         4  Domaine Rieflé-Landmann 2013 Seppi Landmann Va...   \n",
              "129967         1        12                  Citation 2004 Pinot Noir (Oregon)   \n",
              "129968         5         4  Domaine Gresser 2013 Kritt Gewurztraminer (Als...   \n",
              "129969         5         4      Domaine Marcel Deiss 2012 Pinot Gris (Alsace)   \n",
              "129970         5         4  Domaine Schoffit 2012 Lieu-dit Harth Cuvée Car...   \n",
              "\n",
              "        variety  winery  \n",
              "2             0       0  \n",
              "3             1       1  \n",
              "4             2       2  \n",
              "5             3       3  \n",
              "6             4       4  \n",
              "...         ...     ...  \n",
              "129965        0    6809  \n",
              "129967        2    6027  \n",
              "129968        5    8789  \n",
              "129969        0    4214  \n",
              "129970        5    2199  \n",
              "\n",
              "[100347 rows x 10 columns]"
            ],
            "text/html": [
              "\n",
              "  <div id=\"df-00f9e8d3-2c78-4c04-924c-dd3038680970\" class=\"colab-df-container\">\n",
              "    <div>\n",
              "<style scoped>\n",
              "    .dataframe tbody tr th:only-of-type {\n",
              "        vertical-align: middle;\n",
              "    }\n",
              "\n",
              "    .dataframe tbody tr th {\n",
              "        vertical-align: top;\n",
              "    }\n",
              "\n",
              "    .dataframe thead th {\n",
              "        text-align: right;\n",
              "    }\n",
              "</style>\n",
              "<table border=\"1\" class=\"dataframe\">\n",
              "  <thead>\n",
              "    <tr style=\"text-align: right;\">\n",
              "      <th></th>\n",
              "      <th>Unnamed: 0</th>\n",
              "      <th>country</th>\n",
              "      <th>description</th>\n",
              "      <th>points</th>\n",
              "      <th>price</th>\n",
              "      <th>province</th>\n",
              "      <th>region_1</th>\n",
              "      <th>title</th>\n",
              "      <th>variety</th>\n",
              "      <th>winery</th>\n",
              "    </tr>\n",
              "  </thead>\n",
              "  <tbody>\n",
              "    <tr>\n",
              "      <th>2</th>\n",
              "      <td>2</td>\n",
              "      <td>2</td>\n",
              "      <td>Tart and snappy, the flavors of lime flesh and...</td>\n",
              "      <td>0.35</td>\n",
              "      <td>0.064935</td>\n",
              "      <td>1</td>\n",
              "      <td>0</td>\n",
              "      <td>Rainstorm 2013 Pinot Gris (Willamette Valley)</td>\n",
              "      <td>0</td>\n",
              "      <td>0</td>\n",
              "    </tr>\n",
              "    <tr>\n",
              "      <th>3</th>\n",
              "      <td>3</td>\n",
              "      <td>2</td>\n",
              "      <td>Pineapple rind, lemon pith and orange blossom ...</td>\n",
              "      <td>0.35</td>\n",
              "      <td>0.058442</td>\n",
              "      <td>2</td>\n",
              "      <td>1</td>\n",
              "      <td>St. Julian 2013 Reserve Late Harvest Riesling ...</td>\n",
              "      <td>1</td>\n",
              "      <td>1</td>\n",
              "    </tr>\n",
              "    <tr>\n",
              "      <th>4</th>\n",
              "      <td>4</td>\n",
              "      <td>2</td>\n",
              "      <td>Much like the regular bottling from 2012, this...</td>\n",
              "      <td>0.35</td>\n",
              "      <td>0.396104</td>\n",
              "      <td>1</td>\n",
              "      <td>0</td>\n",
              "      <td>Sweet Cheeks 2012 Vintner's Reserve Wild Child...</td>\n",
              "      <td>2</td>\n",
              "      <td>2</td>\n",
              "    </tr>\n",
              "    <tr>\n",
              "      <th>5</th>\n",
              "      <td>5</td>\n",
              "      <td>3</td>\n",
              "      <td>Blackberry and raspberry aromas show a typical...</td>\n",
              "      <td>0.35</td>\n",
              "      <td>0.071429</td>\n",
              "      <td>3</td>\n",
              "      <td>2</td>\n",
              "      <td>Tandem 2011 Ars In Vitro Tempranillo-Merlot (N...</td>\n",
              "      <td>3</td>\n",
              "      <td>3</td>\n",
              "    </tr>\n",
              "    <tr>\n",
              "      <th>6</th>\n",
              "      <td>6</td>\n",
              "      <td>0</td>\n",
              "      <td>Here's a bright, informal red that opens with ...</td>\n",
              "      <td>0.35</td>\n",
              "      <td>0.077922</td>\n",
              "      <td>4</td>\n",
              "      <td>3</td>\n",
              "      <td>Terre di Giurfo 2013 Belsito Frappato (Vittoria)</td>\n",
              "      <td>4</td>\n",
              "      <td>4</td>\n",
              "    </tr>\n",
              "    <tr>\n",
              "      <th>...</th>\n",
              "      <td>...</td>\n",
              "      <td>...</td>\n",
              "      <td>...</td>\n",
              "      <td>...</td>\n",
              "      <td>...</td>\n",
              "      <td>...</td>\n",
              "      <td>...</td>\n",
              "      <td>...</td>\n",
              "      <td>...</td>\n",
              "      <td>...</td>\n",
              "    </tr>\n",
              "    <tr>\n",
              "      <th>129965</th>\n",
              "      <td>129965</td>\n",
              "      <td>4</td>\n",
              "      <td>While it's rich, this beautiful dry wine also ...</td>\n",
              "      <td>0.50</td>\n",
              "      <td>0.155844</td>\n",
              "      <td>5</td>\n",
              "      <td>4</td>\n",
              "      <td>Domaine Rieflé-Landmann 2013 Seppi Landmann Va...</td>\n",
              "      <td>0</td>\n",
              "      <td>6809</td>\n",
              "    </tr>\n",
              "    <tr>\n",
              "      <th>129967</th>\n",
              "      <td>129967</td>\n",
              "      <td>2</td>\n",
              "      <td>Citation is given as much as a decade of bottl...</td>\n",
              "      <td>0.50</td>\n",
              "      <td>0.461039</td>\n",
              "      <td>1</td>\n",
              "      <td>12</td>\n",
              "      <td>Citation 2004 Pinot Noir (Oregon)</td>\n",
              "      <td>2</td>\n",
              "      <td>6027</td>\n",
              "    </tr>\n",
              "    <tr>\n",
              "      <th>129968</th>\n",
              "      <td>129968</td>\n",
              "      <td>4</td>\n",
              "      <td>Well-drained gravel soil gives this wine its c...</td>\n",
              "      <td>0.50</td>\n",
              "      <td>0.168831</td>\n",
              "      <td>5</td>\n",
              "      <td>4</td>\n",
              "      <td>Domaine Gresser 2013 Kritt Gewurztraminer (Als...</td>\n",
              "      <td>5</td>\n",
              "      <td>8789</td>\n",
              "    </tr>\n",
              "    <tr>\n",
              "      <th>129969</th>\n",
              "      <td>129969</td>\n",
              "      <td>4</td>\n",
              "      <td>A dry style of Pinot Gris, this is crisp with ...</td>\n",
              "      <td>0.50</td>\n",
              "      <td>0.181818</td>\n",
              "      <td>5</td>\n",
              "      <td>4</td>\n",
              "      <td>Domaine Marcel Deiss 2012 Pinot Gris (Alsace)</td>\n",
              "      <td>0</td>\n",
              "      <td>4214</td>\n",
              "    </tr>\n",
              "    <tr>\n",
              "      <th>129970</th>\n",
              "      <td>129970</td>\n",
              "      <td>4</td>\n",
              "      <td>Big, rich and off-dry, this is powered by inte...</td>\n",
              "      <td>0.50</td>\n",
              "      <td>0.110390</td>\n",
              "      <td>5</td>\n",
              "      <td>4</td>\n",
              "      <td>Domaine Schoffit 2012 Lieu-dit Harth Cuvée Car...</td>\n",
              "      <td>5</td>\n",
              "      <td>2199</td>\n",
              "    </tr>\n",
              "  </tbody>\n",
              "</table>\n",
              "<p>100347 rows × 10 columns</p>\n",
              "</div>\n",
              "    <div class=\"colab-df-buttons\">\n",
              "\n",
              "  <div class=\"colab-df-container\">\n",
              "    <button class=\"colab-df-convert\" onclick=\"convertToInteractive('df-00f9e8d3-2c78-4c04-924c-dd3038680970')\"\n",
              "            title=\"Convert this dataframe to an interactive table.\"\n",
              "            style=\"display:none;\">\n",
              "\n",
              "  <svg xmlns=\"http://www.w3.org/2000/svg\" height=\"24px\" viewBox=\"0 -960 960 960\">\n",
              "    <path d=\"M120-120v-720h720v720H120Zm60-500h600v-160H180v160Zm220 220h160v-160H400v160Zm0 220h160v-160H400v160ZM180-400h160v-160H180v160Zm440 0h160v-160H620v160ZM180-180h160v-160H180v160Zm440 0h160v-160H620v160Z\"/>\n",
              "  </svg>\n",
              "    </button>\n",
              "\n",
              "  <style>\n",
              "    .colab-df-container {\n",
              "      display:flex;\n",
              "      gap: 12px;\n",
              "    }\n",
              "\n",
              "    .colab-df-convert {\n",
              "      background-color: #E8F0FE;\n",
              "      border: none;\n",
              "      border-radius: 50%;\n",
              "      cursor: pointer;\n",
              "      display: none;\n",
              "      fill: #1967D2;\n",
              "      height: 32px;\n",
              "      padding: 0 0 0 0;\n",
              "      width: 32px;\n",
              "    }\n",
              "\n",
              "    .colab-df-convert:hover {\n",
              "      background-color: #E2EBFA;\n",
              "      box-shadow: 0px 1px 2px rgba(60, 64, 67, 0.3), 0px 1px 3px 1px rgba(60, 64, 67, 0.15);\n",
              "      fill: #174EA6;\n",
              "    }\n",
              "\n",
              "    .colab-df-buttons div {\n",
              "      margin-bottom: 4px;\n",
              "    }\n",
              "\n",
              "    [theme=dark] .colab-df-convert {\n",
              "      background-color: #3B4455;\n",
              "      fill: #D2E3FC;\n",
              "    }\n",
              "\n",
              "    [theme=dark] .colab-df-convert:hover {\n",
              "      background-color: #434B5C;\n",
              "      box-shadow: 0px 1px 3px 1px rgba(0, 0, 0, 0.15);\n",
              "      filter: drop-shadow(0px 1px 2px rgba(0, 0, 0, 0.3));\n",
              "      fill: #FFFFFF;\n",
              "    }\n",
              "  </style>\n",
              "\n",
              "    <script>\n",
              "      const buttonEl =\n",
              "        document.querySelector('#df-00f9e8d3-2c78-4c04-924c-dd3038680970 button.colab-df-convert');\n",
              "      buttonEl.style.display =\n",
              "        google.colab.kernel.accessAllowed ? 'block' : 'none';\n",
              "\n",
              "      async function convertToInteractive(key) {\n",
              "        const element = document.querySelector('#df-00f9e8d3-2c78-4c04-924c-dd3038680970');\n",
              "        const dataTable =\n",
              "          await google.colab.kernel.invokeFunction('convertToInteractive',\n",
              "                                                    [key], {});\n",
              "        if (!dataTable) return;\n",
              "\n",
              "        const docLinkHtml = 'Like what you see? Visit the ' +\n",
              "          '<a target=\"_blank\" href=https://colab.research.google.com/notebooks/data_table.ipynb>data table notebook</a>'\n",
              "          + ' to learn more about interactive tables.';\n",
              "        element.innerHTML = '';\n",
              "        dataTable['output_type'] = 'display_data';\n",
              "        await google.colab.output.renderOutput(dataTable, element);\n",
              "        const docLink = document.createElement('div');\n",
              "        docLink.innerHTML = docLinkHtml;\n",
              "        element.appendChild(docLink);\n",
              "      }\n",
              "    </script>\n",
              "  </div>\n",
              "\n",
              "\n",
              "<div id=\"df-788f526d-ec59-4f34-8600-5597b9571669\">\n",
              "  <button class=\"colab-df-quickchart\" onclick=\"quickchart('df-788f526d-ec59-4f34-8600-5597b9571669')\"\n",
              "            title=\"Suggest charts\"\n",
              "            style=\"display:none;\">\n",
              "\n",
              "<svg xmlns=\"http://www.w3.org/2000/svg\" height=\"24px\"viewBox=\"0 0 24 24\"\n",
              "     width=\"24px\">\n",
              "    <g>\n",
              "        <path d=\"M19 3H5c-1.1 0-2 .9-2 2v14c0 1.1.9 2 2 2h14c1.1 0 2-.9 2-2V5c0-1.1-.9-2-2-2zM9 17H7v-7h2v7zm4 0h-2V7h2v10zm4 0h-2v-4h2v4z\"/>\n",
              "    </g>\n",
              "</svg>\n",
              "  </button>\n",
              "\n",
              "<style>\n",
              "  .colab-df-quickchart {\n",
              "      --bg-color: #E8F0FE;\n",
              "      --fill-color: #1967D2;\n",
              "      --hover-bg-color: #E2EBFA;\n",
              "      --hover-fill-color: #174EA6;\n",
              "      --disabled-fill-color: #AAA;\n",
              "      --disabled-bg-color: #DDD;\n",
              "  }\n",
              "\n",
              "  [theme=dark] .colab-df-quickchart {\n",
              "      --bg-color: #3B4455;\n",
              "      --fill-color: #D2E3FC;\n",
              "      --hover-bg-color: #434B5C;\n",
              "      --hover-fill-color: #FFFFFF;\n",
              "      --disabled-bg-color: #3B4455;\n",
              "      --disabled-fill-color: #666;\n",
              "  }\n",
              "\n",
              "  .colab-df-quickchart {\n",
              "    background-color: var(--bg-color);\n",
              "    border: none;\n",
              "    border-radius: 50%;\n",
              "    cursor: pointer;\n",
              "    display: none;\n",
              "    fill: var(--fill-color);\n",
              "    height: 32px;\n",
              "    padding: 0;\n",
              "    width: 32px;\n",
              "  }\n",
              "\n",
              "  .colab-df-quickchart:hover {\n",
              "    background-color: var(--hover-bg-color);\n",
              "    box-shadow: 0 1px 2px rgba(60, 64, 67, 0.3), 0 1px 3px 1px rgba(60, 64, 67, 0.15);\n",
              "    fill: var(--button-hover-fill-color);\n",
              "  }\n",
              "\n",
              "  .colab-df-quickchart-complete:disabled,\n",
              "  .colab-df-quickchart-complete:disabled:hover {\n",
              "    background-color: var(--disabled-bg-color);\n",
              "    fill: var(--disabled-fill-color);\n",
              "    box-shadow: none;\n",
              "  }\n",
              "\n",
              "  .colab-df-spinner {\n",
              "    border: 2px solid var(--fill-color);\n",
              "    border-color: transparent;\n",
              "    border-bottom-color: var(--fill-color);\n",
              "    animation:\n",
              "      spin 1s steps(1) infinite;\n",
              "  }\n",
              "\n",
              "  @keyframes spin {\n",
              "    0% {\n",
              "      border-color: transparent;\n",
              "      border-bottom-color: var(--fill-color);\n",
              "      border-left-color: var(--fill-color);\n",
              "    }\n",
              "    20% {\n",
              "      border-color: transparent;\n",
              "      border-left-color: var(--fill-color);\n",
              "      border-top-color: var(--fill-color);\n",
              "    }\n",
              "    30% {\n",
              "      border-color: transparent;\n",
              "      border-left-color: var(--fill-color);\n",
              "      border-top-color: var(--fill-color);\n",
              "      border-right-color: var(--fill-color);\n",
              "    }\n",
              "    40% {\n",
              "      border-color: transparent;\n",
              "      border-right-color: var(--fill-color);\n",
              "      border-top-color: var(--fill-color);\n",
              "    }\n",
              "    60% {\n",
              "      border-color: transparent;\n",
              "      border-right-color: var(--fill-color);\n",
              "    }\n",
              "    80% {\n",
              "      border-color: transparent;\n",
              "      border-right-color: var(--fill-color);\n",
              "      border-bottom-color: var(--fill-color);\n",
              "    }\n",
              "    90% {\n",
              "      border-color: transparent;\n",
              "      border-bottom-color: var(--fill-color);\n",
              "    }\n",
              "  }\n",
              "</style>\n",
              "\n",
              "  <script>\n",
              "    async function quickchart(key) {\n",
              "      const quickchartButtonEl =\n",
              "        document.querySelector('#' + key + ' button');\n",
              "      quickchartButtonEl.disabled = true;  // To prevent multiple clicks.\n",
              "      quickchartButtonEl.classList.add('colab-df-spinner');\n",
              "      try {\n",
              "        const charts = await google.colab.kernel.invokeFunction(\n",
              "            'suggestCharts', [key], {});\n",
              "      } catch (error) {\n",
              "        console.error('Error during call to suggestCharts:', error);\n",
              "      }\n",
              "      quickchartButtonEl.classList.remove('colab-df-spinner');\n",
              "      quickchartButtonEl.classList.add('colab-df-quickchart-complete');\n",
              "    }\n",
              "    (() => {\n",
              "      let quickchartButtonEl =\n",
              "        document.querySelector('#df-788f526d-ec59-4f34-8600-5597b9571669 button');\n",
              "      quickchartButtonEl.style.display =\n",
              "        google.colab.kernel.accessAllowed ? 'block' : 'none';\n",
              "    })();\n",
              "  </script>\n",
              "</div>\n",
              "\n",
              "  <div id=\"id_5ce920a1-14b2-4d66-bb53-19c0391016b0\">\n",
              "    <style>\n",
              "      .colab-df-generate {\n",
              "        background-color: #E8F0FE;\n",
              "        border: none;\n",
              "        border-radius: 50%;\n",
              "        cursor: pointer;\n",
              "        display: none;\n",
              "        fill: #1967D2;\n",
              "        height: 32px;\n",
              "        padding: 0 0 0 0;\n",
              "        width: 32px;\n",
              "      }\n",
              "\n",
              "      .colab-df-generate:hover {\n",
              "        background-color: #E2EBFA;\n",
              "        box-shadow: 0px 1px 2px rgba(60, 64, 67, 0.3), 0px 1px 3px 1px rgba(60, 64, 67, 0.15);\n",
              "        fill: #174EA6;\n",
              "      }\n",
              "\n",
              "      [theme=dark] .colab-df-generate {\n",
              "        background-color: #3B4455;\n",
              "        fill: #D2E3FC;\n",
              "      }\n",
              "\n",
              "      [theme=dark] .colab-df-generate:hover {\n",
              "        background-color: #434B5C;\n",
              "        box-shadow: 0px 1px 3px 1px rgba(0, 0, 0, 0.15);\n",
              "        filter: drop-shadow(0px 1px 2px rgba(0, 0, 0, 0.3));\n",
              "        fill: #FFFFFF;\n",
              "      }\n",
              "    </style>\n",
              "    <button class=\"colab-df-generate\" onclick=\"generateWithVariable('df')\"\n",
              "            title=\"Generate code using this dataframe.\"\n",
              "            style=\"display:none;\">\n",
              "\n",
              "  <svg xmlns=\"http://www.w3.org/2000/svg\" height=\"24px\"viewBox=\"0 0 24 24\"\n",
              "       width=\"24px\">\n",
              "    <path d=\"M7,19H8.4L18.45,9,17,7.55,7,17.6ZM5,21V16.75L18.45,3.32a2,2,0,0,1,2.83,0l1.4,1.43a1.91,1.91,0,0,1,.58,1.4,1.91,1.91,0,0,1-.58,1.4L9.25,21ZM18.45,9,17,7.55Zm-12,3A5.31,5.31,0,0,0,4.9,8.1,5.31,5.31,0,0,0,1,6.5,5.31,5.31,0,0,0,4.9,4.9,5.31,5.31,0,0,0,6.5,1,5.31,5.31,0,0,0,8.1,4.9,5.31,5.31,0,0,0,12,6.5,5.46,5.46,0,0,0,6.5,12Z\"/>\n",
              "  </svg>\n",
              "    </button>\n",
              "    <script>\n",
              "      (() => {\n",
              "      const buttonEl =\n",
              "        document.querySelector('#id_5ce920a1-14b2-4d66-bb53-19c0391016b0 button.colab-df-generate');\n",
              "      buttonEl.style.display =\n",
              "        google.colab.kernel.accessAllowed ? 'block' : 'none';\n",
              "\n",
              "      buttonEl.onclick = () => {\n",
              "        google.colab.notebook.generateWithVariable('df');\n",
              "      }\n",
              "      })();\n",
              "    </script>\n",
              "  </div>\n",
              "\n",
              "    </div>\n",
              "  </div>\n"
            ],
            "application/vnd.google.colaboratory.intrinsic+json": {
              "type": "dataframe",
              "variable_name": "df"
            }
          },
          "metadata": {},
          "execution_count": 81
        }
      ]
    },
    {
      "cell_type": "markdown",
      "source": [
        "Por fim, salvando o dataset unificado:"
      ],
      "metadata": {
        "id": "RjbTEV40obfH"
      }
    },
    {
      "cell_type": "code",
      "source": [
        "df.to_csv('/content/prepared_wine_reviews.csv', index=False)"
      ],
      "metadata": {
        "id": "Fk5ymRqWobES"
      },
      "execution_count": 83,
      "outputs": []
    }
  ],
  "metadata": {
    "colab": {
      "provenance": []
    },
    "kernelspec": {
      "display_name": "Python 3",
      "name": "python3"
    },
    "language_info": {
      "codemirror_mode": {
        "name": "ipython",
        "version": 3
      },
      "file_extension": ".py",
      "mimetype": "text/x-python",
      "name": "python",
      "nbconvert_exporter": "python",
      "pygments_lexer": "ipython3",
      "version": "3.11.9"
    }
  },
  "nbformat": 4,
  "nbformat_minor": 0
}