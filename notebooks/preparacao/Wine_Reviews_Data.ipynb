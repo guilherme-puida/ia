{
 "cells": [
  {
   "cell_type": "code",
   "execution_count": 1,
   "id": "1908e354",
   "metadata": {
    "scrolled": true
   },
   "outputs": [],
   "source": [
    "import pandas as pd\n",
    "import matplotlib.pyplot as plt"
   ]
  },
  {
   "cell_type": "code",
   "execution_count": 2,
   "id": "ce663730",
   "metadata": {},
   "outputs": [],
   "source": [
    "df = pd.read_csv(\"../../data/wine.csv\")"
   ]
  },
  {
   "cell_type": "markdown",
   "id": "aeecc39b",
   "metadata": {},
   "source": [
    "# display do dataframe original"
   ]
  },
  {
   "cell_type": "code",
   "execution_count": 3,
   "id": "5cbf4fa2",
   "metadata": {
    "scrolled": true
   },
   "outputs": [
    {
     "data": {
      "text/html": [
       "<div>\n",
       "<style scoped>\n",
       "    .dataframe tbody tr th:only-of-type {\n",
       "        vertical-align: middle;\n",
       "    }\n",
       "\n",
       "    .dataframe tbody tr th {\n",
       "        vertical-align: top;\n",
       "    }\n",
       "\n",
       "    .dataframe thead th {\n",
       "        text-align: right;\n",
       "    }\n",
       "</style>\n",
       "<table border=\"1\" class=\"dataframe\">\n",
       "  <thead>\n",
       "    <tr style=\"text-align: right;\">\n",
       "      <th></th>\n",
       "      <th>wine</th>\n",
       "      <th>winery</th>\n",
       "      <th>category</th>\n",
       "      <th>designation</th>\n",
       "      <th>varietal</th>\n",
       "      <th>appellation</th>\n",
       "      <th>alcohol</th>\n",
       "      <th>price</th>\n",
       "      <th>rating</th>\n",
       "      <th>reviewer</th>\n",
       "      <th>review</th>\n",
       "    </tr>\n",
       "  </thead>\n",
       "  <tbody>\n",
       "    <tr>\n",
       "      <th>0</th>\n",
       "      <td>J. Lohr 2000 Hilltop Vineyard Cabernet Sauvign...</td>\n",
       "      <td>J. Lohr</td>\n",
       "      <td>Red</td>\n",
       "      <td>Hilltop Vineyard</td>\n",
       "      <td>Cabernet Sauvignon</td>\n",
       "      <td>Paso Robles, Central Coast, California, US</td>\n",
       "      <td>NaN</td>\n",
       "      <td>$32</td>\n",
       "      <td>87</td>\n",
       "      <td>NaN</td>\n",
       "      <td>Held back nearly five years, this Cab still ha...</td>\n",
       "    </tr>\n",
       "    <tr>\n",
       "      <th>1</th>\n",
       "      <td>Antucura 2010 Pinot Noir (Vista Flores)</td>\n",
       "      <td>Antucura</td>\n",
       "      <td>Red</td>\n",
       "      <td>NaN</td>\n",
       "      <td>Pinot Noir</td>\n",
       "      <td>Vista Flores, Mendoza Province, Argentina</td>\n",
       "      <td>15%</td>\n",
       "      <td>$17</td>\n",
       "      <td>85</td>\n",
       "      <td>Michael Schachner</td>\n",
       "      <td>Rubbery, bold and earthy on the nose, then ful...</td>\n",
       "    </tr>\n",
       "    <tr>\n",
       "      <th>2</th>\n",
       "      <td>Quinta do Portal 1999 Quinta do Portal Reserva...</td>\n",
       "      <td>Quinta do Portal</td>\n",
       "      <td>Red</td>\n",
       "      <td>Quinta do Portal Reserva</td>\n",
       "      <td>Red Blends, Red Blends</td>\n",
       "      <td>Douro, Portugal</td>\n",
       "      <td>NaN</td>\n",
       "      <td>NaN</td>\n",
       "      <td>90</td>\n",
       "      <td>Roger Voss</td>\n",
       "      <td>Smoky, meaty aromas lead into perfumed fruit f...</td>\n",
       "    </tr>\n",
       "    <tr>\n",
       "      <th>3</th>\n",
       "      <td>Tenuta di Ghizzano 2006 Il Ghizzano Red (Toscana)</td>\n",
       "      <td>Tenuta di Ghizzano</td>\n",
       "      <td>Red</td>\n",
       "      <td>Il Ghizzano</td>\n",
       "      <td>Red Blends, Red Blends</td>\n",
       "      <td>Toscana, Tuscany, Italy</td>\n",
       "      <td>13.5%</td>\n",
       "      <td>$18</td>\n",
       "      <td>86</td>\n",
       "      <td>NaN</td>\n",
       "      <td>The nose is rather neutral save for distant ar...</td>\n",
       "    </tr>\n",
       "    <tr>\n",
       "      <th>4</th>\n",
       "      <td>Tenuta San Francesco 2007 Tramonti White (Camp...</td>\n",
       "      <td>Tenuta San Francesco</td>\n",
       "      <td>White</td>\n",
       "      <td>Tramonti</td>\n",
       "      <td>White Blend</td>\n",
       "      <td>Campania, Southern Italy, Italy</td>\n",
       "      <td>13.5%</td>\n",
       "      <td>$21</td>\n",
       "      <td>85</td>\n",
       "      <td>NaN</td>\n",
       "      <td>This intriguing blend of Falanghina, Biancolel...</td>\n",
       "    </tr>\n",
       "    <tr>\n",
       "      <th>...</th>\n",
       "      <td>...</td>\n",
       "      <td>...</td>\n",
       "      <td>...</td>\n",
       "      <td>...</td>\n",
       "      <td>...</td>\n",
       "      <td>...</td>\n",
       "      <td>...</td>\n",
       "      <td>...</td>\n",
       "      <td>...</td>\n",
       "      <td>...</td>\n",
       "      <td>...</td>\n",
       "    </tr>\n",
       "    <tr>\n",
       "      <th>323232</th>\n",
       "      <td>Maddalena 2017 Rosé (Paso Robles)</td>\n",
       "      <td>Maddalena</td>\n",
       "      <td>Rose</td>\n",
       "      <td>NaN</td>\n",
       "      <td>Rosé</td>\n",
       "      <td>Paso Robles, Central Coast, California, US</td>\n",
       "      <td>12.5%</td>\n",
       "      <td>$18</td>\n",
       "      <td>87</td>\n",
       "      <td>Matt Kettmann</td>\n",
       "      <td>Candied raspberry, cranberry, orange juice and...</td>\n",
       "    </tr>\n",
       "    <tr>\n",
       "      <th>323233</th>\n",
       "      <td>Toscolo 2015  Vernaccia di San Gimignano</td>\n",
       "      <td>Toscolo</td>\n",
       "      <td>White</td>\n",
       "      <td>NaN</td>\n",
       "      <td>Vernaccia, Italian White</td>\n",
       "      <td>Vernaccia di San Gimignano, Tuscany, Italy</td>\n",
       "      <td>12.5%</td>\n",
       "      <td>$11</td>\n",
       "      <td>87</td>\n",
       "      <td>Kerin O’Keefe</td>\n",
       "      <td>Aromas of white spring flower, yellow pear and...</td>\n",
       "    </tr>\n",
       "    <tr>\n",
       "      <th>323234</th>\n",
       "      <td>Domaine G. Metz 2017 Pinot Blanc (Alsace)</td>\n",
       "      <td>Domaine G. Metz</td>\n",
       "      <td>White</td>\n",
       "      <td>NaN</td>\n",
       "      <td>Pinot Blanc</td>\n",
       "      <td>Alsace, Alsace, France</td>\n",
       "      <td>13%</td>\n",
       "      <td>$20</td>\n",
       "      <td>90</td>\n",
       "      <td>Anne Krebiehl MW</td>\n",
       "      <td>A tinge of earth clings to the ripe, almost ju...</td>\n",
       "    </tr>\n",
       "    <tr>\n",
       "      <th>323235</th>\n",
       "      <td>Huston 2019 Chicken Dinner Red (Idaho)</td>\n",
       "      <td>Huston</td>\n",
       "      <td>Red</td>\n",
       "      <td>Chicken Dinner</td>\n",
       "      <td>Red Blends, Red Blends</td>\n",
       "      <td>Idaho, Idaho, US</td>\n",
       "      <td>14.3%</td>\n",
       "      <td>$18</td>\n",
       "      <td>87</td>\n",
       "      <td>Sean P. Sullivan</td>\n",
       "      <td>Fruit-forward aromas of plum, huckleberry and ...</td>\n",
       "    </tr>\n",
       "    <tr>\n",
       "      <th>323236</th>\n",
       "      <td>La Selva 2008  Maremma</td>\n",
       "      <td>La Selva</td>\n",
       "      <td>Red</td>\n",
       "      <td>NaN</td>\n",
       "      <td>Ciliegiolo, Italian White</td>\n",
       "      <td>Maremma, Tuscany, Italy</td>\n",
       "      <td>13.5%</td>\n",
       "      <td>$28</td>\n",
       "      <td>86</td>\n",
       "      <td>NaN</td>\n",
       "      <td>Made from organically farmed Ciliegiolo (one o...</td>\n",
       "    </tr>\n",
       "  </tbody>\n",
       "</table>\n",
       "<p>323237 rows × 11 columns</p>\n",
       "</div>"
      ],
      "text/plain": [
       "                                                     wine  \\\n",
       "0       J. Lohr 2000 Hilltop Vineyard Cabernet Sauvign...   \n",
       "1                 Antucura 2010 Pinot Noir (Vista Flores)   \n",
       "2       Quinta do Portal 1999 Quinta do Portal Reserva...   \n",
       "3       Tenuta di Ghizzano 2006 Il Ghizzano Red (Toscana)   \n",
       "4       Tenuta San Francesco 2007 Tramonti White (Camp...   \n",
       "...                                                   ...   \n",
       "323232                  Maddalena 2017 Rosé (Paso Robles)   \n",
       "323233           Toscolo 2015  Vernaccia di San Gimignano   \n",
       "323234          Domaine G. Metz 2017 Pinot Blanc (Alsace)   \n",
       "323235             Huston 2019 Chicken Dinner Red (Idaho)   \n",
       "323236                             La Selva 2008  Maremma   \n",
       "\n",
       "                      winery category               designation  \\\n",
       "0                    J. Lohr      Red          Hilltop Vineyard   \n",
       "1                   Antucura      Red                       NaN   \n",
       "2           Quinta do Portal      Red  Quinta do Portal Reserva   \n",
       "3         Tenuta di Ghizzano      Red               Il Ghizzano   \n",
       "4       Tenuta San Francesco    White                  Tramonti   \n",
       "...                      ...      ...                       ...   \n",
       "323232             Maddalena     Rose                       NaN   \n",
       "323233               Toscolo    White                       NaN   \n",
       "323234       Domaine G. Metz    White                       NaN   \n",
       "323235                Huston      Red            Chicken Dinner   \n",
       "323236              La Selva      Red                       NaN   \n",
       "\n",
       "                         varietal                                 appellation  \\\n",
       "0              Cabernet Sauvignon  Paso Robles, Central Coast, California, US   \n",
       "1                      Pinot Noir   Vista Flores, Mendoza Province, Argentina   \n",
       "2          Red Blends, Red Blends                             Douro, Portugal   \n",
       "3          Red Blends, Red Blends                     Toscana, Tuscany, Italy   \n",
       "4                     White Blend             Campania, Southern Italy, Italy   \n",
       "...                           ...                                         ...   \n",
       "323232                       Rosé  Paso Robles, Central Coast, California, US   \n",
       "323233   Vernaccia, Italian White  Vernaccia di San Gimignano, Tuscany, Italy   \n",
       "323234                Pinot Blanc                      Alsace, Alsace, France   \n",
       "323235     Red Blends, Red Blends                            Idaho, Idaho, US   \n",
       "323236  Ciliegiolo, Italian White                     Maremma, Tuscany, Italy   \n",
       "\n",
       "       alcohol price  rating           reviewer  \\\n",
       "0          NaN   $32      87                NaN   \n",
       "1          15%   $17      85  Michael Schachner   \n",
       "2          NaN   NaN      90         Roger Voss   \n",
       "3        13.5%   $18      86                NaN   \n",
       "4        13.5%   $21      85                NaN   \n",
       "...        ...   ...     ...                ...   \n",
       "323232   12.5%   $18      87      Matt Kettmann   \n",
       "323233   12.5%   $11      87      Kerin O’Keefe   \n",
       "323234     13%   $20      90   Anne Krebiehl MW   \n",
       "323235   14.3%   $18      87   Sean P. Sullivan   \n",
       "323236   13.5%   $28      86                NaN   \n",
       "\n",
       "                                                   review  \n",
       "0       Held back nearly five years, this Cab still ha...  \n",
       "1       Rubbery, bold and earthy on the nose, then ful...  \n",
       "2       Smoky, meaty aromas lead into perfumed fruit f...  \n",
       "3       The nose is rather neutral save for distant ar...  \n",
       "4       This intriguing blend of Falanghina, Biancolel...  \n",
       "...                                                   ...  \n",
       "323232  Candied raspberry, cranberry, orange juice and...  \n",
       "323233  Aromas of white spring flower, yellow pear and...  \n",
       "323234  A tinge of earth clings to the ripe, almost ju...  \n",
       "323235  Fruit-forward aromas of plum, huckleberry and ...  \n",
       "323236  Made from organically farmed Ciliegiolo (one o...  \n",
       "\n",
       "[323237 rows x 11 columns]"
      ]
     },
     "execution_count": 3,
     "metadata": {},
     "output_type": "execute_result"
    }
   ],
   "source": [
    "df"
   ]
  },
  {
   "cell_type": "markdown",
   "id": "02e593e6",
   "metadata": {},
   "source": [
    "# display de informações básicas dos dados\n",
    "### tipos de dados e quantidade de dados não nulos"
   ]
  },
  {
   "cell_type": "code",
   "execution_count": 4,
   "id": "33fc417c",
   "metadata": {
    "scrolled": false
   },
   "outputs": [
    {
     "name": "stdout",
     "output_type": "stream",
     "text": [
      "<class 'pandas.core.frame.DataFrame'>\n",
      "RangeIndex: 323237 entries, 0 to 323236\n",
      "Data columns (total 11 columns):\n",
      " #   Column       Non-Null Count   Dtype \n",
      "---  ------       --------------   ----- \n",
      " 0   wine         323237 non-null  object\n",
      " 1   winery       323237 non-null  object\n",
      " 2   category     323237 non-null  object\n",
      " 3   designation  229692 non-null  object\n",
      " 4   varietal     302190 non-null  object\n",
      " 5   appellation  320630 non-null  object\n",
      " 6   alcohol      282216 non-null  object\n",
      " 7   price        299282 non-null  object\n",
      " 8   rating       323237 non-null  int64 \n",
      " 9   reviewer     251075 non-null  object\n",
      " 10  review       322108 non-null  object\n",
      "dtypes: int64(1), object(10)\n",
      "memory usage: 27.1+ MB\n"
     ]
    }
   ],
   "source": [
    "df.info()"
   ]
  },
  {
   "cell_type": "markdown",
   "id": "ebfb782c",
   "metadata": {},
   "source": [
    "### display dos valores e suas repetições"
   ]
  },
  {
   "cell_type": "code",
   "execution_count": 5,
   "id": "cb99a49d",
   "metadata": {
    "scrolled": false
   },
   "outputs": [
    {
     "data": {
      "text/plain": [
       "Perrier Jouët NV Grand Brut  (Champagne)                       15\n",
       "Delamotte NV Brut  (Champagne)                                 14\n",
       "Gloria Ferrer NV Sonoma Brut Sparkling (Sonoma County)         14\n",
       "Deutz NV Brut Classic  (Champagne)                             14\n",
       "Pommery NV Brut Royal  (Champagne)                             13\n",
       "                                                               ..\n",
       "Santa Rita 2002 Casa Real Cabernet Sauvignon (Maipo Valley)     1\n",
       "Cameron Hughes 2005 Chardonnay (Russian River Valley)           1\n",
       "Shaw 2007 Riesling (Finger Lakes)                               1\n",
       "Elk Creek Vineyards 2006 Chardonnay (Kentucky)                  1\n",
       "La Selva 2008  Maremma                                          1\n",
       "Name: wine, Length: 318338, dtype: int64"
      ]
     },
     "execution_count": 5,
     "metadata": {},
     "output_type": "execute_result"
    }
   ],
   "source": [
    "df['wine'].value_counts()"
   ]
  },
  {
   "cell_type": "markdown",
   "id": "7289f670",
   "metadata": {},
   "source": [
    "### display dos valores e suas repetições"
   ]
  },
  {
   "cell_type": "code",
   "execution_count": 6,
   "id": "57781956",
   "metadata": {},
   "outputs": [
    {
     "data": {
      "text/plain": [
       "Williams Selyem                   500\n",
       "Chateau Ste. Michelle             489\n",
       "DFJ Vinhos                        443\n",
       "Testarossa                        443\n",
       "Kendall-Jackson                   413\n",
       "                                 ... \n",
       "Château la Croix Saint-Georges      1\n",
       "Domaine Hamelin                     1\n",
       "Tenuta di Argiano                   1\n",
       "Conde de Olzinellas                 1\n",
       "Nabuko                              1\n",
       "Name: winery, Length: 26598, dtype: int64"
      ]
     },
     "execution_count": 6,
     "metadata": {},
     "output_type": "execute_result"
    }
   ],
   "source": [
    "df['winery'].value_counts()"
   ]
  },
  {
   "cell_type": "markdown",
   "id": "61ca90c9",
   "metadata": {},
   "source": [
    "### display dos valores e suas repetições"
   ]
  },
  {
   "cell_type": "code",
   "execution_count": 7,
   "id": "0c7e1352",
   "metadata": {},
   "outputs": [
    {
     "data": {
      "text/plain": [
       "Red            194396\n",
       "White           95424\n",
       "Sparkling       14938\n",
       "Rose            11667\n",
       "Dessert          4329\n",
       "Port/Sherry      2257\n",
       "Fortified         226\n",
       "Name: category, dtype: int64"
      ]
     },
     "execution_count": 7,
     "metadata": {},
     "output_type": "execute_result"
    }
   ],
   "source": [
    "df['category'].value_counts()"
   ]
  },
  {
   "cell_type": "markdown",
   "id": "2b704fab",
   "metadata": {},
   "source": [
    "### display dos valores e suas repetições"
   ]
  },
  {
   "cell_type": "code",
   "execution_count": 8,
   "id": "d1c8d415",
   "metadata": {},
   "outputs": [
    {
     "data": {
      "text/plain": [
       "Reserve                           5183\n",
       "Estate                            3183\n",
       "Reserva                           2927\n",
       "Barrel Sample                     2497\n",
       "Riserva                           1719\n",
       "                                  ... \n",
       "Exception Brut Intense               1\n",
       "Finca San Cibrao                     1\n",
       "Blanc de Noirs Cebada Vineyard       1\n",
       "Loner R13-C                          1\n",
       "Columbia County                      1\n",
       "Name: designation, Length: 77226, dtype: int64"
      ]
     },
     "execution_count": 8,
     "metadata": {},
     "output_type": "execute_result"
    }
   ],
   "source": [
    "df['designation'].value_counts()"
   ]
  },
  {
   "cell_type": "markdown",
   "id": "7a921c24",
   "metadata": {},
   "source": [
    "### display dos valores e suas repetições"
   ]
  },
  {
   "cell_type": "code",
   "execution_count": 9,
   "id": "6bda56b9",
   "metadata": {},
   "outputs": [
    {
     "data": {
      "text/plain": [
       "Pinot Noir                                 33523\n",
       "Chardonnay                                 29439\n",
       "Cabernet Sauvignon                         23829\n",
       "Red Blends, Red Blends                     20012\n",
       "Bordeaux-style Red Blend                   17861\n",
       "                                           ...  \n",
       "Ruen, Other Red                                1\n",
       "Assyrtiko-Sauvignon Blanc, White Blend         1\n",
       "Chardonel, Other White                         1\n",
       "Grasparossa di Castelvetro, Italian Red        1\n",
       "Ehrenfelser, Other White                       1\n",
       "Name: varietal, Length: 869, dtype: int64"
      ]
     },
     "execution_count": 9,
     "metadata": {},
     "output_type": "execute_result"
    }
   ],
   "source": [
    "df['varietal'].value_counts()"
   ]
  },
  {
   "cell_type": "markdown",
   "id": "4f6db12b",
   "metadata": {},
   "source": [
    "### display dos valores e suas repetições"
   ]
  },
  {
   "cell_type": "code",
   "execution_count": 10,
   "id": "08eb3375",
   "metadata": {},
   "outputs": [
    {
     "data": {
      "text/plain": [
       "13.5%    45251\n",
       "13%      38404\n",
       "14.5%    33376\n",
       "14%      29945\n",
       "12.5%    24592\n",
       "         ...  \n",
       "225%         1\n",
       "17.3%        1\n",
       "8333%        1\n",
       "1.2%         1\n",
       "2016%        1\n",
       "Name: alcohol, Length: 553, dtype: int64"
      ]
     },
     "execution_count": 10,
     "metadata": {},
     "output_type": "execute_result"
    }
   ],
   "source": [
    "df['alcohol'].value_counts()"
   ]
  },
  {
   "cell_type": "code",
   "execution_count": 11,
   "id": "2c65cf53",
   "metadata": {},
   "outputs": [],
   "source": [
    "df['alcohol'] = df['alcohol'].astype(str).str.rstrip('%').astype(float)"
   ]
  },
  {
   "cell_type": "code",
   "execution_count": 12,
   "id": "cc216d3e",
   "metadata": {},
   "outputs": [],
   "source": [
    "df = df[df['alcohol'] <= 30]"
   ]
  },
  {
   "cell_type": "code",
   "execution_count": 13,
   "id": "033721e9",
   "metadata": {},
   "outputs": [
    {
     "data": {
      "image/png": "[encoded data removed]",
      "text/plain": [
       "<Figure size 640x480 with 1 Axes>"
      ]
     },
     "metadata": {},
     "output_type": "display_data"
    }
   ],
   "source": [
    "plt.style.use(\"classic\")\n",
    "plt.hist(df['alcohol'], bins=21)\n",
    "plt.show()"
   ]
  },
  {
   "cell_type": "markdown",
   "id": "09006da9",
   "metadata": {},
   "source": [
    "### limpeza do dado de preço removendo o \"$\""
   ]
  },
  {
   "cell_type": "code",
   "execution_count": 14,
   "id": "b79a9877",
   "metadata": {},
   "outputs": [
    {
     "name": "stderr",
     "output_type": "stream",
     "text": [
      "/tmp/ipykernel_160134/2343863788.py:1: FutureWarning: The default value of regex will change from True to False in a future version.\n",
      "  df['price'] = df['price'].str.replace('[^\\d.]', '')\n",
      "/tmp/ipykernel_160134/2343863788.py:1: SettingWithCopyWarning: \n",
      "A value is trying to be set on a copy of a slice from a DataFrame.\n",
      "Try using .loc[row_indexer,col_indexer] = value instead\n",
      "\n",
      "See the caveats in the documentation: https://pandas.pydata.org/pandas-docs/stable/user_guide/indexing.html#returning-a-view-versus-a-copy\n",
      "  df['price'] = df['price'].str.replace('[^\\d.]', '')\n",
      "/tmp/ipykernel_160134/2343863788.py:2: SettingWithCopyWarning: \n",
      "A value is trying to be set on a copy of a slice from a DataFrame.\n",
      "Try using .loc[row_indexer,col_indexer] = value instead\n",
      "\n",
      "See the caveats in the documentation: https://pandas.pydata.org/pandas-docs/stable/user_guide/indexing.html#returning-a-view-versus-a-copy\n",
      "  df['price'] = df['price'].replace('^\\.+$', '', regex=True)\n",
      "/tmp/ipykernel_160134/2343863788.py:5: SettingWithCopyWarning: \n",
      "A value is trying to be set on a copy of a slice from a DataFrame.\n",
      "Try using .loc[row_indexer,col_indexer] = value instead\n",
      "\n",
      "See the caveats in the documentation: https://pandas.pydata.org/pandas-docs/stable/user_guide/indexing.html#returning-a-view-versus-a-copy\n",
      "  df['price'] = pd.to_numeric(df['price'], errors='coerce')\n"
     ]
    }
   ],
   "source": [
    "df['price'] = df['price'].str.replace('[^\\d.]', '')\n",
    "df['price'] = df['price'].replace('^\\.+$', '', regex=True)\n",
    "\n",
    "# Convert the 'currency' column to numeric format\n",
    "df['price'] = pd.to_numeric(df['price'], errors='coerce')\n",
    "\n",
    "# Drop rows with NaN values (rows where only a period was present)\n",
    "df = df.dropna(subset=['price'])\n"
   ]
  },
  {
   "cell_type": "markdown",
   "id": "97c4ba45",
   "metadata": {},
   "source": [
    "### display dos valores e suas repetições\n",
    "é notável uma certa incongruencia nos valores, visto que tem valores bem altos"
   ]
  },
  {
   "cell_type": "code",
   "execution_count": 15,
   "id": "9a948eae",
   "metadata": {},
   "outputs": [
    {
     "data": {
      "text/plain": [
       "20.0     14608\n",
       "15.0     13047\n",
       "25.0     12569\n",
       "30.0     10720\n",
       "18.0     10024\n",
       "         ...  \n",
       "788.0        1\n",
       "386.0        1\n",
       "261.0        1\n",
       "612.0        1\n",
       "897.0        1\n",
       "Name: price, Length: 511, dtype: int64"
      ]
     },
     "execution_count": 15,
     "metadata": {},
     "output_type": "execute_result"
    }
   ],
   "source": [
    "df['price'].value_counts()"
   ]
  },
  {
   "cell_type": "markdown",
   "id": "d3a33c9a",
   "metadata": {},
   "source": [
    "### print do vinho com valores mais altos em preço"
   ]
  },
  {
   "cell_type": "code",
   "execution_count": 16,
   "id": "7967052a",
   "metadata": {
    "scrolled": false
   },
   "outputs": [
    {
     "data": {
      "text/plain": [
       "wine           Quinta do Crasto NV Honore Very Old Tawny  (Port)\n",
       "winery                                          Quinta do Crasto\n",
       "category                                             Port/Sherry\n",
       "designation                                Honore Very Old Tawny\n",
       "varietal                                        Port, Port Blend\n",
       "appellation                                       Port, Portugal\n",
       "alcohol                                                     20.0\n",
       "price                                                     8500.0\n",
       "rating                                                        98\n",
       "reviewer                                              Roger Voss\n",
       "review         This is an extraordinary wine. It was created ...\n",
       "Name: 143963, dtype: object"
      ]
     },
     "execution_count": 16,
     "metadata": {},
     "output_type": "execute_result"
    }
   ],
   "source": [
    "df.loc[df['price'].idxmax()]"
   ]
  },
  {
   "cell_type": "markdown",
   "id": "95d3af6d",
   "metadata": {},
   "source": [
    "### print do vinho com valores mais baixos em preço"
   ]
  },
  {
   "cell_type": "code",
   "execution_count": 17,
   "id": "ad6ca9f2",
   "metadata": {
    "scrolled": true
   },
   "outputs": [
    {
     "data": {
      "text/plain": [
       "wine                        Three Wishes NV Chardonnay (America)\n",
       "winery                                              Three Wishes\n",
       "category                                                   White\n",
       "designation                                                  NaN\n",
       "varietal                                              Chardonnay\n",
       "appellation                                          America, US\n",
       "alcohol                                                     12.5\n",
       "price                                                        3.0\n",
       "rating                                                        86\n",
       "reviewer                                              Jim Gordon\n",
       "review         This medium-bodied, soft-textured wine finds a...\n",
       "Name: 91841, dtype: object"
      ]
     },
     "execution_count": 17,
     "metadata": {},
     "output_type": "execute_result"
    }
   ],
   "source": [
    "df.loc[df['price'].idxmin()]"
   ]
  },
  {
   "cell_type": "markdown",
   "id": "95886c45",
   "metadata": {},
   "source": [
    "### display dos valores de rating"
   ]
  },
  {
   "cell_type": "code",
   "execution_count": 18,
   "id": "a6e52a33",
   "metadata": {
    "scrolled": true
   },
   "outputs": [
    {
     "data": {
      "text/plain": [
       "88     33699\n",
       "90     32196\n",
       "87     31439\n",
       "89     23856\n",
       "91     23237\n",
       "86     22892\n",
       "92     19927\n",
       "85     17307\n",
       "93     13978\n",
       "84     12880\n",
       "94      8326\n",
       "83      7048\n",
       "82      4430\n",
       "95      3872\n",
       "81      1718\n",
       "96      1596\n",
       "80      1067\n",
       "97       706\n",
       "98       262\n",
       "99        78\n",
       "100       59\n",
       "Name: rating, dtype: int64"
      ]
     },
     "execution_count": 18,
     "metadata": {},
     "output_type": "execute_result"
    }
   ],
   "source": [
    "df['rating'].value_counts()"
   ]
  },
  {
   "cell_type": "markdown",
   "id": "4324ed71",
   "metadata": {},
   "source": [
    "### plotagem do histograma de rating"
   ]
  },
  {
   "cell_type": "code",
   "execution_count": 19,
   "id": "ce83dd4f",
   "metadata": {
    "scrolled": true
   },
   "outputs": [
    {
     "data": {
      "image/png": "[encoded data removed]",
      "text/plain": [
       "<Figure size 640x480 with 1 Axes>"
      ]
     },
     "metadata": {},
     "output_type": "display_data"
    }
   ],
   "source": [
    "plt.style.use(\"classic\")\n",
    "plt.hist(df['rating'], bins=21)\n",
    "plt.show()"
   ]
  },
  {
   "cell_type": "markdown",
   "id": "e060eec1",
   "metadata": {},
   "source": [
    "### display dos nomes dos avaliadores"
   ]
  },
  {
   "cell_type": "code",
   "execution_count": 20,
   "id": "4777fb6e",
   "metadata": {
    "scrolled": true
   },
   "outputs": [
    {
     "data": {
      "text/plain": [
       "Roger Voss            41104\n",
       "Michael Schachner     31264\n",
       "Kerin O’Keefe         20721\n",
       "Virginie Boone        19202\n",
       "Matt Kettmann         16551\n",
       "Paul Gregutt          14202\n",
       "Joe Czerwinski        11498\n",
       "Jim Gordon            10862\n",
       "Anna Lee C. Iijima     9706\n",
       "Sean P. Sullivan       9520\n",
       "Anne Krebiehl MW       8420\n",
       "Lauren Buzzeo          3277\n",
       "Christina Pickard      3133\n",
       "Alexander Peartree     2807\n",
       "Susan Kostrzewa        2607\n",
       "Mike DeSimone          1074\n",
       "Jeff Jenssen           1001\n",
       "Fiona Adams             763\n",
       "Carrie Dykes            327\n",
       "Jesica Vargas           112\n",
       "Layla Schlack            31\n",
       "Dara Kapoor               1\n",
       "Name: reviewer, dtype: int64"
      ]
     },
     "execution_count": 20,
     "metadata": {},
     "output_type": "execute_result"
    }
   ],
   "source": [
    "df['reviewer'].value_counts()"
   ]
  },
  {
   "cell_type": "markdown",
   "id": "121d257a",
   "metadata": {},
   "source": [
    "### display das avaliações"
   ]
  },
  {
   "cell_type": "code",
   "execution_count": 21,
   "id": "457dbaf2",
   "metadata": {
    "scrolled": true
   },
   "outputs": [
    {
     "data": {
      "text/plain": [
       "Review unavailable at this time                                                                                                                                                                                                                                                                                                                                  143\n",
       "Floral and almond scents on the nose, along with stone fruits—Queen Anne cherries? Sharp, almost bitter on the palate and into the finish, which is tart and shows good length.                                                                                                                                                                                    3\n",
       "Almost too much of a good thing, Passo is a thick, jammy and modern blend of traditional Italian grapes and international varieties such as Cabernet Sauvignon and Merlot. This is a bold, big wine with a thick, chewy mouthfeel that should be paired with aged cheese or succulent meat.                                                                        2\n",
       "Subdued aromas of oak and citrus zest slowly take shape in the glass. The linear, svelte palate offers oak driven spice, lemon zest and yellow apple skin framed in racy acidity. A hint of toasted nut closes the finish.                                                                                                                                         2\n",
       "Opening with a nose of butterscotch, apple and pear aromas, this wine offers a mouth full of clean and zesty pineapple fruit on a medium-weight frame. Attractive use of oak marks the buttery finish.                                                                                                                                                             2\n",
       "                                                                                                                                                                                                                                                                                                                                                                ... \n",
       "Waxy, muted floral tones perfume this glassy, light-footed dry Riesling. The palate is fruity but crisp, suggesting tart yellow plums and limes. The finish is lean and mineral-driven but persistent. Drink now through 2021.                                                                                                                                     1\n",
       "Initially this seems completely flat and raisiny. Yet despite a flabby, heavy mouthfeel and roasted, syrupy flavors, it offers just enough life on the finish to merit a go with soft cheeses and the like. Think of it as Port with far less structure; drink now.                                                                                                1\n",
       "Winemaker Brent Marris (formerly of Wither Hills) has turned out a medium-bodied, creamy_textured Chardonnay that combines peachy fruit and finely tuned nuttiness. Drink it over the next 6-12 months.                                                                                                                                                            1\n",
       "This wine, which sold out via Instagram before it was even released, is a fascinating conveyer of soil flavors. Extremely herbal on the nose, it smells like a freshly dug, muddy hole surrounded by towering pines and mossy ground, with exotic berries in the background. The palate is woody, full of dank mushrooms, wild berries and green peppercorns.      1\n",
       "Made from organically farmed Ciliegiolo (one of the great indigenous varieties of Tuscany), this opens with cherry and cured meat notes, and it shows a bright, tart quality on the finish.                                                                                                                                                                        1\n",
       "Name: review, Length: 259554, dtype: int64"
      ]
     },
     "execution_count": 21,
     "metadata": {},
     "output_type": "execute_result"
    }
   ],
   "source": [
    "df['review'].value_counts()"
   ]
  },
  {
   "cell_type": "markdown",
   "id": "76a7be99",
   "metadata": {},
   "source": [
    "### display das regiões dos vinhos"
   ]
  },
  {
   "cell_type": "code",
   "execution_count": 22,
   "id": "62f1df18",
   "metadata": {
    "scrolled": false
   },
   "outputs": [
    {
     "data": {
      "text/plain": [
       "Napa Valley, Napa, California, US                             9011\n",
       "Russian River Valley, Sonoma, California, US                  6271\n",
       "California, California Other, California, US                  6054\n",
       "Columbia Valley (WA), Columbia Valley, Washington, US         5742\n",
       "Paso Robles, Central Coast, California, US                    5316\n",
       "                                                              ... \n",
       "Liguria, Northwestern Italy, Italy                               1\n",
       "Henty, South Australia, Australia                                1\n",
       "Vino de la Tierra Ribera del Jiloca, Northern Spain, Spain       1\n",
       "Alto Mincio, Lombardy, Italy                                     1\n",
       "Delia Nivolelli, Sicily & Sardinia, Italy                        1\n",
       "Name: appellation, Length: 1928, dtype: int64"
      ]
     },
     "execution_count": 22,
     "metadata": {},
     "output_type": "execute_result"
    }
   ],
   "source": [
    "df['appellation'].value_counts()"
   ]
  },
  {
   "cell_type": "markdown",
   "id": "fafd5d15",
   "metadata": {},
   "source": [
    "### formatação para retirar o pais dos dados"
   ]
  },
  {
   "cell_type": "code",
   "execution_count": 23,
   "id": "aa29ddb0",
   "metadata": {},
   "outputs": [],
   "source": [
    "def ultimo_valor_string(text):\n",
    "    values = text.split(',')\n",
    "    return values[-1]"
   ]
  },
  {
   "cell_type": "code",
   "execution_count": 24,
   "id": "0d0970dd",
   "metadata": {
    "scrolled": true
   },
   "outputs": [
    {
     "name": "stdout",
     "output_type": "stream",
     "text": [
      "1         Argentina\n",
      "3             Italy\n",
      "4             Italy\n",
      "5                US\n",
      "6                US\n",
      "            ...    \n",
      "323232           US\n",
      "323233        Italy\n",
      "323234       France\n",
      "323235           US\n",
      "323236        Italy\n",
      "Name: country, Length: 260573, dtype: object\n"
     ]
    }
   ],
   "source": [
    "df['appellation'] = df['appellation'].astype(str)\n",
    "df['country'] = df['appellation'].apply(ultimo_valor_string)\n",
    "df['country'] = df['country'].str.strip()\n",
    "print(df['country'])"
   ]
  },
  {
   "cell_type": "markdown",
   "id": "e113f46c",
   "metadata": {},
   "source": [
    "### print dos países mais comuns  no dataset"
   ]
  },
  {
   "cell_type": "code",
   "execution_count": 25,
   "id": "328fc06f",
   "metadata": {
    "scrolled": false
   },
   "outputs": [
    {
     "data": {
      "text/plain": [
       "US              110964\n",
       "France           42066\n",
       "Italy            35853\n",
       "Spain            13502\n",
       "Portugal         10531\n",
       "Chile             8380\n",
       "Australia         8282\n",
       "Argentina         7900\n",
       "Austria           5540\n",
       "Germany           4805\n",
       "New Zealand       3832\n",
       "South Africa      3068\n",
       "nan               2461\n",
       "Greece            1103\n",
       "Israel            1097\n",
       "Buy Now            548\n",
       "Romania            322\n",
       "Hungary            319\n",
       "Name: country, dtype: int64"
      ]
     },
     "execution_count": 25,
     "metadata": {},
     "output_type": "execute_result"
    }
   ],
   "source": [
    "df['country'].value_counts()"
   ]
  },
  {
   "cell_type": "code",
   "execution_count": 26,
   "id": "66944a42",
   "metadata": {},
   "outputs": [],
   "source": [
    "df['price'] = df['price'].astype(str)\n",
    "df['alcohol'] = df['alcohol'].astype(str)"
   ]
  },
  {
   "cell_type": "code",
   "execution_count": 27,
   "id": "76d2a454",
   "metadata": {},
   "outputs": [],
   "source": [
    "df = df[df['country'] != 'nan']\n",
    "df = df[df['country'] != 'Buy Now']\n",
    "df = df[df['country'] != 'DrizlyVivino']\n",
    "df = df[df['alcohol'] != 'nan']\n",
    "df = df[df['price'] != 'nan']\n",
    "df = df.reset_index(drop=True)"
   ]
  },
  {
   "cell_type": "code",
   "execution_count": 28,
   "id": "9c8a3683",
   "metadata": {},
   "outputs": [
    {
     "data": {
      "text/html": [
       "<div>\n",
       "<style scoped>\n",
       "    .dataframe tbody tr th:only-of-type {\n",
       "        vertical-align: middle;\n",
       "    }\n",
       "\n",
       "    .dataframe tbody tr th {\n",
       "        vertical-align: top;\n",
       "    }\n",
       "\n",
       "    .dataframe thead th {\n",
       "        text-align: right;\n",
       "    }\n",
       "</style>\n",
       "<table border=\"1\" class=\"dataframe\">\n",
       "  <thead>\n",
       "    <tr style=\"text-align: right;\">\n",
       "      <th></th>\n",
       "      <th>wine</th>\n",
       "      <th>winery</th>\n",
       "      <th>category</th>\n",
       "      <th>designation</th>\n",
       "      <th>varietal</th>\n",
       "      <th>appellation</th>\n",
       "      <th>alcohol</th>\n",
       "      <th>price</th>\n",
       "      <th>rating</th>\n",
       "      <th>reviewer</th>\n",
       "      <th>review</th>\n",
       "      <th>country</th>\n",
       "    </tr>\n",
       "  </thead>\n",
       "  <tbody>\n",
       "    <tr>\n",
       "      <th>0</th>\n",
       "      <td>Antucura 2010 Pinot Noir (Vista Flores)</td>\n",
       "      <td>Antucura</td>\n",
       "      <td>Red</td>\n",
       "      <td>NaN</td>\n",
       "      <td>Pinot Noir</td>\n",
       "      <td>Vista Flores, Mendoza Province, Argentina</td>\n",
       "      <td>15.0</td>\n",
       "      <td>17.0</td>\n",
       "      <td>85</td>\n",
       "      <td>Michael Schachner</td>\n",
       "      <td>Rubbery, bold and earthy on the nose, then ful...</td>\n",
       "      <td>Argentina</td>\n",
       "    </tr>\n",
       "    <tr>\n",
       "      <th>1</th>\n",
       "      <td>Tenuta di Ghizzano 2006 Il Ghizzano Red (Toscana)</td>\n",
       "      <td>Tenuta di Ghizzano</td>\n",
       "      <td>Red</td>\n",
       "      <td>Il Ghizzano</td>\n",
       "      <td>Red Blends, Red Blends</td>\n",
       "      <td>Toscana, Tuscany, Italy</td>\n",
       "      <td>13.5</td>\n",
       "      <td>18.0</td>\n",
       "      <td>86</td>\n",
       "      <td>NaN</td>\n",
       "      <td>The nose is rather neutral save for distant ar...</td>\n",
       "      <td>Italy</td>\n",
       "    </tr>\n",
       "    <tr>\n",
       "      <th>2</th>\n",
       "      <td>Tenuta San Francesco 2007 Tramonti White (Camp...</td>\n",
       "      <td>Tenuta San Francesco</td>\n",
       "      <td>White</td>\n",
       "      <td>Tramonti</td>\n",
       "      <td>White Blend</td>\n",
       "      <td>Campania, Southern Italy, Italy</td>\n",
       "      <td>13.5</td>\n",
       "      <td>21.0</td>\n",
       "      <td>85</td>\n",
       "      <td>NaN</td>\n",
       "      <td>This intriguing blend of Falanghina, Biancolel...</td>\n",
       "      <td>Italy</td>\n",
       "    </tr>\n",
       "    <tr>\n",
       "      <th>3</th>\n",
       "      <td>Las Positas 2011 Estate Barbera (Livermore Val...</td>\n",
       "      <td>Las Positas</td>\n",
       "      <td>Red</td>\n",
       "      <td>Estate</td>\n",
       "      <td>Barbera</td>\n",
       "      <td>Livermore Valley, Central Coast, California, US</td>\n",
       "      <td>15.1</td>\n",
       "      <td>40.0</td>\n",
       "      <td>89</td>\n",
       "      <td>Virginie Boone</td>\n",
       "      <td>This is a hefty Barbera, replete with dark, br...</td>\n",
       "      <td>US</td>\n",
       "    </tr>\n",
       "    <tr>\n",
       "      <th>4</th>\n",
       "      <td>Krupp Brothers 2007 The Doctor Red (Napa Valley)</td>\n",
       "      <td>Krupp Brothers</td>\n",
       "      <td>Red</td>\n",
       "      <td>The Doctor</td>\n",
       "      <td>Red Blends, Red Blends</td>\n",
       "      <td>Napa Valley, Napa, California, US</td>\n",
       "      <td>15.1</td>\n",
       "      <td>60.0</td>\n",
       "      <td>92</td>\n",
       "      <td>NaN</td>\n",
       "      <td>An ambitious blend of Merlot, Tempranillo, Mal...</td>\n",
       "      <td>US</td>\n",
       "    </tr>\n",
       "    <tr>\n",
       "      <th>...</th>\n",
       "      <td>...</td>\n",
       "      <td>...</td>\n",
       "      <td>...</td>\n",
       "      <td>...</td>\n",
       "      <td>...</td>\n",
       "      <td>...</td>\n",
       "      <td>...</td>\n",
       "      <td>...</td>\n",
       "      <td>...</td>\n",
       "      <td>...</td>\n",
       "      <td>...</td>\n",
       "      <td>...</td>\n",
       "    </tr>\n",
       "    <tr>\n",
       "      <th>257559</th>\n",
       "      <td>Maddalena 2017 Rosé (Paso Robles)</td>\n",
       "      <td>Maddalena</td>\n",
       "      <td>Rose</td>\n",
       "      <td>NaN</td>\n",
       "      <td>Rosé</td>\n",
       "      <td>Paso Robles, Central Coast, California, US</td>\n",
       "      <td>12.5</td>\n",
       "      <td>18.0</td>\n",
       "      <td>87</td>\n",
       "      <td>Matt Kettmann</td>\n",
       "      <td>Candied raspberry, cranberry, orange juice and...</td>\n",
       "      <td>US</td>\n",
       "    </tr>\n",
       "    <tr>\n",
       "      <th>257560</th>\n",
       "      <td>Toscolo 2015  Vernaccia di San Gimignano</td>\n",
       "      <td>Toscolo</td>\n",
       "      <td>White</td>\n",
       "      <td>NaN</td>\n",
       "      <td>Vernaccia, Italian White</td>\n",
       "      <td>Vernaccia di San Gimignano, Tuscany, Italy</td>\n",
       "      <td>12.5</td>\n",
       "      <td>11.0</td>\n",
       "      <td>87</td>\n",
       "      <td>Kerin O’Keefe</td>\n",
       "      <td>Aromas of white spring flower, yellow pear and...</td>\n",
       "      <td>Italy</td>\n",
       "    </tr>\n",
       "    <tr>\n",
       "      <th>257561</th>\n",
       "      <td>Domaine G. Metz 2017 Pinot Blanc (Alsace)</td>\n",
       "      <td>Domaine G. Metz</td>\n",
       "      <td>White</td>\n",
       "      <td>NaN</td>\n",
       "      <td>Pinot Blanc</td>\n",
       "      <td>Alsace, Alsace, France</td>\n",
       "      <td>13.0</td>\n",
       "      <td>20.0</td>\n",
       "      <td>90</td>\n",
       "      <td>Anne Krebiehl MW</td>\n",
       "      <td>A tinge of earth clings to the ripe, almost ju...</td>\n",
       "      <td>France</td>\n",
       "    </tr>\n",
       "    <tr>\n",
       "      <th>257562</th>\n",
       "      <td>Huston 2019 Chicken Dinner Red (Idaho)</td>\n",
       "      <td>Huston</td>\n",
       "      <td>Red</td>\n",
       "      <td>Chicken Dinner</td>\n",
       "      <td>Red Blends, Red Blends</td>\n",
       "      <td>Idaho, Idaho, US</td>\n",
       "      <td>14.3</td>\n",
       "      <td>18.0</td>\n",
       "      <td>87</td>\n",
       "      <td>Sean P. Sullivan</td>\n",
       "      <td>Fruit-forward aromas of plum, huckleberry and ...</td>\n",
       "      <td>US</td>\n",
       "    </tr>\n",
       "    <tr>\n",
       "      <th>257563</th>\n",
       "      <td>La Selva 2008  Maremma</td>\n",
       "      <td>La Selva</td>\n",
       "      <td>Red</td>\n",
       "      <td>NaN</td>\n",
       "      <td>Ciliegiolo, Italian White</td>\n",
       "      <td>Maremma, Tuscany, Italy</td>\n",
       "      <td>13.5</td>\n",
       "      <td>28.0</td>\n",
       "      <td>86</td>\n",
       "      <td>NaN</td>\n",
       "      <td>Made from organically farmed Ciliegiolo (one o...</td>\n",
       "      <td>Italy</td>\n",
       "    </tr>\n",
       "  </tbody>\n",
       "</table>\n",
       "<p>257564 rows × 12 columns</p>\n",
       "</div>"
      ],
      "text/plain": [
       "                                                     wine  \\\n",
       "0                 Antucura 2010 Pinot Noir (Vista Flores)   \n",
       "1       Tenuta di Ghizzano 2006 Il Ghizzano Red (Toscana)   \n",
       "2       Tenuta San Francesco 2007 Tramonti White (Camp...   \n",
       "3       Las Positas 2011 Estate Barbera (Livermore Val...   \n",
       "4        Krupp Brothers 2007 The Doctor Red (Napa Valley)   \n",
       "...                                                   ...   \n",
       "257559                  Maddalena 2017 Rosé (Paso Robles)   \n",
       "257560           Toscolo 2015  Vernaccia di San Gimignano   \n",
       "257561          Domaine G. Metz 2017 Pinot Blanc (Alsace)   \n",
       "257562             Huston 2019 Chicken Dinner Red (Idaho)   \n",
       "257563                             La Selva 2008  Maremma   \n",
       "\n",
       "                      winery category     designation  \\\n",
       "0                   Antucura      Red             NaN   \n",
       "1         Tenuta di Ghizzano      Red     Il Ghizzano   \n",
       "2       Tenuta San Francesco    White        Tramonti   \n",
       "3                Las Positas      Red          Estate   \n",
       "4             Krupp Brothers      Red      The Doctor   \n",
       "...                      ...      ...             ...   \n",
       "257559             Maddalena     Rose             NaN   \n",
       "257560               Toscolo    White             NaN   \n",
       "257561       Domaine G. Metz    White             NaN   \n",
       "257562                Huston      Red  Chicken Dinner   \n",
       "257563              La Selva      Red             NaN   \n",
       "\n",
       "                         varietal  \\\n",
       "0                      Pinot Noir   \n",
       "1          Red Blends, Red Blends   \n",
       "2                     White Blend   \n",
       "3                         Barbera   \n",
       "4          Red Blends, Red Blends   \n",
       "...                           ...   \n",
       "257559                       Rosé   \n",
       "257560   Vernaccia, Italian White   \n",
       "257561                Pinot Blanc   \n",
       "257562     Red Blends, Red Blends   \n",
       "257563  Ciliegiolo, Italian White   \n",
       "\n",
       "                                            appellation alcohol price  rating  \\\n",
       "0             Vista Flores, Mendoza Province, Argentina    15.0  17.0      85   \n",
       "1                               Toscana, Tuscany, Italy    13.5  18.0      86   \n",
       "2                       Campania, Southern Italy, Italy    13.5  21.0      85   \n",
       "3       Livermore Valley, Central Coast, California, US    15.1  40.0      89   \n",
       "4                     Napa Valley, Napa, California, US    15.1  60.0      92   \n",
       "...                                                 ...     ...   ...     ...   \n",
       "257559       Paso Robles, Central Coast, California, US    12.5  18.0      87   \n",
       "257560       Vernaccia di San Gimignano, Tuscany, Italy    12.5  11.0      87   \n",
       "257561                           Alsace, Alsace, France    13.0  20.0      90   \n",
       "257562                                 Idaho, Idaho, US    14.3  18.0      87   \n",
       "257563                          Maremma, Tuscany, Italy    13.5  28.0      86   \n",
       "\n",
       "                 reviewer                                             review  \\\n",
       "0       Michael Schachner  Rubbery, bold and earthy on the nose, then ful...   \n",
       "1                     NaN  The nose is rather neutral save for distant ar...   \n",
       "2                     NaN  This intriguing blend of Falanghina, Biancolel...   \n",
       "3          Virginie Boone  This is a hefty Barbera, replete with dark, br...   \n",
       "4                     NaN  An ambitious blend of Merlot, Tempranillo, Mal...   \n",
       "...                   ...                                                ...   \n",
       "257559      Matt Kettmann  Candied raspberry, cranberry, orange juice and...   \n",
       "257560      Kerin O’Keefe  Aromas of white spring flower, yellow pear and...   \n",
       "257561   Anne Krebiehl MW  A tinge of earth clings to the ripe, almost ju...   \n",
       "257562   Sean P. Sullivan  Fruit-forward aromas of plum, huckleberry and ...   \n",
       "257563                NaN  Made from organically farmed Ciliegiolo (one o...   \n",
       "\n",
       "          country  \n",
       "0       Argentina  \n",
       "1           Italy  \n",
       "2           Italy  \n",
       "3              US  \n",
       "4              US  \n",
       "...           ...  \n",
       "257559         US  \n",
       "257560      Italy  \n",
       "257561     France  \n",
       "257562         US  \n",
       "257563      Italy  \n",
       "\n",
       "[257564 rows x 12 columns]"
      ]
     },
     "metadata": {},
     "output_type": "display_data"
    }
   ],
   "source": [
    "display(df)"
   ]
  },
  {
   "cell_type": "code",
   "execution_count": null,
   "id": "ea9f626d",
   "metadata": {},
   "outputs": [],
   "source": []
  }
 ],
 "metadata": {
  "kernelspec": {
   "display_name": "Python 3 (ipykernel)",
   "language": "python",
   "name": "python3"
  },
  "language_info": {
   "codemirror_mode": {
    "name": "ipython",
    "version": 3
   },
   "file_extension": ".py",
   "mimetype": "text/x-python",
   "name": "python",
   "nbconvert_exporter": "python",
   "pygments_lexer": "ipython3",
   "version": "3.11.2"
  }
 },
 "nbformat": 4,
 "nbformat_minor": 5
}
