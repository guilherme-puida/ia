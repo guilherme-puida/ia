{
 "cells": [
  {
   "cell_type": "markdown",
   "metadata": {
    "id": "F9O9PTVtnx5x"
   },
   "source": [
    "# Wine Quality Dataset\n",
    "\n",
    "### Origem do Dataset\n",
    "\n",
    "- [*Kaggle - Wine Quality*](https://www.kaggle.com/datasets/rajyellow46/wine-quality/data)\n",
    "- [*UC Irvine*](https://archive.ics.uci.edu/dataset/186/wine+quality)\n",
    "\n",
    "#### Dataset Preparado\n",
    "\n",
    "Após a última etapa, foram geradas versões preparadas do dataset supracitado, visando otimizar o treinamento de potenciais modelos. Os datasets preparados podem ser encontrados em [Repositório do *GitHub*](https://github.com/guilherme-puida/ia/tree/main/datasets/wine_quality/prepared).\n",
    "\n",
    "### Atribuições\n",
    "\n",
    "O dataset utilizado foi disponibilizado em página da [*UC Irvine*](https://archive.ics.uci.edu/dataset/186/wine+quality) sob a licença *CC BY 4.0*. As atribuições de autores se encontram no mesmo *site* supracitado. O dataset possui *paper* introdutório sob autoria de [CORTEZ et al (2009)](https://www.sciencedirect.com/science/article/abs/pii/S0167923609001377?via%3Dihub).\n",
    "\n",
    "CORTEZ, Paulo; ANTÓNIO CERDEIRA; ALMEIDA, Fernando; et al. Modeling wine preferences by data mining from physicochemical properties. Decision Support Systems, v. 47, n. 4, p. 547–553, 2009. Disponível em: <https://www.sciencedirect.com/science/article/abs/pii/S0167923609001377?via%3Dihub>.\n",
    "\n",
    "### Objetivo\n",
    "\n",
    "Esse notebook visa selecionar os modelos de maior potencial para o presente dataset."
   ]
  },
  {
   "cell_type": "code",
   "execution_count": 1,
   "metadata": {
    "id": "6kxaULT7mZZG"
   },
   "outputs": [],
   "source": [
    "from sklearn.metrics import classification_report, confusion_matrix\n",
    "from sklearn.model_selection import train_test_split\n",
    "from sklearn.linear_model import LinearRegression\n",
    "from sklearn.ensemble import RandomForestRegressor\n",
    "from sklearn.metrics import mean_squared_error, mean_absolute_error\n",
    "from sklearn.neighbors import KNeighborsRegressor\n",
    "from sklearn.preprocessing import LabelEncoder\n",
    "from sklearn.svm import SVR\n",
    "import matplotlib.pyplot as plt\n",
    "import xgboost as xgb\n",
    "import pandas as pd\n",
    "import numpy as np"
   ]
  },
  {
   "cell_type": "code",
   "execution_count": 2,
   "metadata": {
    "id": "6kxaULT7mZZG"
   },
   "outputs": [],
   "source": [
    "df = pd.read_csv('../../datasets/wine_quality_data/prepared/wine_treated.csv')"
   ]
  },
  {
   "cell_type": "code",
   "execution_count": 3,
   "metadata": {},
   "outputs": [
    {
     "data": {
      "text/html": [
       "<div>\n",
       "<style scoped>\n",
       "    .dataframe tbody tr th:only-of-type {\n",
       "        vertical-align: middle;\n",
       "    }\n",
       "\n",
       "    .dataframe tbody tr th {\n",
       "        vertical-align: top;\n",
       "    }\n",
       "\n",
       "    .dataframe thead th {\n",
       "        text-align: right;\n",
       "    }\n",
       "</style>\n",
       "<table border=\"1\" class=\"dataframe\">\n",
       "  <thead>\n",
       "    <tr style=\"text-align: right;\">\n",
       "      <th></th>\n",
       "      <th>wine</th>\n",
       "      <th>winery</th>\n",
       "      <th>category</th>\n",
       "      <th>designation</th>\n",
       "      <th>varietal</th>\n",
       "      <th>appellation</th>\n",
       "      <th>alcohol</th>\n",
       "      <th>price</th>\n",
       "      <th>rating</th>\n",
       "      <th>reviewer</th>\n",
       "      <th>review</th>\n",
       "      <th>country</th>\n",
       "    </tr>\n",
       "  </thead>\n",
       "  <tbody>\n",
       "    <tr>\n",
       "      <th>0</th>\n",
       "      <td>Antucura 2010 Pinot Noir (Vista Flores)</td>\n",
       "      <td>Antucura</td>\n",
       "      <td>Red</td>\n",
       "      <td>NaN</td>\n",
       "      <td>Pinot Noir</td>\n",
       "      <td>Vista Flores, Mendoza Province, Argentina</td>\n",
       "      <td>15.0</td>\n",
       "      <td>17</td>\n",
       "      <td>85</td>\n",
       "      <td>Michael Schachner</td>\n",
       "      <td>Rubbery, bold and earthy on the nose, then ful...</td>\n",
       "      <td>Argentina</td>\n",
       "    </tr>\n",
       "    <tr>\n",
       "      <th>1</th>\n",
       "      <td>Tenuta di Ghizzano 2006 Il Ghizzano Red (Toscana)</td>\n",
       "      <td>Tenuta di Ghizzano</td>\n",
       "      <td>Red</td>\n",
       "      <td>Il Ghizzano</td>\n",
       "      <td>Red Blends, Red Blends</td>\n",
       "      <td>Toscana, Tuscany, Italy</td>\n",
       "      <td>13.5</td>\n",
       "      <td>18</td>\n",
       "      <td>86</td>\n",
       "      <td>NaN</td>\n",
       "      <td>The nose is rather neutral save for distant ar...</td>\n",
       "      <td>Italy</td>\n",
       "    </tr>\n",
       "    <tr>\n",
       "      <th>2</th>\n",
       "      <td>Tenuta San Francesco 2007 Tramonti White (Camp...</td>\n",
       "      <td>Tenuta San Francesco</td>\n",
       "      <td>White</td>\n",
       "      <td>Tramonti</td>\n",
       "      <td>White Blend</td>\n",
       "      <td>Campania, Southern Italy, Italy</td>\n",
       "      <td>13.5</td>\n",
       "      <td>21</td>\n",
       "      <td>85</td>\n",
       "      <td>NaN</td>\n",
       "      <td>This intriguing blend of Falanghina, Biancolel...</td>\n",
       "      <td>Italy</td>\n",
       "    </tr>\n",
       "    <tr>\n",
       "      <th>3</th>\n",
       "      <td>Las Positas 2011 Estate Barbera (Livermore Val...</td>\n",
       "      <td>Las Positas</td>\n",
       "      <td>Red</td>\n",
       "      <td>Estate</td>\n",
       "      <td>Barbera</td>\n",
       "      <td>Livermore Valley, Central Coast, California, US</td>\n",
       "      <td>15.1</td>\n",
       "      <td>40</td>\n",
       "      <td>89</td>\n",
       "      <td>Virginie Boone</td>\n",
       "      <td>This is a hefty Barbera, replete with dark, br...</td>\n",
       "      <td>US</td>\n",
       "    </tr>\n",
       "    <tr>\n",
       "      <th>4</th>\n",
       "      <td>Krupp Brothers 2007 The Doctor Red (Napa Valley)</td>\n",
       "      <td>Krupp Brothers</td>\n",
       "      <td>Red</td>\n",
       "      <td>The Doctor</td>\n",
       "      <td>Red Blends, Red Blends</td>\n",
       "      <td>Napa Valley, Napa, California, US</td>\n",
       "      <td>15.1</td>\n",
       "      <td>60</td>\n",
       "      <td>92</td>\n",
       "      <td>NaN</td>\n",
       "      <td>An ambitious blend of Merlot, Tempranillo, Mal...</td>\n",
       "      <td>US</td>\n",
       "    </tr>\n",
       "    <tr>\n",
       "      <th>...</th>\n",
       "      <td>...</td>\n",
       "      <td>...</td>\n",
       "      <td>...</td>\n",
       "      <td>...</td>\n",
       "      <td>...</td>\n",
       "      <td>...</td>\n",
       "      <td>...</td>\n",
       "      <td>...</td>\n",
       "      <td>...</td>\n",
       "      <td>...</td>\n",
       "      <td>...</td>\n",
       "      <td>...</td>\n",
       "    </tr>\n",
       "    <tr>\n",
       "      <th>263693</th>\n",
       "      <td>Maddalena 2017 Rosé (Paso Robles)</td>\n",
       "      <td>Maddalena</td>\n",
       "      <td>Rose</td>\n",
       "      <td>NaN</td>\n",
       "      <td>Rosé</td>\n",
       "      <td>Paso Robles, Central Coast, California, US</td>\n",
       "      <td>12.5</td>\n",
       "      <td>18</td>\n",
       "      <td>87</td>\n",
       "      <td>Matt Kettmann</td>\n",
       "      <td>Candied raspberry, cranberry, orange juice and...</td>\n",
       "      <td>US</td>\n",
       "    </tr>\n",
       "    <tr>\n",
       "      <th>263694</th>\n",
       "      <td>Toscolo 2015  Vernaccia di San Gimignano</td>\n",
       "      <td>Toscolo</td>\n",
       "      <td>White</td>\n",
       "      <td>NaN</td>\n",
       "      <td>Vernaccia, Italian White</td>\n",
       "      <td>Vernaccia di San Gimignano, Tuscany, Italy</td>\n",
       "      <td>12.5</td>\n",
       "      <td>11</td>\n",
       "      <td>87</td>\n",
       "      <td>Kerin O’Keefe</td>\n",
       "      <td>Aromas of white spring flower, yellow pear and...</td>\n",
       "      <td>Italy</td>\n",
       "    </tr>\n",
       "    <tr>\n",
       "      <th>263695</th>\n",
       "      <td>Domaine G. Metz 2017 Pinot Blanc (Alsace)</td>\n",
       "      <td>Domaine G. Metz</td>\n",
       "      <td>White</td>\n",
       "      <td>NaN</td>\n",
       "      <td>Pinot Blanc</td>\n",
       "      <td>Alsace, Alsace, France</td>\n",
       "      <td>13.0</td>\n",
       "      <td>20</td>\n",
       "      <td>90</td>\n",
       "      <td>Anne Krebiehl MW</td>\n",
       "      <td>A tinge of earth clings to the ripe, almost ju...</td>\n",
       "      <td>France</td>\n",
       "    </tr>\n",
       "    <tr>\n",
       "      <th>263696</th>\n",
       "      <td>Huston 2019 Chicken Dinner Red (Idaho)</td>\n",
       "      <td>Huston</td>\n",
       "      <td>Red</td>\n",
       "      <td>Chicken Dinner</td>\n",
       "      <td>Red Blends, Red Blends</td>\n",
       "      <td>Idaho, Idaho, US</td>\n",
       "      <td>14.3</td>\n",
       "      <td>18</td>\n",
       "      <td>87</td>\n",
       "      <td>Sean P. Sullivan</td>\n",
       "      <td>Fruit-forward aromas of plum, huckleberry and ...</td>\n",
       "      <td>US</td>\n",
       "    </tr>\n",
       "    <tr>\n",
       "      <th>263697</th>\n",
       "      <td>La Selva 2008  Maremma</td>\n",
       "      <td>La Selva</td>\n",
       "      <td>Red</td>\n",
       "      <td>NaN</td>\n",
       "      <td>Ciliegiolo, Italian White</td>\n",
       "      <td>Maremma, Tuscany, Italy</td>\n",
       "      <td>13.5</td>\n",
       "      <td>28</td>\n",
       "      <td>86</td>\n",
       "      <td>NaN</td>\n",
       "      <td>Made from organically farmed Ciliegiolo (one o...</td>\n",
       "      <td>Italy</td>\n",
       "    </tr>\n",
       "  </tbody>\n",
       "</table>\n",
       "<p>263698 rows × 12 columns</p>\n",
       "</div>"
      ],
      "text/plain": [
       "                                                     wine  \\\n",
       "0                 Antucura 2010 Pinot Noir (Vista Flores)   \n",
       "1       Tenuta di Ghizzano 2006 Il Ghizzano Red (Toscana)   \n",
       "2       Tenuta San Francesco 2007 Tramonti White (Camp...   \n",
       "3       Las Positas 2011 Estate Barbera (Livermore Val...   \n",
       "4        Krupp Brothers 2007 The Doctor Red (Napa Valley)   \n",
       "...                                                   ...   \n",
       "263693                  Maddalena 2017 Rosé (Paso Robles)   \n",
       "263694           Toscolo 2015  Vernaccia di San Gimignano   \n",
       "263695          Domaine G. Metz 2017 Pinot Blanc (Alsace)   \n",
       "263696             Huston 2019 Chicken Dinner Red (Idaho)   \n",
       "263697                             La Selva 2008  Maremma   \n",
       "\n",
       "                      winery category     designation  \\\n",
       "0                   Antucura      Red             NaN   \n",
       "1         Tenuta di Ghizzano      Red     Il Ghizzano   \n",
       "2       Tenuta San Francesco    White        Tramonti   \n",
       "3                Las Positas      Red          Estate   \n",
       "4             Krupp Brothers      Red      The Doctor   \n",
       "...                      ...      ...             ...   \n",
       "263693             Maddalena     Rose             NaN   \n",
       "263694               Toscolo    White             NaN   \n",
       "263695       Domaine G. Metz    White             NaN   \n",
       "263696                Huston      Red  Chicken Dinner   \n",
       "263697              La Selva      Red             NaN   \n",
       "\n",
       "                         varietal  \\\n",
       "0                      Pinot Noir   \n",
       "1          Red Blends, Red Blends   \n",
       "2                     White Blend   \n",
       "3                         Barbera   \n",
       "4          Red Blends, Red Blends   \n",
       "...                           ...   \n",
       "263693                       Rosé   \n",
       "263694   Vernaccia, Italian White   \n",
       "263695                Pinot Blanc   \n",
       "263696     Red Blends, Red Blends   \n",
       "263697  Ciliegiolo, Italian White   \n",
       "\n",
       "                                            appellation  alcohol price  \\\n",
       "0             Vista Flores, Mendoza Province, Argentina     15.0    17   \n",
       "1                               Toscana, Tuscany, Italy     13.5    18   \n",
       "2                       Campania, Southern Italy, Italy     13.5    21   \n",
       "3       Livermore Valley, Central Coast, California, US     15.1    40   \n",
       "4                     Napa Valley, Napa, California, US     15.1    60   \n",
       "...                                                 ...      ...   ...   \n",
       "263693       Paso Robles, Central Coast, California, US     12.5    18   \n",
       "263694       Vernaccia di San Gimignano, Tuscany, Italy     12.5    11   \n",
       "263695                           Alsace, Alsace, France     13.0    20   \n",
       "263696                                 Idaho, Idaho, US     14.3    18   \n",
       "263697                          Maremma, Tuscany, Italy     13.5    28   \n",
       "\n",
       "        rating           reviewer  \\\n",
       "0           85  Michael Schachner   \n",
       "1           86                NaN   \n",
       "2           85                NaN   \n",
       "3           89     Virginie Boone   \n",
       "4           92                NaN   \n",
       "...        ...                ...   \n",
       "263693      87      Matt Kettmann   \n",
       "263694      87      Kerin O’Keefe   \n",
       "263695      90   Anne Krebiehl MW   \n",
       "263696      87   Sean P. Sullivan   \n",
       "263697      86                NaN   \n",
       "\n",
       "                                                   review     country  \n",
       "0       Rubbery, bold and earthy on the nose, then ful...   Argentina  \n",
       "1       The nose is rather neutral save for distant ar...       Italy  \n",
       "2       This intriguing blend of Falanghina, Biancolel...       Italy  \n",
       "3       This is a hefty Barbera, replete with dark, br...          US  \n",
       "4       An ambitious blend of Merlot, Tempranillo, Mal...          US  \n",
       "...                                                   ...         ...  \n",
       "263693  Candied raspberry, cranberry, orange juice and...          US  \n",
       "263694  Aromas of white spring flower, yellow pear and...       Italy  \n",
       "263695  A tinge of earth clings to the ripe, almost ju...      France  \n",
       "263696  Fruit-forward aromas of plum, huckleberry and ...          US  \n",
       "263697  Made from organically farmed Ciliegiolo (one o...       Italy  \n",
       "\n",
       "[263698 rows x 12 columns]"
      ]
     },
     "metadata": {},
     "output_type": "display_data"
    }
   ],
   "source": [
    "display(df)"
   ]
  },
  {
   "cell_type": "code",
   "execution_count": 4,
   "metadata": {},
   "outputs": [],
   "source": [
    "df = df.drop_duplicates()"
   ]
  },
  {
   "cell_type": "code",
   "execution_count": 5,
   "metadata": {},
   "outputs": [],
   "source": [
    "df = df.drop(['review', 'reviewer', 'appellation', 'wine', 'winery'], axis = 1)"
   ]
  },
  {
   "cell_type": "code",
   "execution_count": 6,
   "metadata": {},
   "outputs": [],
   "source": [
    "df['price'] = df['price'].replace(r'^\\.$|^\\d*\\.$', 'NaN', regex=True)"
   ]
  },
  {
   "cell_type": "code",
   "execution_count": 7,
   "metadata": {},
   "outputs": [],
   "source": [
    "df['price'] = df['price'].astype(float)"
   ]
  },
  {
   "cell_type": "code",
   "execution_count": 8,
   "metadata": {},
   "outputs": [
    {
     "name": "stdout",
     "output_type": "stream",
     "text": [
      "<class 'pandas.core.frame.DataFrame'>\n",
      "Int64Index: 263691 entries, 0 to 263697\n",
      "Data columns (total 7 columns):\n",
      " #   Column       Non-Null Count   Dtype  \n",
      "---  ------       --------------   -----  \n",
      " 0   category     263691 non-null  object \n",
      " 1   designation  188917 non-null  object \n",
      " 2   varietal     246708 non-null  object \n",
      " 3   alcohol      263691 non-null  float64\n",
      " 4   price        257557 non-null  float64\n",
      " 5   rating       263691 non-null  int64  \n",
      " 6   country      263691 non-null  object \n",
      "dtypes: float64(2), int64(1), object(4)\n",
      "memory usage: 16.1+ MB\n"
     ]
    }
   ],
   "source": [
    "df.info()"
   ]
  },
  {
   "cell_type": "code",
   "execution_count": 9,
   "metadata": {},
   "outputs": [
    {
     "data": {
      "text/html": [
       "<div>\n",
       "<style scoped>\n",
       "    .dataframe tbody tr th:only-of-type {\n",
       "        vertical-align: middle;\n",
       "    }\n",
       "\n",
       "    .dataframe tbody tr th {\n",
       "        vertical-align: top;\n",
       "    }\n",
       "\n",
       "    .dataframe thead th {\n",
       "        text-align: right;\n",
       "    }\n",
       "</style>\n",
       "<table border=\"1\" class=\"dataframe\">\n",
       "  <thead>\n",
       "    <tr style=\"text-align: right;\">\n",
       "      <th></th>\n",
       "      <th>category</th>\n",
       "      <th>designation</th>\n",
       "      <th>varietal</th>\n",
       "      <th>alcohol</th>\n",
       "      <th>price</th>\n",
       "      <th>rating</th>\n",
       "      <th>country</th>\n",
       "    </tr>\n",
       "  </thead>\n",
       "  <tbody>\n",
       "    <tr>\n",
       "      <th>0</th>\n",
       "      <td>Red</td>\n",
       "      <td>NaN</td>\n",
       "      <td>Pinot Noir</td>\n",
       "      <td>15.0</td>\n",
       "      <td>17.0</td>\n",
       "      <td>85</td>\n",
       "      <td>Argentina</td>\n",
       "    </tr>\n",
       "    <tr>\n",
       "      <th>1</th>\n",
       "      <td>Red</td>\n",
       "      <td>Il Ghizzano</td>\n",
       "      <td>Red Blends, Red Blends</td>\n",
       "      <td>13.5</td>\n",
       "      <td>18.0</td>\n",
       "      <td>86</td>\n",
       "      <td>Italy</td>\n",
       "    </tr>\n",
       "    <tr>\n",
       "      <th>2</th>\n",
       "      <td>White</td>\n",
       "      <td>Tramonti</td>\n",
       "      <td>White Blend</td>\n",
       "      <td>13.5</td>\n",
       "      <td>21.0</td>\n",
       "      <td>85</td>\n",
       "      <td>Italy</td>\n",
       "    </tr>\n",
       "    <tr>\n",
       "      <th>3</th>\n",
       "      <td>Red</td>\n",
       "      <td>Estate</td>\n",
       "      <td>Barbera</td>\n",
       "      <td>15.1</td>\n",
       "      <td>40.0</td>\n",
       "      <td>89</td>\n",
       "      <td>US</td>\n",
       "    </tr>\n",
       "    <tr>\n",
       "      <th>4</th>\n",
       "      <td>Red</td>\n",
       "      <td>The Doctor</td>\n",
       "      <td>Red Blends, Red Blends</td>\n",
       "      <td>15.1</td>\n",
       "      <td>60.0</td>\n",
       "      <td>92</td>\n",
       "      <td>US</td>\n",
       "    </tr>\n",
       "    <tr>\n",
       "      <th>...</th>\n",
       "      <td>...</td>\n",
       "      <td>...</td>\n",
       "      <td>...</td>\n",
       "      <td>...</td>\n",
       "      <td>...</td>\n",
       "      <td>...</td>\n",
       "      <td>...</td>\n",
       "    </tr>\n",
       "    <tr>\n",
       "      <th>263693</th>\n",
       "      <td>Rose</td>\n",
       "      <td>NaN</td>\n",
       "      <td>Rosé</td>\n",
       "      <td>12.5</td>\n",
       "      <td>18.0</td>\n",
       "      <td>87</td>\n",
       "      <td>US</td>\n",
       "    </tr>\n",
       "    <tr>\n",
       "      <th>263694</th>\n",
       "      <td>White</td>\n",
       "      <td>NaN</td>\n",
       "      <td>Vernaccia, Italian White</td>\n",
       "      <td>12.5</td>\n",
       "      <td>11.0</td>\n",
       "      <td>87</td>\n",
       "      <td>Italy</td>\n",
       "    </tr>\n",
       "    <tr>\n",
       "      <th>263695</th>\n",
       "      <td>White</td>\n",
       "      <td>NaN</td>\n",
       "      <td>Pinot Blanc</td>\n",
       "      <td>13.0</td>\n",
       "      <td>20.0</td>\n",
       "      <td>90</td>\n",
       "      <td>France</td>\n",
       "    </tr>\n",
       "    <tr>\n",
       "      <th>263696</th>\n",
       "      <td>Red</td>\n",
       "      <td>Chicken Dinner</td>\n",
       "      <td>Red Blends, Red Blends</td>\n",
       "      <td>14.3</td>\n",
       "      <td>18.0</td>\n",
       "      <td>87</td>\n",
       "      <td>US</td>\n",
       "    </tr>\n",
       "    <tr>\n",
       "      <th>263697</th>\n",
       "      <td>Red</td>\n",
       "      <td>NaN</td>\n",
       "      <td>Ciliegiolo, Italian White</td>\n",
       "      <td>13.5</td>\n",
       "      <td>28.0</td>\n",
       "      <td>86</td>\n",
       "      <td>Italy</td>\n",
       "    </tr>\n",
       "  </tbody>\n",
       "</table>\n",
       "<p>263691 rows × 7 columns</p>\n",
       "</div>"
      ],
      "text/plain": [
       "       category     designation                   varietal  alcohol  price  \\\n",
       "0           Red             NaN                 Pinot Noir     15.0   17.0   \n",
       "1           Red     Il Ghizzano     Red Blends, Red Blends     13.5   18.0   \n",
       "2         White        Tramonti                White Blend     13.5   21.0   \n",
       "3           Red          Estate                    Barbera     15.1   40.0   \n",
       "4           Red      The Doctor     Red Blends, Red Blends     15.1   60.0   \n",
       "...         ...             ...                        ...      ...    ...   \n",
       "263693     Rose             NaN                       Rosé     12.5   18.0   \n",
       "263694    White             NaN   Vernaccia, Italian White     12.5   11.0   \n",
       "263695    White             NaN                Pinot Blanc     13.0   20.0   \n",
       "263696      Red  Chicken Dinner     Red Blends, Red Blends     14.3   18.0   \n",
       "263697      Red             NaN  Ciliegiolo, Italian White     13.5   28.0   \n",
       "\n",
       "        rating     country  \n",
       "0           85   Argentina  \n",
       "1           86       Italy  \n",
       "2           85       Italy  \n",
       "3           89          US  \n",
       "4           92          US  \n",
       "...        ...         ...  \n",
       "263693      87          US  \n",
       "263694      87       Italy  \n",
       "263695      90      France  \n",
       "263696      87          US  \n",
       "263697      86       Italy  \n",
       "\n",
       "[263691 rows x 7 columns]"
      ]
     },
     "metadata": {},
     "output_type": "display_data"
    }
   ],
   "source": [
    "display(df)"
   ]
  },
  {
   "cell_type": "code",
   "execution_count": 10,
   "metadata": {},
   "outputs": [],
   "source": [
    "lb = LabelEncoder()\n"
   ]
  },
  {
   "cell_type": "code",
   "execution_count": 11,
   "metadata": {},
   "outputs": [],
   "source": [
    "categorical_columns = ['category', 'designation', 'varietal', 'country']\n",
    "for column in categorical_columns:\n",
    "    df[column] = lb.fit_transform(df[column])"
   ]
  },
  {
   "cell_type": "code",
   "execution_count": 12,
   "metadata": {
    "scrolled": true
   },
   "outputs": [
    {
     "data": {
      "text/html": [
       "<div>\n",
       "<style scoped>\n",
       "    .dataframe tbody tr th:only-of-type {\n",
       "        vertical-align: middle;\n",
       "    }\n",
       "\n",
       "    .dataframe tbody tr th {\n",
       "        vertical-align: top;\n",
       "    }\n",
       "\n",
       "    .dataframe thead th {\n",
       "        text-align: right;\n",
       "    }\n",
       "</style>\n",
       "<table border=\"1\" class=\"dataframe\">\n",
       "  <thead>\n",
       "    <tr style=\"text-align: right;\">\n",
       "      <th></th>\n",
       "      <th>category</th>\n",
       "      <th>designation</th>\n",
       "      <th>varietal</th>\n",
       "      <th>alcohol</th>\n",
       "      <th>price</th>\n",
       "      <th>rating</th>\n",
       "      <th>country</th>\n",
       "    </tr>\n",
       "  </thead>\n",
       "  <tbody>\n",
       "    <tr>\n",
       "      <th>0</th>\n",
       "      <td>3</td>\n",
       "      <td>66881</td>\n",
       "      <td>521</td>\n",
       "      <td>15.0</td>\n",
       "      <td>17.0</td>\n",
       "      <td>85</td>\n",
       "      <td>0</td>\n",
       "    </tr>\n",
       "    <tr>\n",
       "      <th>1</th>\n",
       "      <td>3</td>\n",
       "      <td>28348</td>\n",
       "      <td>547</td>\n",
       "      <td>13.5</td>\n",
       "      <td>18.0</td>\n",
       "      <td>86</td>\n",
       "      <td>9</td>\n",
       "    </tr>\n",
       "    <tr>\n",
       "      <th>2</th>\n",
       "      <td>6</td>\n",
       "      <td>60784</td>\n",
       "      <td>762</td>\n",
       "      <td>13.5</td>\n",
       "      <td>21.0</td>\n",
       "      <td>85</td>\n",
       "      <td>9</td>\n",
       "    </tr>\n",
       "    <tr>\n",
       "      <th>3</th>\n",
       "      <td>3</td>\n",
       "      <td>20814</td>\n",
       "      <td>74</td>\n",
       "      <td>15.1</td>\n",
       "      <td>40.0</td>\n",
       "      <td>89</td>\n",
       "      <td>15</td>\n",
       "    </tr>\n",
       "    <tr>\n",
       "      <th>4</th>\n",
       "      <td>3</td>\n",
       "      <td>58849</td>\n",
       "      <td>547</td>\n",
       "      <td>15.1</td>\n",
       "      <td>60.0</td>\n",
       "      <td>92</td>\n",
       "      <td>15</td>\n",
       "    </tr>\n",
       "    <tr>\n",
       "      <th>...</th>\n",
       "      <td>...</td>\n",
       "      <td>...</td>\n",
       "      <td>...</td>\n",
       "      <td>...</td>\n",
       "      <td>...</td>\n",
       "      <td>...</td>\n",
       "      <td>...</td>\n",
       "    </tr>\n",
       "    <tr>\n",
       "      <th>263693</th>\n",
       "      <td>4</td>\n",
       "      <td>66881</td>\n",
       "      <td>571</td>\n",
       "      <td>12.5</td>\n",
       "      <td>18.0</td>\n",
       "      <td>87</td>\n",
       "      <td>15</td>\n",
       "    </tr>\n",
       "    <tr>\n",
       "      <th>263694</th>\n",
       "      <td>6</td>\n",
       "      <td>66881</td>\n",
       "      <td>734</td>\n",
       "      <td>12.5</td>\n",
       "      <td>11.0</td>\n",
       "      <td>87</td>\n",
       "      <td>9</td>\n",
       "    </tr>\n",
       "    <tr>\n",
       "      <th>263695</th>\n",
       "      <td>6</td>\n",
       "      <td>66881</td>\n",
       "      <td>508</td>\n",
       "      <td>13.0</td>\n",
       "      <td>20.0</td>\n",
       "      <td>90</td>\n",
       "      <td>4</td>\n",
       "    </tr>\n",
       "    <tr>\n",
       "      <th>263696</th>\n",
       "      <td>3</td>\n",
       "      <td>11079</td>\n",
       "      <td>547</td>\n",
       "      <td>14.3</td>\n",
       "      <td>18.0</td>\n",
       "      <td>87</td>\n",
       "      <td>15</td>\n",
       "    </tr>\n",
       "    <tr>\n",
       "      <th>263697</th>\n",
       "      <td>3</td>\n",
       "      <td>66881</td>\n",
       "      <td>187</td>\n",
       "      <td>13.5</td>\n",
       "      <td>28.0</td>\n",
       "      <td>86</td>\n",
       "      <td>9</td>\n",
       "    </tr>\n",
       "  </tbody>\n",
       "</table>\n",
       "<p>263691 rows × 7 columns</p>\n",
       "</div>"
      ],
      "text/plain": [
       "        category  designation  varietal  alcohol  price  rating  country\n",
       "0              3        66881       521     15.0   17.0      85        0\n",
       "1              3        28348       547     13.5   18.0      86        9\n",
       "2              6        60784       762     13.5   21.0      85        9\n",
       "3              3        20814        74     15.1   40.0      89       15\n",
       "4              3        58849       547     15.1   60.0      92       15\n",
       "...          ...          ...       ...      ...    ...     ...      ...\n",
       "263693         4        66881       571     12.5   18.0      87       15\n",
       "263694         6        66881       734     12.5   11.0      87        9\n",
       "263695         6        66881       508     13.0   20.0      90        4\n",
       "263696         3        11079       547     14.3   18.0      87       15\n",
       "263697         3        66881       187     13.5   28.0      86        9\n",
       "\n",
       "[263691 rows x 7 columns]"
      ]
     },
     "metadata": {},
     "output_type": "display_data"
    }
   ],
   "source": [
    "display(df)"
   ]
  },
  {
   "cell_type": "code",
   "execution_count": 13,
   "metadata": {
    "colab": {
     "base_uri": "https://localhost:8080/",
     "height": 424
    },
    "id": "7eXecj5OnwpU",
    "outputId": "85857b2a-2221-42d1-bd19-97f9927b5754",
    "scrolled": true
   },
   "outputs": [
    {
     "data": {
      "text/html": [
       "<div>\n",
       "<style scoped>\n",
       "    .dataframe tbody tr th:only-of-type {\n",
       "        vertical-align: middle;\n",
       "    }\n",
       "\n",
       "    .dataframe tbody tr th {\n",
       "        vertical-align: top;\n",
       "    }\n",
       "\n",
       "    .dataframe thead th {\n",
       "        text-align: right;\n",
       "    }\n",
       "</style>\n",
       "<table border=\"1\" class=\"dataframe\">\n",
       "  <thead>\n",
       "    <tr style=\"text-align: right;\">\n",
       "      <th></th>\n",
       "      <th>category</th>\n",
       "      <th>designation</th>\n",
       "      <th>varietal</th>\n",
       "      <th>alcohol</th>\n",
       "      <th>price</th>\n",
       "      <th>country</th>\n",
       "      <th>rating</th>\n",
       "    </tr>\n",
       "  </thead>\n",
       "  <tbody>\n",
       "    <tr>\n",
       "      <th>0</th>\n",
       "      <td>3</td>\n",
       "      <td>66881</td>\n",
       "      <td>521</td>\n",
       "      <td>15.0</td>\n",
       "      <td>17.0</td>\n",
       "      <td>0</td>\n",
       "      <td>85</td>\n",
       "    </tr>\n",
       "    <tr>\n",
       "      <th>1</th>\n",
       "      <td>3</td>\n",
       "      <td>28348</td>\n",
       "      <td>547</td>\n",
       "      <td>13.5</td>\n",
       "      <td>18.0</td>\n",
       "      <td>9</td>\n",
       "      <td>86</td>\n",
       "    </tr>\n",
       "    <tr>\n",
       "      <th>2</th>\n",
       "      <td>6</td>\n",
       "      <td>60784</td>\n",
       "      <td>762</td>\n",
       "      <td>13.5</td>\n",
       "      <td>21.0</td>\n",
       "      <td>9</td>\n",
       "      <td>85</td>\n",
       "    </tr>\n",
       "    <tr>\n",
       "      <th>3</th>\n",
       "      <td>3</td>\n",
       "      <td>20814</td>\n",
       "      <td>74</td>\n",
       "      <td>15.1</td>\n",
       "      <td>40.0</td>\n",
       "      <td>15</td>\n",
       "      <td>89</td>\n",
       "    </tr>\n",
       "    <tr>\n",
       "      <th>4</th>\n",
       "      <td>3</td>\n",
       "      <td>58849</td>\n",
       "      <td>547</td>\n",
       "      <td>15.1</td>\n",
       "      <td>60.0</td>\n",
       "      <td>15</td>\n",
       "      <td>92</td>\n",
       "    </tr>\n",
       "    <tr>\n",
       "      <th>...</th>\n",
       "      <td>...</td>\n",
       "      <td>...</td>\n",
       "      <td>...</td>\n",
       "      <td>...</td>\n",
       "      <td>...</td>\n",
       "      <td>...</td>\n",
       "      <td>...</td>\n",
       "    </tr>\n",
       "    <tr>\n",
       "      <th>263693</th>\n",
       "      <td>4</td>\n",
       "      <td>66881</td>\n",
       "      <td>571</td>\n",
       "      <td>12.5</td>\n",
       "      <td>18.0</td>\n",
       "      <td>15</td>\n",
       "      <td>87</td>\n",
       "    </tr>\n",
       "    <tr>\n",
       "      <th>263694</th>\n",
       "      <td>6</td>\n",
       "      <td>66881</td>\n",
       "      <td>734</td>\n",
       "      <td>12.5</td>\n",
       "      <td>11.0</td>\n",
       "      <td>9</td>\n",
       "      <td>87</td>\n",
       "    </tr>\n",
       "    <tr>\n",
       "      <th>263695</th>\n",
       "      <td>6</td>\n",
       "      <td>66881</td>\n",
       "      <td>508</td>\n",
       "      <td>13.0</td>\n",
       "      <td>20.0</td>\n",
       "      <td>4</td>\n",
       "      <td>90</td>\n",
       "    </tr>\n",
       "    <tr>\n",
       "      <th>263696</th>\n",
       "      <td>3</td>\n",
       "      <td>11079</td>\n",
       "      <td>547</td>\n",
       "      <td>14.3</td>\n",
       "      <td>18.0</td>\n",
       "      <td>15</td>\n",
       "      <td>87</td>\n",
       "    </tr>\n",
       "    <tr>\n",
       "      <th>263697</th>\n",
       "      <td>3</td>\n",
       "      <td>66881</td>\n",
       "      <td>187</td>\n",
       "      <td>13.5</td>\n",
       "      <td>28.0</td>\n",
       "      <td>9</td>\n",
       "      <td>86</td>\n",
       "    </tr>\n",
       "  </tbody>\n",
       "</table>\n",
       "<p>263691 rows × 7 columns</p>\n",
       "</div>"
      ],
      "text/plain": [
       "        category  designation  varietal  alcohol  price  country  rating\n",
       "0              3        66881       521     15.0   17.0        0      85\n",
       "1              3        28348       547     13.5   18.0        9      86\n",
       "2              6        60784       762     13.5   21.0        9      85\n",
       "3              3        20814        74     15.1   40.0       15      89\n",
       "4              3        58849       547     15.1   60.0       15      92\n",
       "...          ...          ...       ...      ...    ...      ...     ...\n",
       "263693         4        66881       571     12.5   18.0       15      87\n",
       "263694         6        66881       734     12.5   11.0        9      87\n",
       "263695         6        66881       508     13.0   20.0        4      90\n",
       "263696         3        11079       547     14.3   18.0       15      87\n",
       "263697         3        66881       187     13.5   28.0        9      86\n",
       "\n",
       "[263691 rows x 7 columns]"
      ]
     },
     "metadata": {},
     "output_type": "display_data"
    }
   ],
   "source": [
    "# reposicionando a coluna \"type\"\n",
    "\n",
    "cols = [\"category\",\"designation\",\"varietal\", \"alcohol\",\t\"price\",\t\"country\", \"rating\"]\n",
    "df = df.reindex(columns=cols)\n",
    "\n",
    "display(df)"
   ]
  },
  {
   "cell_type": "code",
   "execution_count": 14,
   "metadata": {},
   "outputs": [],
   "source": [
    "df = df.dropna()"
   ]
  },
  {
   "cell_type": "code",
   "execution_count": 15,
   "metadata": {},
   "outputs": [
    {
     "data": {
      "text/plain": [
       "array([85, 86, 85, ..., 90, 87, 86])"
      ]
     },
     "execution_count": 15,
     "metadata": {},
     "output_type": "execute_result"
    }
   ],
   "source": [
    "y = df['rating'].values\n",
    "y"
   ]
  },
  {
   "cell_type": "code",
   "execution_count": 16,
   "metadata": {},
   "outputs": [
    {
     "data": {
      "text/plain": [
       "array([[3.0000e+00, 6.6881e+04, 5.2100e+02, 1.5000e+01, 1.7000e+01,\n",
       "        0.0000e+00],\n",
       "       [3.0000e+00, 2.8348e+04, 5.4700e+02, 1.3500e+01, 1.8000e+01,\n",
       "        9.0000e+00],\n",
       "       [6.0000e+00, 6.0784e+04, 7.6200e+02, 1.3500e+01, 2.1000e+01,\n",
       "        9.0000e+00],\n",
       "       ...,\n",
       "       [6.0000e+00, 6.6881e+04, 5.0800e+02, 1.3000e+01, 2.0000e+01,\n",
       "        4.0000e+00],\n",
       "       [3.0000e+00, 1.1079e+04, 5.4700e+02, 1.4300e+01, 1.8000e+01,\n",
       "        1.5000e+01],\n",
       "       [3.0000e+00, 6.6881e+04, 1.8700e+02, 1.3500e+01, 2.8000e+01,\n",
       "        9.0000e+00]])"
      ]
     },
     "execution_count": 16,
     "metadata": {},
     "output_type": "execute_result"
    }
   ],
   "source": [
    "X = df.iloc[:, :-1].values\n",
    "X"
   ]
  },
  {
   "cell_type": "code",
   "execution_count": 17,
   "metadata": {},
   "outputs": [],
   "source": [
    "X_train, X_test, y_train, y_test = train_test_split(X, y, test_size=0.2, random_state=42)"
   ]
  },
  {
   "cell_type": "code",
   "execution_count": 18,
   "metadata": {
    "colab": {
     "base_uri": "https://localhost:8080/",
     "height": 75
    },
    "id": "UkDnbBrVwzdA",
    "outputId": "b720bdc7-8003-4152-e6c6-877aad7d1e5d"
   },
   "outputs": [
    {
     "data": {
      "text/html": [
       "<style>#sk-container-id-1 {color: black;background-color: white;}#sk-container-id-1 pre{padding: 0;}#sk-container-id-1 div.sk-toggleable {background-color: white;}#sk-container-id-1 label.sk-toggleable__label {cursor: pointer;display: block;width: 100%;margin-bottom: 0;padding: 0.3em;box-sizing: border-box;text-align: center;}#sk-container-id-1 label.sk-toggleable__label-arrow:before {content: \"▸\";float: left;margin-right: 0.25em;color: #696969;}#sk-container-id-1 label.sk-toggleable__label-arrow:hover:before {color: black;}#sk-container-id-1 div.sk-estimator:hover label.sk-toggleable__label-arrow:before {color: black;}#sk-container-id-1 div.sk-toggleable__content {max-height: 0;max-width: 0;overflow: hidden;text-align: left;background-color: #f0f8ff;}#sk-container-id-1 div.sk-toggleable__content pre {margin: 0.2em;color: black;border-radius: 0.25em;background-color: #f0f8ff;}#sk-container-id-1 input.sk-toggleable__control:checked~div.sk-toggleable__content {max-height: 200px;max-width: 100%;overflow: auto;}#sk-container-id-1 input.sk-toggleable__control:checked~label.sk-toggleable__label-arrow:before {content: \"▾\";}#sk-container-id-1 div.sk-estimator input.sk-toggleable__control:checked~label.sk-toggleable__label {background-color: #d4ebff;}#sk-container-id-1 div.sk-label input.sk-toggleable__control:checked~label.sk-toggleable__label {background-color: #d4ebff;}#sk-container-id-1 input.sk-hidden--visually {border: 0;clip: rect(1px 1px 1px 1px);clip: rect(1px, 1px, 1px, 1px);height: 1px;margin: -1px;overflow: hidden;padding: 0;position: absolute;width: 1px;}#sk-container-id-1 div.sk-estimator {font-family: monospace;background-color: #f0f8ff;border: 1px dotted black;border-radius: 0.25em;box-sizing: border-box;margin-bottom: 0.5em;}#sk-container-id-1 div.sk-estimator:hover {background-color: #d4ebff;}#sk-container-id-1 div.sk-parallel-item::after {content: \"\";width: 100%;border-bottom: 1px solid gray;flex-grow: 1;}#sk-container-id-1 div.sk-label:hover label.sk-toggleable__label {background-color: #d4ebff;}#sk-container-id-1 div.sk-serial::before {content: \"\";position: absolute;border-left: 1px solid gray;box-sizing: border-box;top: 0;bottom: 0;left: 50%;z-index: 0;}#sk-container-id-1 div.sk-serial {display: flex;flex-direction: column;align-items: center;background-color: white;padding-right: 0.2em;padding-left: 0.2em;position: relative;}#sk-container-id-1 div.sk-item {position: relative;z-index: 1;}#sk-container-id-1 div.sk-parallel {display: flex;align-items: stretch;justify-content: center;background-color: white;position: relative;}#sk-container-id-1 div.sk-item::before, #sk-container-id-1 div.sk-parallel-item::before {content: \"\";position: absolute;border-left: 1px solid gray;box-sizing: border-box;top: 0;bottom: 0;left: 50%;z-index: -1;}#sk-container-id-1 div.sk-parallel-item {display: flex;flex-direction: column;z-index: 1;position: relative;background-color: white;}#sk-container-id-1 div.sk-parallel-item:first-child::after {align-self: flex-end;width: 50%;}#sk-container-id-1 div.sk-parallel-item:last-child::after {align-self: flex-start;width: 50%;}#sk-container-id-1 div.sk-parallel-item:only-child::after {width: 0;}#sk-container-id-1 div.sk-dashed-wrapped {border: 1px dashed gray;margin: 0 0.4em 0.5em 0.4em;box-sizing: border-box;padding-bottom: 0.4em;background-color: white;}#sk-container-id-1 div.sk-label label {font-family: monospace;font-weight: bold;display: inline-block;line-height: 1.2em;}#sk-container-id-1 div.sk-label-container {text-align: center;}#sk-container-id-1 div.sk-container {/* jupyter's `normalize.less` sets `[hidden] { display: none; }` but bootstrap.min.css set `[hidden] { display: none !important; }` so we also need the `!important` here to be able to override the default hidden behavior on the sphinx rendered scikit-learn.org. See: https://github.com/scikit-learn/scikit-learn/issues/21755 */display: inline-block !important;position: relative;}#sk-container-id-1 div.sk-text-repr-fallback {display: none;}</style><div id=\"sk-container-id-1\" class=\"sk-top-container\"><div class=\"sk-text-repr-fallback\"><pre>LinearRegression()</pre><b>In a Jupyter environment, please rerun this cell to show the HTML representation or trust the notebook. <br />On GitHub, the HTML representation is unable to render, please try loading this page with nbviewer.org.</b></div><div class=\"sk-container\" hidden><div class=\"sk-item\"><div class=\"sk-estimator sk-toggleable\"><input class=\"sk-toggleable__control sk-hidden--visually\" id=\"sk-estimator-id-1\" type=\"checkbox\" checked><label for=\"sk-estimator-id-1\" class=\"sk-toggleable__label sk-toggleable__label-arrow\">LinearRegression</label><div class=\"sk-toggleable__content\"><pre>LinearRegression()</pre></div></div></div></div></div>"
      ],
      "text/plain": [
       "LinearRegression()"
      ]
     },
     "execution_count": 18,
     "metadata": {},
     "output_type": "execute_result"
    }
   ],
   "source": [
    "# treinando o modelo\n",
    "\n",
    "model = LinearRegression()\n",
    "model.fit(X_train, y_train)"
   ]
  },
  {
   "cell_type": "code",
   "execution_count": 19,
   "metadata": {
    "id": "XWbL0IWEnw5W"
   },
   "outputs": [],
   "source": [
    "# aplicando o modelo nas variáveis de teste\n",
    "\n",
    "y_pred_linear = model.predict(X_test)"
   ]
  },
  {
   "cell_type": "code",
   "execution_count": 20,
   "metadata": {
    "colab": {
     "base_uri": "https://localhost:8080/",
     "height": 472
    },
    "id": "ROnQcZI50dOT",
    "outputId": "3c7f90f1-ea20-4de4-9212-c37635a6ac98"
   },
   "outputs": [
    {
     "data": {
      "image/png": "[encoded data removed]",
      "text/plain": [
       "<Figure size 640x480 with 1 Axes>"
      ]
     },
     "metadata": {},
     "output_type": "display_data"
    }
   ],
   "source": [
    "# Plot dos resultados x Predições do Modelo\n",
    "\n",
    "plt.scatter(y_test, y_pred_linear)\n",
    "plt.xlabel(\"Resultados Verdadeiros\")\n",
    "plt.ylabel(\"Predições do Modelo\")\n",
    "plt.title(\"Resultados x Predições\")\n",
    "plt.show()"
   ]
  },
  {
   "cell_type": "code",
   "execution_count": 21,
   "metadata": {
    "colab": {
     "base_uri": "https://localhost:8080/",
     "height": 35
    },
    "id": "8JXrR4rd1PGW",
    "outputId": "74c75b50-de68-4ff9-80a5-786f56d2519f"
   },
   "outputs": [
    {
     "data": {
      "text/plain": [
       "array([90, 93, 88, ..., 93, 89, 89])"
      ]
     },
     "metadata": {},
     "output_type": "display_data"
    }
   ],
   "source": [
    "display(y_test)"
   ]
  },
  {
   "cell_type": "code",
   "execution_count": 22,
   "metadata": {
    "colab": {
     "base_uri": "https://localhost:8080/",
     "height": 53
    },
    "id": "KK__hNdK1RER",
    "outputId": "d67e354d-0729-48e9-ebc4-b58978c5bdcd"
   },
   "outputs": [
    {
     "data": {
      "text/plain": [
       "array([88.32693881, 88.06487261, 87.95575385, ..., 89.78052688,\n",
       "       89.2279233 , 88.97619604])"
      ]
     },
     "metadata": {},
     "output_type": "display_data"
    }
   ],
   "source": [
    "display(y_pred_linear)"
   ]
  },
  {
   "cell_type": "code",
   "execution_count": 24,
   "metadata": {
    "colab": {
     "base_uri": "https://localhost:8080/"
    },
    "id": "hLz1svar0dRa",
    "outputId": "185d4ecc-f46e-4459-ea63-217128842108"
   },
   "outputs": [
    {
     "name": "stdout",
     "output_type": "stream",
     "text": [
      "Erro Quadrático Médio: 7.96779414885468\n",
      "Erro Absoluto Médio: 2.2803878284641934\n"
     ]
    }
   ],
   "source": [
    "# Desempenho do modelo\n",
    "\n",
    "print(f\"Erro Quadrático Médio: {mean_squared_error(y_pred_linear, y_test)}\")\n",
    "print(f\"Erro Absoluto Médio: {mean_absolute_error(y_pred_linear, y_test)}\")"
   ]
  },
  {
   "cell_type": "code",
   "execution_count": 25,
   "metadata": {},
   "outputs": [
    {
     "name": "stdout",
     "output_type": "stream",
     "text": [
      "Erro Quadrático Médio: 6.297717829172359\n",
      "Erro Absoluto Médio: 1.9728939720009764\n"
     ]
    }
   ],
   "source": [
    "knn = KNeighborsRegressor(n_neighbors=7)  # You can adjust the number of neighbors\n",
    "\n",
    "# Train the model\n",
    "knn.fit(X_train, y_train)\n",
    "\n",
    "# Make predictions on the test data\n",
    "y_pred_knn = knn.predict(X_test)\n",
    "\n",
    "# Evaluate the model\n",
    "mse = mean_squared_error(y_test, y_pred_knn)\n",
    "print(f\"Erro Quadrático Médio: {mean_squared_error(y_pred_knn, y_test)}\")\n",
    "print(f\"Erro Absoluto Médio: {mean_absolute_error(y_pred_knn, y_test)}\")"
   ]
  },
  {
   "cell_type": "code",
   "execution_count": 26,
   "metadata": {},
   "outputs": [
    {
     "name": "stdout",
     "output_type": "stream",
     "text": [
      "Erro Quadrático Médio: 5.698379645292176\n",
      "Erro Absoluto Médio: 1.863801561657952\n"
     ]
    }
   ],
   "source": [
    "# Initialize Random Forest regressor\n",
    "rf_regressor = RandomForestRegressor(n_estimators=100, random_state=42)  # You can adjust the number of estimators\n",
    "\n",
    "# Train the model\n",
    "rf_regressor.fit(X_train, y_train)\n",
    "\n",
    "# Make predictions on the test data\n",
    "y_pred_rf = rf_regressor.predict(X_test)\n",
    "\n",
    "print(f\"Erro Quadrático Médio: {mean_squared_error(y_pred_rf, y_test)}\")\n",
    "print(f\"Erro Absoluto Médio: {mean_absolute_error(y_pred_rf, y_test)}\")"
   ]
  },
  {
   "cell_type": "code",
   "execution_count": 27,
   "metadata": {},
   "outputs": [
    {
     "name": "stdout",
     "output_type": "stream",
     "text": [
      "Erro Quadrático Médio: 5.5749993869345715\n",
      "Erro Absoluto Médio: 1.8721585155995963\n"
     ]
    }
   ],
   "source": [
    "# Convert data into DMatrix format required by XGBoost\n",
    "dtrain = xgb.DMatrix(X_train, label=y_train)\n",
    "dtest = xgb.DMatrix(X_test, label=y_test)\n",
    "\n",
    "# Define parameters for XGBoost\n",
    "params = {\n",
    "    'objective': 'reg:squarederror',  # Objective function for regression task\n",
    "    'eval_metric': 'rmse',  # Evaluation metric\n",
    "    'max_depth': 3,  # Maximum depth of each tree\n",
    "    'eta': 0.1,  # Learning rate\n",
    "    'subsample': 0.8,  # Subsample ratio of the training instances\n",
    "    'colsample_bytree': 0.8  # Subsample ratio of columns when constructing each tree\n",
    "}\n",
    "\n",
    "# Train the model\n",
    "num_rounds = 100  # Number of boosting rounds\n",
    "xgboost_model = xgb.train(params, dtrain, num_rounds)\n",
    "\n",
    "# Make predictions on the test data\n",
    "y_pred_xgb = xgboost_model.predict(dtest)\n",
    "\n",
    "print(f\"Erro Quadrático Médio: {mean_squared_error(y_pred_xgb, y_test)}\")\n",
    "print(f\"Erro Absoluto Médio: {mean_absolute_error(y_pred_xgb, y_test)}\")"
   ]
  }
 ],
 "metadata": {
  "colab": {
   "provenance": []
  },
  "kernelspec": {
   "display_name": "Python 3 (ipykernel)",
   "language": "python",
   "name": "python3"
  },
  "language_info": {
   "codemirror_mode": {
    "name": "ipython",
    "version": 3
   },
   "file_extension": ".py",
   "mimetype": "text/x-python",
   "name": "python",
   "nbconvert_exporter": "python",
   "pygments_lexer": "ipython3",
   "version": "3.11.2"
  }
 },
 "nbformat": 4,
 "nbformat_minor": 1
}
