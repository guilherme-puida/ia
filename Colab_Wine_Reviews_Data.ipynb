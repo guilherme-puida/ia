{
  "cells": [
    {
      "cell_type": "markdown",
      "metadata": {
        "id": "view-in-github",
        "colab_type": "text"
      },
      "source": [
        "<a href=\"https://colab.research.google.com/github/guilherme-puida/ia/blob/main/Colab_Wine_Reviews_Data.ipynb\" target=\"_parent\"><img src=\"https://colab.research.google.com/assets/colab-badge.svg\" alt=\"Open In Colab\"/></a>"
      ]
    },
    {
      "cell_type": "code",
      "execution_count": null,
      "id": "1908e354",
      "metadata": {
        "scrolled": true,
        "id": "1908e354"
      },
      "outputs": [],
      "source": [
        "import pandas as pd\n",
        "import matplotlib.pyplot as plt"
      ]
    },
    {
      "cell_type": "code",
      "execution_count": null,
      "id": "ce663730",
      "metadata": {
        "id": "ce663730"
      },
      "outputs": [],
      "source": [
        "df = pd.read_csv(\"wine.csv\")"
      ]
    },
    {
      "cell_type": "markdown",
      "id": "aeecc39b",
      "metadata": {
        "id": "aeecc39b"
      },
      "source": [
        "# display do dataframe original"
      ]
    },
    {
      "cell_type": "code",
      "execution_count": null,
      "id": "5cbf4fa2",
      "metadata": {
        "scrolled": true,
        "colab": {
          "base_uri": "https://localhost:8080/",
          "height": 597
        },
        "id": "5cbf4fa2",
        "outputId": "4b27e24d-da47-48b4-b88d-eff6c79919ca"
      },
      "outputs": [
        {
          "output_type": "execute_result",
          "data": {
            "text/plain": [
              "                                                     wine  \\\n",
              "0       J. Lohr 2000 Hilltop Vineyard Cabernet Sauvign...   \n",
              "1                 Antucura 2010 Pinot Noir (Vista Flores)   \n",
              "2       Quinta do Portal 1999 Quinta do Portal Reserva...   \n",
              "3       Tenuta di Ghizzano 2006 Il Ghizzano Red (Toscana)   \n",
              "4       Tenuta San Francesco 2007 Tramonti White (Camp...   \n",
              "...                                                   ...   \n",
              "323232                  Maddalena 2017 Rosé (Paso Robles)   \n",
              "323233           Toscolo 2015  Vernaccia di San Gimignano   \n",
              "323234          Domaine G. Metz 2017 Pinot Blanc (Alsace)   \n",
              "323235             Huston 2019 Chicken Dinner Red (Idaho)   \n",
              "323236                             La Selva 2008  Maremma   \n",
              "\n",
              "                      winery category               designation  \\\n",
              "0                    J. Lohr      Red          Hilltop Vineyard   \n",
              "1                   Antucura      Red                       NaN   \n",
              "2           Quinta do Portal      Red  Quinta do Portal Reserva   \n",
              "3         Tenuta di Ghizzano      Red               Il Ghizzano   \n",
              "4       Tenuta San Francesco    White                  Tramonti   \n",
              "...                      ...      ...                       ...   \n",
              "323232             Maddalena     Rose                       NaN   \n",
              "323233               Toscolo    White                       NaN   \n",
              "323234       Domaine G. Metz    White                       NaN   \n",
              "323235                Huston      Red            Chicken Dinner   \n",
              "323236              La Selva      Red                       NaN   \n",
              "\n",
              "                         varietal                                 appellation  \\\n",
              "0              Cabernet Sauvignon  Paso Robles, Central Coast, California, US   \n",
              "1                      Pinot Noir   Vista Flores, Mendoza Province, Argentina   \n",
              "2          Red Blends, Red Blends                             Douro, Portugal   \n",
              "3          Red Blends, Red Blends                     Toscana, Tuscany, Italy   \n",
              "4                     White Blend             Campania, Southern Italy, Italy   \n",
              "...                           ...                                         ...   \n",
              "323232                       Rosé  Paso Robles, Central Coast, California, US   \n",
              "323233   Vernaccia, Italian White  Vernaccia di San Gimignano, Tuscany, Italy   \n",
              "323234                Pinot Blanc                      Alsace, Alsace, France   \n",
              "323235     Red Blends, Red Blends                            Idaho, Idaho, US   \n",
              "323236  Ciliegiolo, Italian White                     Maremma, Tuscany, Italy   \n",
              "\n",
              "       alcohol price  rating           reviewer  \\\n",
              "0          NaN   $32      87                NaN   \n",
              "1          15%   $17      85  Michael Schachner   \n",
              "2          NaN   NaN      90         Roger Voss   \n",
              "3        13.5%   $18      86                NaN   \n",
              "4        13.5%   $21      85                NaN   \n",
              "...        ...   ...     ...                ...   \n",
              "323232   12.5%   $18      87      Matt Kettmann   \n",
              "323233   12.5%   $11      87      Kerin O’Keefe   \n",
              "323234     13%   $20      90   Anne Krebiehl MW   \n",
              "323235   14.3%   $18      87   Sean P. Sullivan   \n",
              "323236   13.5%   $28      86                NaN   \n",
              "\n",
              "                                                   review  \n",
              "0       Held back nearly five years, this Cab still ha...  \n",
              "1       Rubbery, bold and earthy on the nose, then ful...  \n",
              "2       Smoky, meaty aromas lead into perfumed fruit f...  \n",
              "3       The nose is rather neutral save for distant ar...  \n",
              "4       This intriguing blend of Falanghina, Biancolel...  \n",
              "...                                                   ...  \n",
              "323232  Candied raspberry, cranberry, orange juice and...  \n",
              "323233  Aromas of white spring flower, yellow pear and...  \n",
              "323234  A tinge of earth clings to the ripe, almost ju...  \n",
              "323235  Fruit-forward aromas of plum, huckleberry and ...  \n",
              "323236  Made from organically farmed Ciliegiolo (one o...  \n",
              "\n",
              "[323237 rows x 11 columns]"
            ],
            "text/html": [
              "\n",
              "  <div id=\"df-24da16d0-edfa-4dc9-b8dc-e9d4896440cd\" class=\"colab-df-container\">\n",
              "    <div>\n",
              "<style scoped>\n",
              "    .dataframe tbody tr th:only-of-type {\n",
              "        vertical-align: middle;\n",
              "    }\n",
              "\n",
              "    .dataframe tbody tr th {\n",
              "        vertical-align: top;\n",
              "    }\n",
              "\n",
              "    .dataframe thead th {\n",
              "        text-align: right;\n",
              "    }\n",
              "</style>\n",
              "<table border=\"1\" class=\"dataframe\">\n",
              "  <thead>\n",
              "    <tr style=\"text-align: right;\">\n",
              "      <th></th>\n",
              "      <th>wine</th>\n",
              "      <th>winery</th>\n",
              "      <th>category</th>\n",
              "      <th>designation</th>\n",
              "      <th>varietal</th>\n",
              "      <th>appellation</th>\n",
              "      <th>alcohol</th>\n",
              "      <th>price</th>\n",
              "      <th>rating</th>\n",
              "      <th>reviewer</th>\n",
              "      <th>review</th>\n",
              "    </tr>\n",
              "  </thead>\n",
              "  <tbody>\n",
              "    <tr>\n",
              "      <th>0</th>\n",
              "      <td>J. Lohr 2000 Hilltop Vineyard Cabernet Sauvign...</td>\n",
              "      <td>J. Lohr</td>\n",
              "      <td>Red</td>\n",
              "      <td>Hilltop Vineyard</td>\n",
              "      <td>Cabernet Sauvignon</td>\n",
              "      <td>Paso Robles, Central Coast, California, US</td>\n",
              "      <td>NaN</td>\n",
              "      <td>$32</td>\n",
              "      <td>87</td>\n",
              "      <td>NaN</td>\n",
              "      <td>Held back nearly five years, this Cab still ha...</td>\n",
              "    </tr>\n",
              "    <tr>\n",
              "      <th>1</th>\n",
              "      <td>Antucura 2010 Pinot Noir (Vista Flores)</td>\n",
              "      <td>Antucura</td>\n",
              "      <td>Red</td>\n",
              "      <td>NaN</td>\n",
              "      <td>Pinot Noir</td>\n",
              "      <td>Vista Flores, Mendoza Province, Argentina</td>\n",
              "      <td>15%</td>\n",
              "      <td>$17</td>\n",
              "      <td>85</td>\n",
              "      <td>Michael Schachner</td>\n",
              "      <td>Rubbery, bold and earthy on the nose, then ful...</td>\n",
              "    </tr>\n",
              "    <tr>\n",
              "      <th>2</th>\n",
              "      <td>Quinta do Portal 1999 Quinta do Portal Reserva...</td>\n",
              "      <td>Quinta do Portal</td>\n",
              "      <td>Red</td>\n",
              "      <td>Quinta do Portal Reserva</td>\n",
              "      <td>Red Blends, Red Blends</td>\n",
              "      <td>Douro, Portugal</td>\n",
              "      <td>NaN</td>\n",
              "      <td>NaN</td>\n",
              "      <td>90</td>\n",
              "      <td>Roger Voss</td>\n",
              "      <td>Smoky, meaty aromas lead into perfumed fruit f...</td>\n",
              "    </tr>\n",
              "    <tr>\n",
              "      <th>3</th>\n",
              "      <td>Tenuta di Ghizzano 2006 Il Ghizzano Red (Toscana)</td>\n",
              "      <td>Tenuta di Ghizzano</td>\n",
              "      <td>Red</td>\n",
              "      <td>Il Ghizzano</td>\n",
              "      <td>Red Blends, Red Blends</td>\n",
              "      <td>Toscana, Tuscany, Italy</td>\n",
              "      <td>13.5%</td>\n",
              "      <td>$18</td>\n",
              "      <td>86</td>\n",
              "      <td>NaN</td>\n",
              "      <td>The nose is rather neutral save for distant ar...</td>\n",
              "    </tr>\n",
              "    <tr>\n",
              "      <th>4</th>\n",
              "      <td>Tenuta San Francesco 2007 Tramonti White (Camp...</td>\n",
              "      <td>Tenuta San Francesco</td>\n",
              "      <td>White</td>\n",
              "      <td>Tramonti</td>\n",
              "      <td>White Blend</td>\n",
              "      <td>Campania, Southern Italy, Italy</td>\n",
              "      <td>13.5%</td>\n",
              "      <td>$21</td>\n",
              "      <td>85</td>\n",
              "      <td>NaN</td>\n",
              "      <td>This intriguing blend of Falanghina, Biancolel...</td>\n",
              "    </tr>\n",
              "    <tr>\n",
              "      <th>...</th>\n",
              "      <td>...</td>\n",
              "      <td>...</td>\n",
              "      <td>...</td>\n",
              "      <td>...</td>\n",
              "      <td>...</td>\n",
              "      <td>...</td>\n",
              "      <td>...</td>\n",
              "      <td>...</td>\n",
              "      <td>...</td>\n",
              "      <td>...</td>\n",
              "      <td>...</td>\n",
              "    </tr>\n",
              "    <tr>\n",
              "      <th>323232</th>\n",
              "      <td>Maddalena 2017 Rosé (Paso Robles)</td>\n",
              "      <td>Maddalena</td>\n",
              "      <td>Rose</td>\n",
              "      <td>NaN</td>\n",
              "      <td>Rosé</td>\n",
              "      <td>Paso Robles, Central Coast, California, US</td>\n",
              "      <td>12.5%</td>\n",
              "      <td>$18</td>\n",
              "      <td>87</td>\n",
              "      <td>Matt Kettmann</td>\n",
              "      <td>Candied raspberry, cranberry, orange juice and...</td>\n",
              "    </tr>\n",
              "    <tr>\n",
              "      <th>323233</th>\n",
              "      <td>Toscolo 2015  Vernaccia di San Gimignano</td>\n",
              "      <td>Toscolo</td>\n",
              "      <td>White</td>\n",
              "      <td>NaN</td>\n",
              "      <td>Vernaccia, Italian White</td>\n",
              "      <td>Vernaccia di San Gimignano, Tuscany, Italy</td>\n",
              "      <td>12.5%</td>\n",
              "      <td>$11</td>\n",
              "      <td>87</td>\n",
              "      <td>Kerin O’Keefe</td>\n",
              "      <td>Aromas of white spring flower, yellow pear and...</td>\n",
              "    </tr>\n",
              "    <tr>\n",
              "      <th>323234</th>\n",
              "      <td>Domaine G. Metz 2017 Pinot Blanc (Alsace)</td>\n",
              "      <td>Domaine G. Metz</td>\n",
              "      <td>White</td>\n",
              "      <td>NaN</td>\n",
              "      <td>Pinot Blanc</td>\n",
              "      <td>Alsace, Alsace, France</td>\n",
              "      <td>13%</td>\n",
              "      <td>$20</td>\n",
              "      <td>90</td>\n",
              "      <td>Anne Krebiehl MW</td>\n",
              "      <td>A tinge of earth clings to the ripe, almost ju...</td>\n",
              "    </tr>\n",
              "    <tr>\n",
              "      <th>323235</th>\n",
              "      <td>Huston 2019 Chicken Dinner Red (Idaho)</td>\n",
              "      <td>Huston</td>\n",
              "      <td>Red</td>\n",
              "      <td>Chicken Dinner</td>\n",
              "      <td>Red Blends, Red Blends</td>\n",
              "      <td>Idaho, Idaho, US</td>\n",
              "      <td>14.3%</td>\n",
              "      <td>$18</td>\n",
              "      <td>87</td>\n",
              "      <td>Sean P. Sullivan</td>\n",
              "      <td>Fruit-forward aromas of plum, huckleberry and ...</td>\n",
              "    </tr>\n",
              "    <tr>\n",
              "      <th>323236</th>\n",
              "      <td>La Selva 2008  Maremma</td>\n",
              "      <td>La Selva</td>\n",
              "      <td>Red</td>\n",
              "      <td>NaN</td>\n",
              "      <td>Ciliegiolo, Italian White</td>\n",
              "      <td>Maremma, Tuscany, Italy</td>\n",
              "      <td>13.5%</td>\n",
              "      <td>$28</td>\n",
              "      <td>86</td>\n",
              "      <td>NaN</td>\n",
              "      <td>Made from organically farmed Ciliegiolo (one o...</td>\n",
              "    </tr>\n",
              "  </tbody>\n",
              "</table>\n",
              "<p>323237 rows × 11 columns</p>\n",
              "</div>\n",
              "    <div class=\"colab-df-buttons\">\n",
              "\n",
              "  <div class=\"colab-df-container\">\n",
              "    <button class=\"colab-df-convert\" onclick=\"convertToInteractive('df-24da16d0-edfa-4dc9-b8dc-e9d4896440cd')\"\n",
              "            title=\"Convert this dataframe to an interactive table.\"\n",
              "            style=\"display:none;\">\n",
              "\n",
              "  <svg xmlns=\"http://www.w3.org/2000/svg\" height=\"24px\" viewBox=\"0 -960 960 960\">\n",
              "    <path d=\"M120-120v-720h720v720H120Zm60-500h600v-160H180v160Zm220 220h160v-160H400v160Zm0 220h160v-160H400v160ZM180-400h160v-160H180v160Zm440 0h160v-160H620v160ZM180-180h160v-160H180v160Zm440 0h160v-160H620v160Z\"/>\n",
              "  </svg>\n",
              "    </button>\n",
              "\n",
              "  <style>\n",
              "    .colab-df-container {\n",
              "      display:flex;\n",
              "      gap: 12px;\n",
              "    }\n",
              "\n",
              "    .colab-df-convert {\n",
              "      background-color: #E8F0FE;\n",
              "      border: none;\n",
              "      border-radius: 50%;\n",
              "      cursor: pointer;\n",
              "      display: none;\n",
              "      fill: #1967D2;\n",
              "      height: 32px;\n",
              "      padding: 0 0 0 0;\n",
              "      width: 32px;\n",
              "    }\n",
              "\n",
              "    .colab-df-convert:hover {\n",
              "      background-color: #E2EBFA;\n",
              "      box-shadow: 0px 1px 2px rgba(60, 64, 67, 0.3), 0px 1px 3px 1px rgba(60, 64, 67, 0.15);\n",
              "      fill: #174EA6;\n",
              "    }\n",
              "\n",
              "    .colab-df-buttons div {\n",
              "      margin-bottom: 4px;\n",
              "    }\n",
              "\n",
              "    [theme=dark] .colab-df-convert {\n",
              "      background-color: #3B4455;\n",
              "      fill: #D2E3FC;\n",
              "    }\n",
              "\n",
              "    [theme=dark] .colab-df-convert:hover {\n",
              "      background-color: #434B5C;\n",
              "      box-shadow: 0px 1px 3px 1px rgba(0, 0, 0, 0.15);\n",
              "      filter: drop-shadow(0px 1px 2px rgba(0, 0, 0, 0.3));\n",
              "      fill: #FFFFFF;\n",
              "    }\n",
              "  </style>\n",
              "\n",
              "    <script>\n",
              "      const buttonEl =\n",
              "        document.querySelector('#df-24da16d0-edfa-4dc9-b8dc-e9d4896440cd button.colab-df-convert');\n",
              "      buttonEl.style.display =\n",
              "        google.colab.kernel.accessAllowed ? 'block' : 'none';\n",
              "\n",
              "      async function convertToInteractive(key) {\n",
              "        const element = document.querySelector('#df-24da16d0-edfa-4dc9-b8dc-e9d4896440cd');\n",
              "        const dataTable =\n",
              "          await google.colab.kernel.invokeFunction('convertToInteractive',\n",
              "                                                    [key], {});\n",
              "        if (!dataTable) return;\n",
              "\n",
              "        const docLinkHtml = 'Like what you see? Visit the ' +\n",
              "          '<a target=\"_blank\" href=https://colab.research.google.com/notebooks/data_table.ipynb>data table notebook</a>'\n",
              "          + ' to learn more about interactive tables.';\n",
              "        element.innerHTML = '';\n",
              "        dataTable['output_type'] = 'display_data';\n",
              "        await google.colab.output.renderOutput(dataTable, element);\n",
              "        const docLink = document.createElement('div');\n",
              "        docLink.innerHTML = docLinkHtml;\n",
              "        element.appendChild(docLink);\n",
              "      }\n",
              "    </script>\n",
              "  </div>\n",
              "\n",
              "\n",
              "<div id=\"df-a0200d4d-6721-46d0-a72b-59866068993d\">\n",
              "  <button class=\"colab-df-quickchart\" onclick=\"quickchart('df-a0200d4d-6721-46d0-a72b-59866068993d')\"\n",
              "            title=\"Suggest charts\"\n",
              "            style=\"display:none;\">\n",
              "\n",
              "<svg xmlns=\"http://www.w3.org/2000/svg\" height=\"24px\"viewBox=\"0 0 24 24\"\n",
              "     width=\"24px\">\n",
              "    <g>\n",
              "        <path d=\"M19 3H5c-1.1 0-2 .9-2 2v14c0 1.1.9 2 2 2h14c1.1 0 2-.9 2-2V5c0-1.1-.9-2-2-2zM9 17H7v-7h2v7zm4 0h-2V7h2v10zm4 0h-2v-4h2v4z\"/>\n",
              "    </g>\n",
              "</svg>\n",
              "  </button>\n",
              "\n",
              "<style>\n",
              "  .colab-df-quickchart {\n",
              "      --bg-color: #E8F0FE;\n",
              "      --fill-color: #1967D2;\n",
              "      --hover-bg-color: #E2EBFA;\n",
              "      --hover-fill-color: #174EA6;\n",
              "      --disabled-fill-color: #AAA;\n",
              "      --disabled-bg-color: #DDD;\n",
              "  }\n",
              "\n",
              "  [theme=dark] .colab-df-quickchart {\n",
              "      --bg-color: #3B4455;\n",
              "      --fill-color: #D2E3FC;\n",
              "      --hover-bg-color: #434B5C;\n",
              "      --hover-fill-color: #FFFFFF;\n",
              "      --disabled-bg-color: #3B4455;\n",
              "      --disabled-fill-color: #666;\n",
              "  }\n",
              "\n",
              "  .colab-df-quickchart {\n",
              "    background-color: var(--bg-color);\n",
              "    border: none;\n",
              "    border-radius: 50%;\n",
              "    cursor: pointer;\n",
              "    display: none;\n",
              "    fill: var(--fill-color);\n",
              "    height: 32px;\n",
              "    padding: 0;\n",
              "    width: 32px;\n",
              "  }\n",
              "\n",
              "  .colab-df-quickchart:hover {\n",
              "    background-color: var(--hover-bg-color);\n",
              "    box-shadow: 0 1px 2px rgba(60, 64, 67, 0.3), 0 1px 3px 1px rgba(60, 64, 67, 0.15);\n",
              "    fill: var(--button-hover-fill-color);\n",
              "  }\n",
              "\n",
              "  .colab-df-quickchart-complete:disabled,\n",
              "  .colab-df-quickchart-complete:disabled:hover {\n",
              "    background-color: var(--disabled-bg-color);\n",
              "    fill: var(--disabled-fill-color);\n",
              "    box-shadow: none;\n",
              "  }\n",
              "\n",
              "  .colab-df-spinner {\n",
              "    border: 2px solid var(--fill-color);\n",
              "    border-color: transparent;\n",
              "    border-bottom-color: var(--fill-color);\n",
              "    animation:\n",
              "      spin 1s steps(1) infinite;\n",
              "  }\n",
              "\n",
              "  @keyframes spin {\n",
              "    0% {\n",
              "      border-color: transparent;\n",
              "      border-bottom-color: var(--fill-color);\n",
              "      border-left-color: var(--fill-color);\n",
              "    }\n",
              "    20% {\n",
              "      border-color: transparent;\n",
              "      border-left-color: var(--fill-color);\n",
              "      border-top-color: var(--fill-color);\n",
              "    }\n",
              "    30% {\n",
              "      border-color: transparent;\n",
              "      border-left-color: var(--fill-color);\n",
              "      border-top-color: var(--fill-color);\n",
              "      border-right-color: var(--fill-color);\n",
              "    }\n",
              "    40% {\n",
              "      border-color: transparent;\n",
              "      border-right-color: var(--fill-color);\n",
              "      border-top-color: var(--fill-color);\n",
              "    }\n",
              "    60% {\n",
              "      border-color: transparent;\n",
              "      border-right-color: var(--fill-color);\n",
              "    }\n",
              "    80% {\n",
              "      border-color: transparent;\n",
              "      border-right-color: var(--fill-color);\n",
              "      border-bottom-color: var(--fill-color);\n",
              "    }\n",
              "    90% {\n",
              "      border-color: transparent;\n",
              "      border-bottom-color: var(--fill-color);\n",
              "    }\n",
              "  }\n",
              "</style>\n",
              "\n",
              "  <script>\n",
              "    async function quickchart(key) {\n",
              "      const quickchartButtonEl =\n",
              "        document.querySelector('#' + key + ' button');\n",
              "      quickchartButtonEl.disabled = true;  // To prevent multiple clicks.\n",
              "      quickchartButtonEl.classList.add('colab-df-spinner');\n",
              "      try {\n",
              "        const charts = await google.colab.kernel.invokeFunction(\n",
              "            'suggestCharts', [key], {});\n",
              "      } catch (error) {\n",
              "        console.error('Error during call to suggestCharts:', error);\n",
              "      }\n",
              "      quickchartButtonEl.classList.remove('colab-df-spinner');\n",
              "      quickchartButtonEl.classList.add('colab-df-quickchart-complete');\n",
              "    }\n",
              "    (() => {\n",
              "      let quickchartButtonEl =\n",
              "        document.querySelector('#df-a0200d4d-6721-46d0-a72b-59866068993d button');\n",
              "      quickchartButtonEl.style.display =\n",
              "        google.colab.kernel.accessAllowed ? 'block' : 'none';\n",
              "    })();\n",
              "  </script>\n",
              "</div>\n",
              "\n",
              "  <div id=\"id_b5a1ef15-e197-4dfe-8f02-14b37f832498\">\n",
              "    <style>\n",
              "      .colab-df-generate {\n",
              "        background-color: #E8F0FE;\n",
              "        border: none;\n",
              "        border-radius: 50%;\n",
              "        cursor: pointer;\n",
              "        display: none;\n",
              "        fill: #1967D2;\n",
              "        height: 32px;\n",
              "        padding: 0 0 0 0;\n",
              "        width: 32px;\n",
              "      }\n",
              "\n",
              "      .colab-df-generate:hover {\n",
              "        background-color: #E2EBFA;\n",
              "        box-shadow: 0px 1px 2px rgba(60, 64, 67, 0.3), 0px 1px 3px 1px rgba(60, 64, 67, 0.15);\n",
              "        fill: #174EA6;\n",
              "      }\n",
              "\n",
              "      [theme=dark] .colab-df-generate {\n",
              "        background-color: #3B4455;\n",
              "        fill: #D2E3FC;\n",
              "      }\n",
              "\n",
              "      [theme=dark] .colab-df-generate:hover {\n",
              "        background-color: #434B5C;\n",
              "        box-shadow: 0px 1px 3px 1px rgba(0, 0, 0, 0.15);\n",
              "        filter: drop-shadow(0px 1px 2px rgba(0, 0, 0, 0.3));\n",
              "        fill: #FFFFFF;\n",
              "      }\n",
              "    </style>\n",
              "    <button class=\"colab-df-generate\" onclick=\"generateWithVariable('df')\"\n",
              "            title=\"Generate code using this dataframe.\"\n",
              "            style=\"display:none;\">\n",
              "\n",
              "  <svg xmlns=\"http://www.w3.org/2000/svg\" height=\"24px\"viewBox=\"0 0 24 24\"\n",
              "       width=\"24px\">\n",
              "    <path d=\"M7,19H8.4L18.45,9,17,7.55,7,17.6ZM5,21V16.75L18.45,3.32a2,2,0,0,1,2.83,0l1.4,1.43a1.91,1.91,0,0,1,.58,1.4,1.91,1.91,0,0,1-.58,1.4L9.25,21ZM18.45,9,17,7.55Zm-12,3A5.31,5.31,0,0,0,4.9,8.1,5.31,5.31,0,0,0,1,6.5,5.31,5.31,0,0,0,4.9,4.9,5.31,5.31,0,0,0,6.5,1,5.31,5.31,0,0,0,8.1,4.9,5.31,5.31,0,0,0,12,6.5,5.46,5.46,0,0,0,6.5,12Z\"/>\n",
              "  </svg>\n",
              "    </button>\n",
              "    <script>\n",
              "      (() => {\n",
              "      const buttonEl =\n",
              "        document.querySelector('#id_b5a1ef15-e197-4dfe-8f02-14b37f832498 button.colab-df-generate');\n",
              "      buttonEl.style.display =\n",
              "        google.colab.kernel.accessAllowed ? 'block' : 'none';\n",
              "\n",
              "      buttonEl.onclick = () => {\n",
              "        google.colab.notebook.generateWithVariable('df');\n",
              "      }\n",
              "      })();\n",
              "    </script>\n",
              "  </div>\n",
              "\n",
              "    </div>\n",
              "  </div>\n"
            ],
            "application/vnd.google.colaboratory.intrinsic+json": {
              "type": "dataframe",
              "variable_name": "df"
            }
          },
          "metadata": {},
          "execution_count": 11
        }
      ],
      "source": [
        "df"
      ]
    },
    {
      "cell_type": "markdown",
      "id": "02e593e6",
      "metadata": {
        "id": "02e593e6"
      },
      "source": [
        "# display de informações básicas dos dados\n",
        "### tipos de dados e quantidade de dados não nulos"
      ]
    },
    {
      "cell_type": "code",
      "execution_count": null,
      "id": "33fc417c",
      "metadata": {
        "scrolled": false,
        "colab": {
          "base_uri": "https://localhost:8080/"
        },
        "id": "33fc417c",
        "outputId": "c7bc109f-d578-40aa-cccb-59dd4bdb3b0e"
      },
      "outputs": [
        {
          "output_type": "stream",
          "name": "stdout",
          "text": [
            "<class 'pandas.core.frame.DataFrame'>\n",
            "RangeIndex: 323237 entries, 0 to 323236\n",
            "Data columns (total 11 columns):\n",
            " #   Column       Non-Null Count   Dtype \n",
            "---  ------       --------------   ----- \n",
            " 0   wine         323237 non-null  object\n",
            " 1   winery       323237 non-null  object\n",
            " 2   category     323237 non-null  object\n",
            " 3   designation  229692 non-null  object\n",
            " 4   varietal     302190 non-null  object\n",
            " 5   appellation  320630 non-null  object\n",
            " 6   alcohol      282216 non-null  object\n",
            " 7   price        299282 non-null  object\n",
            " 8   rating       323237 non-null  int64 \n",
            " 9   reviewer     251075 non-null  object\n",
            " 10  review       322108 non-null  object\n",
            "dtypes: int64(1), object(10)\n",
            "memory usage: 27.1+ MB\n"
          ]
        }
      ],
      "source": [
        "df.info()"
      ]
    },
    {
      "cell_type": "markdown",
      "id": "ebfb782c",
      "metadata": {
        "id": "ebfb782c"
      },
      "source": [
        "### display dos valores e suas repetições"
      ]
    },
    {
      "cell_type": "code",
      "execution_count": null,
      "id": "cb99a49d",
      "metadata": {
        "scrolled": false,
        "colab": {
          "base_uri": "https://localhost:8080/"
        },
        "id": "cb99a49d",
        "outputId": "0cde2102-eab9-4c9e-b8c9-06a2a63041ae"
      },
      "outputs": [
        {
          "output_type": "execute_result",
          "data": {
            "text/plain": [
              "wine\n",
              "Perrier Jouët NV Grand Brut  (Champagne)                       15\n",
              "Delamotte NV Brut  (Champagne)                                 14\n",
              "Gloria Ferrer NV Sonoma Brut Sparkling (Sonoma County)         14\n",
              "Deutz NV Brut Classic  (Champagne)                             14\n",
              "Pommery NV Brut Royal  (Champagne)                             13\n",
              "                                                               ..\n",
              "Santa Rita 2002 Casa Real Cabernet Sauvignon (Maipo Valley)     1\n",
              "Cameron Hughes 2005 Chardonnay (Russian River Valley)           1\n",
              "Shaw 2007 Riesling (Finger Lakes)                               1\n",
              "Elk Creek Vineyards 2006 Chardonnay (Kentucky)                  1\n",
              "La Selva 2008  Maremma                                          1\n",
              "Name: count, Length: 318338, dtype: int64"
            ]
          },
          "metadata": {},
          "execution_count": 13
        }
      ],
      "source": [
        "df['wine'].value_counts()"
      ]
    },
    {
      "cell_type": "markdown",
      "id": "7289f670",
      "metadata": {
        "id": "7289f670"
      },
      "source": [
        "### display dos valores e suas repetições"
      ]
    },
    {
      "cell_type": "code",
      "execution_count": null,
      "id": "57781956",
      "metadata": {
        "colab": {
          "base_uri": "https://localhost:8080/"
        },
        "id": "57781956",
        "outputId": "a4a186be-ddf6-4038-f1c8-f84c17784897"
      },
      "outputs": [
        {
          "output_type": "execute_result",
          "data": {
            "text/plain": [
              "winery\n",
              "Williams Selyem                   500\n",
              "Chateau Ste. Michelle             489\n",
              "DFJ Vinhos                        443\n",
              "Testarossa                        443\n",
              "Kendall-Jackson                   413\n",
              "                                 ... \n",
              "Château la Croix Saint-Georges      1\n",
              "Domaine Hamelin                     1\n",
              "Tenuta di Argiano                   1\n",
              "Conde de Olzinellas                 1\n",
              "Nabuko                              1\n",
              "Name: count, Length: 26598, dtype: int64"
            ]
          },
          "metadata": {},
          "execution_count": 14
        }
      ],
      "source": [
        "df['winery'].value_counts()"
      ]
    },
    {
      "cell_type": "markdown",
      "id": "61ca90c9",
      "metadata": {
        "id": "61ca90c9"
      },
      "source": [
        "### display dos valores e suas repetições"
      ]
    },
    {
      "cell_type": "code",
      "execution_count": null,
      "id": "0c7e1352",
      "metadata": {
        "colab": {
          "base_uri": "https://localhost:8080/"
        },
        "id": "0c7e1352",
        "outputId": "7cd4d7d8-66da-4bbc-e54e-88905066b24c"
      },
      "outputs": [
        {
          "output_type": "execute_result",
          "data": {
            "text/plain": [
              "category\n",
              "Red            194396\n",
              "White           95424\n",
              "Sparkling       14938\n",
              "Rose            11667\n",
              "Dessert          4329\n",
              "Port/Sherry      2257\n",
              "Fortified         226\n",
              "Name: count, dtype: int64"
            ]
          },
          "metadata": {},
          "execution_count": 15
        }
      ],
      "source": [
        "df['category'].value_counts()"
      ]
    },
    {
      "cell_type": "markdown",
      "id": "2b704fab",
      "metadata": {
        "id": "2b704fab"
      },
      "source": [
        "### display dos valores e suas repetições"
      ]
    },
    {
      "cell_type": "code",
      "execution_count": null,
      "id": "d1c8d415",
      "metadata": {
        "colab": {
          "base_uri": "https://localhost:8080/"
        },
        "id": "d1c8d415",
        "outputId": "b5cd018a-f88c-4895-ce97-58d7afeaa148"
      },
      "outputs": [
        {
          "output_type": "execute_result",
          "data": {
            "text/plain": [
              "designation\n",
              "Reserve                           5183\n",
              "Estate                            3183\n",
              "Reserva                           2927\n",
              "Barrel Sample                     2497\n",
              "Riserva                           1719\n",
              "                                  ... \n",
              "Exception Brut Intense               1\n",
              "Finca San Cibrao                     1\n",
              "Blanc de Noirs Cebada Vineyard       1\n",
              "Loner R13-C                          1\n",
              "Columbia County                      1\n",
              "Name: count, Length: 77226, dtype: int64"
            ]
          },
          "metadata": {},
          "execution_count": 16
        }
      ],
      "source": [
        "df['designation'].value_counts()"
      ]
    },
    {
      "cell_type": "markdown",
      "id": "7a921c24",
      "metadata": {
        "id": "7a921c24"
      },
      "source": [
        "### display dos valores e suas repetições"
      ]
    },
    {
      "cell_type": "code",
      "execution_count": null,
      "id": "6bda56b9",
      "metadata": {
        "colab": {
          "base_uri": "https://localhost:8080/"
        },
        "id": "6bda56b9",
        "outputId": "cc874f9f-a8cf-4252-f981-d8338af97973"
      },
      "outputs": [
        {
          "output_type": "execute_result",
          "data": {
            "text/plain": [
              "varietal\n",
              "Pinot Noir                                 33523\n",
              "Chardonnay                                 29439\n",
              "Cabernet Sauvignon                         23829\n",
              "Red Blends, Red Blends                     20012\n",
              "Bordeaux-style Red Blend                   17861\n",
              "                                           ...  \n",
              "Ruen, Other Red                                1\n",
              "Assyrtiko-Sauvignon Blanc, White Blend         1\n",
              "Chardonel, Other White                         1\n",
              "Grasparossa di Castelvetro, Italian Red        1\n",
              "Ehrenfelser, Other White                       1\n",
              "Name: count, Length: 869, dtype: int64"
            ]
          },
          "metadata": {},
          "execution_count": 17
        }
      ],
      "source": [
        "df['varietal'].value_counts()"
      ]
    },
    {
      "cell_type": "markdown",
      "id": "4f6db12b",
      "metadata": {
        "id": "4f6db12b"
      },
      "source": [
        "### display dos valores e suas repetições"
      ]
    },
    {
      "cell_type": "code",
      "execution_count": null,
      "id": "08eb3375",
      "metadata": {
        "colab": {
          "base_uri": "https://localhost:8080/"
        },
        "id": "08eb3375",
        "outputId": "d7b27336-067e-426c-b6dc-bbdee2a0741c"
      },
      "outputs": [
        {
          "output_type": "execute_result",
          "data": {
            "text/plain": [
              "alcohol\n",
              "13.5%    45251\n",
              "13%      38404\n",
              "14.5%    33376\n",
              "14%      29945\n",
              "12.5%    24592\n",
              "         ...  \n",
              "225%         1\n",
              "17.3%        1\n",
              "8333%        1\n",
              "1.2%         1\n",
              "2016%        1\n",
              "Name: count, Length: 553, dtype: int64"
            ]
          },
          "metadata": {},
          "execution_count": 18
        }
      ],
      "source": [
        "df['alcohol'].value_counts()"
      ]
    },
    {
      "cell_type": "markdown",
      "id": "09006da9",
      "metadata": {
        "id": "09006da9"
      },
      "source": [
        "limpeza do dado de preço removendo o \"$\""
      ]
    },
    {
      "cell_type": "code",
      "execution_count": null,
      "id": "b79a9877",
      "metadata": {
        "id": "b79a9877"
      },
      "outputs": [],
      "source": [
        "df['price'] = df['price'].replace(r'[^0-9.,]+', '', regex=True)"
      ]
    },
    {
      "cell_type": "markdown",
      "id": "97c4ba45",
      "metadata": {
        "id": "97c4ba45"
      },
      "source": [
        "### display dos valores e suas repetições\n",
        "é notável uma certa incongruencia nos valores, viato que tem valores bem altos"
      ]
    },
    {
      "cell_type": "code",
      "execution_count": null,
      "id": "9a948eae",
      "metadata": {
        "colab": {
          "base_uri": "https://localhost:8080/"
        },
        "id": "9a948eae",
        "outputId": "d2072a8b-44dd-4db5-8dfe-a0e6ad3b3779"
      },
      "outputs": [
        {
          "output_type": "execute_result",
          "data": {
            "text/plain": [
              "price\n",
              "20       16373\n",
              "15       14445\n",
              "25       14027\n",
              "30       12180\n",
              "18       11506\n",
              "         ...  \n",
              "1900         1\n",
              "8.49         1\n",
              "17.50        1\n",
              "367          1\n",
              "897          1\n",
              "Name: count, Length: 543, dtype: int64"
            ]
          },
          "metadata": {},
          "execution_count": 20
        }
      ],
      "source": [
        "df['price'].value_counts()"
      ]
    },
    {
      "cell_type": "code",
      "execution_count": null,
      "id": "14159e59",
      "metadata": {
        "id": "14159e59"
      },
      "outputs": [],
      "source": [
        "df2 = df[~df['price'].isnull()]"
      ]
    },
    {
      "cell_type": "code",
      "execution_count": null,
      "id": "e5bb1931",
      "metadata": {
        "id": "e5bb1931"
      },
      "outputs": [],
      "source": [
        "df2 = df2[df2['price'].str.isnumeric()]\n"
      ]
    },
    {
      "cell_type": "code",
      "execution_count": null,
      "id": "8aa3c334",
      "metadata": {
        "collapsed": true,
        "colab": {
          "base_uri": "https://localhost:8080/"
        },
        "id": "8aa3c334",
        "outputId": "a1504e52-2dc2-436e-aa48-22d5bf649a6c"
      },
      "outputs": [
        {
          "output_type": "stream",
          "name": "stdout",
          "text": [
            "<class 'pandas.core.frame.DataFrame'>\n",
            "Index: 291920 entries, 0 to 323236\n",
            "Data columns (total 11 columns):\n",
            " #   Column       Non-Null Count   Dtype \n",
            "---  ------       --------------   ----- \n",
            " 0   wine         291920 non-null  object\n",
            " 1   winery       291920 non-null  object\n",
            " 2   category     291920 non-null  object\n",
            " 3   designation  206061 non-null  object\n",
            " 4   varietal     271833 non-null  object\n",
            " 5   appellation  289406 non-null  object\n",
            " 6   alcohol      260579 non-null  object\n",
            " 7   price        291920 non-null  object\n",
            " 8   rating       291920 non-null  int64 \n",
            " 9   reviewer     225760 non-null  object\n",
            " 10  review       290894 non-null  object\n",
            "dtypes: int64(1), object(10)\n",
            "memory usage: 26.7+ MB\n"
          ]
        }
      ],
      "source": [
        "df2.info()"
      ]
    },
    {
      "cell_type": "markdown",
      "id": "d3a33c9a",
      "metadata": {
        "id": "d3a33c9a"
      },
      "source": [
        "### print do vinho com valores mais altos em preço"
      ]
    },
    {
      "cell_type": "code",
      "execution_count": null,
      "id": "7967052a",
      "metadata": {
        "scrolled": false,
        "colab": {
          "base_uri": "https://localhost:8080/"
        },
        "id": "7967052a",
        "outputId": "7061fdfa-6e72-4079-c325-0c4117514174"
      },
      "outputs": [
        {
          "output_type": "execute_result",
          "data": {
            "text/plain": [
              "wine           Quinta do Crasto NV Honore Very Old Tawny  (Port)\n",
              "winery                                          Quinta do Crasto\n",
              "category                                             Port/Sherry\n",
              "designation                                Honore Very Old Tawny\n",
              "varietal                                        Port, Port Blend\n",
              "appellation                                       Port, Portugal\n",
              "alcohol                                                      20%\n",
              "price                                                       8500\n",
              "rating                                                        98\n",
              "reviewer                                              Roger Voss\n",
              "review         This is an extraordinary wine. It was created ...\n",
              "Name: 143963, dtype: object"
            ]
          },
          "metadata": {},
          "execution_count": 24
        }
      ],
      "source": [
        "df2['price'] = df2['price'].astype(int)\n",
        "df2.loc[df2['price'].idxmax()]"
      ]
    },
    {
      "cell_type": "markdown",
      "id": "95d3af6d",
      "metadata": {
        "id": "95d3af6d"
      },
      "source": [
        "### print do vinho com valores mais baixos em preço"
      ]
    },
    {
      "cell_type": "code",
      "execution_count": null,
      "id": "ad6ca9f2",
      "metadata": {
        "scrolled": true,
        "colab": {
          "base_uri": "https://localhost:8080/"
        },
        "id": "ad6ca9f2",
        "outputId": "3810769b-80c2-4d41-a37f-001f980f7219"
      },
      "outputs": [
        {
          "output_type": "execute_result",
          "data": {
            "text/plain": [
              "wine                        Three Wishes NV Chardonnay (America)\n",
              "winery                                              Three Wishes\n",
              "category                                                   White\n",
              "designation                                                  NaN\n",
              "varietal                                              Chardonnay\n",
              "appellation                                          America, US\n",
              "alcohol                                                    12.5%\n",
              "price                                                          3\n",
              "rating                                                        86\n",
              "reviewer                                              Jim Gordon\n",
              "review         This medium-bodied, soft-textured wine finds a...\n",
              "Name: 91841, dtype: object"
            ]
          },
          "metadata": {},
          "execution_count": 25
        }
      ],
      "source": [
        "df2.loc[df2['price'].idxmin()]"
      ]
    },
    {
      "cell_type": "markdown",
      "id": "95886c45",
      "metadata": {
        "id": "95886c45"
      },
      "source": [
        "### display dos valores de rating"
      ]
    },
    {
      "cell_type": "code",
      "execution_count": null,
      "id": "a6e52a33",
      "metadata": {
        "scrolled": true,
        "colab": {
          "base_uri": "https://localhost:8080/"
        },
        "id": "a6e52a33",
        "outputId": "99651487-1857-4915-ee6e-37dc9eabffe9"
      },
      "outputs": [
        {
          "output_type": "execute_result",
          "data": {
            "text/plain": [
              "rating\n",
              "88     41269\n",
              "90     39674\n",
              "87     38675\n",
              "89     29961\n",
              "91     28699\n",
              "86     28296\n",
              "92     24599\n",
              "85     21590\n",
              "93     17488\n",
              "84     16107\n",
              "94     10545\n",
              "83      8748\n",
              "82      5377\n",
              "95      5090\n",
              "96      2240\n",
              "81      2040\n",
              "80      1212\n",
              "97      1031\n",
              "98       400\n",
              "99       118\n",
              "100       78\n",
              "Name: count, dtype: int64"
            ]
          },
          "metadata": {},
          "execution_count": 26
        }
      ],
      "source": [
        "df['rating'].value_counts()"
      ]
    },
    {
      "cell_type": "markdown",
      "id": "4324ed71",
      "metadata": {
        "id": "4324ed71"
      },
      "source": [
        "### plotagem do histograma de rating"
      ]
    },
    {
      "cell_type": "code",
      "execution_count": null,
      "id": "ce83dd4f",
      "metadata": {
        "scrolled": true,
        "colab": {
          "base_uri": "https://localhost:8080/",
          "height": 440
        },
        "id": "ce83dd4f",
        "outputId": "55344689-fb49-4053-a639-695a8b418b9a"
      },
      "outputs": [
        {
          "output_type": "display_data",
          "data": {
            "text/plain": [
              "<Figure size 640x480 with 1 Axes>"
            ],
            "image/png": "[encoded data removed]"
          },
          "metadata": {}
        }
      ],
      "source": [
        "plt.style.use(\"classic\")\n",
        "plt.hist(df['rating'], bins=21)\n",
        "plt.show()"
      ]
    },
    {
      "cell_type": "markdown",
      "id": "e060eec1",
      "metadata": {
        "id": "e060eec1"
      },
      "source": [
        "### display dos nomes dos avaliadores"
      ]
    },
    {
      "cell_type": "code",
      "execution_count": null,
      "id": "4777fb6e",
      "metadata": {
        "scrolled": true,
        "colab": {
          "base_uri": "https://localhost:8080/"
        },
        "id": "4777fb6e",
        "outputId": "33ea9d30-1105-4a61-aa30-01857137354a"
      },
      "outputs": [
        {
          "output_type": "execute_result",
          "data": {
            "text/plain": [
              "reviewer\n",
              "Roger Voss            59848\n",
              "Michael Schachner     34774\n",
              "Kerin O’Keefe         24084\n",
              "Paul Gregutt          22862\n",
              "Virginie Boone        20189\n",
              "Matt Kettmann         17026\n",
              "Joe Czerwinski        13982\n",
              "Jim Gordon            11090\n",
              "Anna Lee C. Iijima    10917\n",
              "Sean P. Sullivan      10278\n",
              "Anne Krebiehl MW       9497\n",
              "Lauren Buzzeo          3870\n",
              "Christina Pickard      3430\n",
              "Alexander Peartree     2923\n",
              "Susan Kostrzewa        2750\n",
              "Mike DeSimone          1144\n",
              "Jeff Jenssen           1031\n",
              "Fiona Adams             845\n",
              "Carrie Dykes            344\n",
              "Jesica Vargas           157\n",
              "Layla Schlack            33\n",
              "Dara Kapoor               1\n",
              "Name: count, dtype: int64"
            ]
          },
          "metadata": {},
          "execution_count": 28
        }
      ],
      "source": [
        "df['reviewer'].value_counts()"
      ]
    },
    {
      "cell_type": "markdown",
      "id": "121d257a",
      "metadata": {
        "id": "121d257a"
      },
      "source": [
        "### display das avaliações"
      ]
    },
    {
      "cell_type": "code",
      "execution_count": null,
      "id": "457dbaf2",
      "metadata": {
        "scrolled": true,
        "colab": {
          "base_uri": "https://localhost:8080/"
        },
        "id": "457dbaf2",
        "outputId": "3f5d9bc0-36d6-4a79-a5a1-32fbdd79fc86"
      },
      "outputs": [
        {
          "output_type": "execute_result",
          "data": {
            "text/plain": [
              "review\n",
              "Review unavailable at this time                                                                                                                                                                                                                                 162\n",
              "Floral and almond scents on the nose, along with stone fruits—Queen Anne cherries? Sharp, almost bitter on the palate and into the finish, which is tart and shows good length.                                                                                   4\n",
              "86-88 This could work as a rich wine, because there is good structure and piles of botrytis. It could be delicious, with its lovely dry finish, but that's for the future.                                                                                        3\n",
              "89–91. Barrel Sample. While this wine has plenty of tannins, it is the fruit that is so good here. The black currant flavors of Cabernet Sauvignon dominate and give the wine an open fruitiness. Drink from 2023.                                                3\n",
              "Review not available at this time.                                                                                                                                                                                                                                3\n",
              "                                                                                                                                                                                                                                                               ... \n",
              "Initial hickory and clove aromas give way to cool earth scents. This flush, tannic RDD is edgy and abrasive in feel, with baked plum and spicy berry flavors. On the finish, this tastes saucy and earthy, with mild astringency stemming from hard tannins.      1\n",
              "Rounded aromas of Asian pear and citrus show on the nose of this bottling. The flavors combine lemon juice with tart green apple and a bit of nutty warmth.                                                                                                       1\n",
              "Starts with earthy, blackberry aromas and deeper notes of plum preserves and blueberry. Picks up some pretty blackberry and cherry notes in the chewy core, then turns rich and solidly tannic in the finish. Needs time. —S.H.                                   1\n",
              "Created in 1819, this vineyard surrounds a Victorian château overlooking the Loire. This wine is fruity, fresh and soft. It has attractive acidity, a light texture and perfumed acidity set in the context of apple and lime fruits. Drink now.                  1\n",
              "Made from organically farmed Ciliegiolo (one of the great indigenous varieties of Tuscany), this opens with cherry and cured meat notes, and it shows a bright, tart quality on the finish.                                                                       1\n",
              "Name: count, Length: 321764, dtype: int64"
            ]
          },
          "metadata": {},
          "execution_count": 29
        }
      ],
      "source": [
        "df['review'].value_counts()"
      ]
    },
    {
      "cell_type": "markdown",
      "id": "76a7be99",
      "metadata": {
        "id": "76a7be99"
      },
      "source": [
        "### display das regiões dos vinhos"
      ]
    },
    {
      "cell_type": "code",
      "execution_count": null,
      "id": "62f1df18",
      "metadata": {
        "scrolled": false,
        "colab": {
          "base_uri": "https://localhost:8080/"
        },
        "id": "62f1df18",
        "outputId": "df1ccc81-d6b5-4ef3-bc03-be8344e07e96"
      },
      "outputs": [
        {
          "output_type": "execute_result",
          "data": {
            "text/plain": [
              "appellation\n",
              "Napa Valley, Napa, California, US                             11477\n",
              "Columbia Valley (WA), Columbia Valley, Washington, US          9150\n",
              "California, California Other, California, US                   7408\n",
              "Russian River Valley, Sonoma, California, US                   7161\n",
              "Paso Robles, Central Coast, California, US                     6101\n",
              "                                                              ...  \n",
              "Vino de la Tierra Ribera del Jiloca, Northern Spain, Spain        1\n",
              "Deutscher Tafelwein Rhein, Germany                                1\n",
              "Rosso di Cerignola, Southern Italy, Italy                         1\n",
              "Barkan, Israel                                                    1\n",
              "Delia Nivolelli, Sicily & Sardinia, Italy                         1\n",
              "Name: count, Length: 2003, dtype: int64"
            ]
          },
          "metadata": {},
          "execution_count": 30
        }
      ],
      "source": [
        "df['appellation'].value_counts()"
      ]
    },
    {
      "cell_type": "markdown",
      "id": "fafd5d15",
      "metadata": {
        "id": "fafd5d15"
      },
      "source": [
        "### formatação para retirar o pais dos dados"
      ]
    },
    {
      "cell_type": "code",
      "execution_count": null,
      "id": "aa29ddb0",
      "metadata": {
        "id": "aa29ddb0"
      },
      "outputs": [],
      "source": [
        "def ultimo_valor_string(text):\n",
        "    values = text.split(',')\n",
        "    return values[-1]"
      ]
    },
    {
      "cell_type": "code",
      "execution_count": null,
      "id": "0d0970dd",
      "metadata": {
        "scrolled": true,
        "id": "0d0970dd",
        "colab": {
          "base_uri": "https://localhost:8080/",
          "height": 198
        },
        "outputId": "8180e96d-953c-4aab-f06e-c273c3c7fba7"
      },
      "outputs": [
        {
          "output_type": "error",
          "ename": "NameError",
          "evalue": "name 'df' is not defined",
          "traceback": [
            "\u001b[0;31m---------------------------------------------------------------------------\u001b[0m",
            "\u001b[0;31mNameError\u001b[0m                                 Traceback (most recent call last)",
            "\u001b[0;32m<ipython-input-1-66b7f413feb5>\u001b[0m in \u001b[0;36m<cell line: 1>\u001b[0;34m()\u001b[0m\n\u001b[0;32m----> 1\u001b[0;31m \u001b[0mdf\u001b[0m\u001b[0;34m[\u001b[0m\u001b[0;34m'appellation'\u001b[0m\u001b[0;34m]\u001b[0m \u001b[0;34m=\u001b[0m \u001b[0mdf\u001b[0m\u001b[0;34m[\u001b[0m\u001b[0;34m'appellation'\u001b[0m\u001b[0;34m]\u001b[0m\u001b[0;34m.\u001b[0m\u001b[0mastype\u001b[0m\u001b[0;34m(\u001b[0m\u001b[0mstr\u001b[0m\u001b[0;34m)\u001b[0m\u001b[0;34m\u001b[0m\u001b[0;34m\u001b[0m\u001b[0m\n\u001b[0m\u001b[1;32m      2\u001b[0m \u001b[0mdf\u001b[0m\u001b[0;34m[\u001b[0m\u001b[0;34m'country'\u001b[0m\u001b[0;34m]\u001b[0m \u001b[0;34m=\u001b[0m \u001b[0mdf\u001b[0m\u001b[0;34m[\u001b[0m\u001b[0;34m'appellation'\u001b[0m\u001b[0;34m]\u001b[0m\u001b[0;34m.\u001b[0m\u001b[0mapply\u001b[0m\u001b[0;34m(\u001b[0m\u001b[0multimo_valor_string\u001b[0m\u001b[0;34m)\u001b[0m\u001b[0;34m\u001b[0m\u001b[0;34m\u001b[0m\u001b[0m\n\u001b[1;32m      3\u001b[0m \u001b[0;34m\u001b[0m\u001b[0m\n\u001b[1;32m      4\u001b[0m \u001b[0mprint\u001b[0m\u001b[0;34m(\u001b[0m\u001b[0mdf\u001b[0m\u001b[0;34m[\u001b[0m\u001b[0;34m'country'\u001b[0m\u001b[0;34m]\u001b[0m\u001b[0;34m)\u001b[0m\u001b[0;34m\u001b[0m\u001b[0;34m\u001b[0m\u001b[0m\n",
            "\u001b[0;31mNameError\u001b[0m: name 'df' is not defined"
          ]
        }
      ],
      "source": [
        "df['appellation'] = df['appellation'].astype(str)\n",
        "df['country'] = df['appellation'].apply(ultimo_valor_string)\n",
        "\n",
        "print(df['country'])"
      ]
    },
    {
      "cell_type": "markdown",
      "id": "e113f46c",
      "metadata": {
        "id": "e113f46c"
      },
      "source": [
        "### print dos países mais comuns  no dataset"
      ]
    },
    {
      "cell_type": "code",
      "execution_count": null,
      "id": "328fc06f",
      "metadata": {
        "id": "328fc06f"
      },
      "outputs": [],
      "source": [
        "df['country'].value_counts()"
      ]
    },
    {
      "cell_type": "code",
      "source": [
        "df['price'] = df['price'].astype(str)\n",
        "df['alcohol'] = df['alcohol'].astype(str)"
      ],
      "metadata": {
        "id": "Rq0o2ek2zxS8"
      },
      "id": "Rq0o2ek2zxS8",
      "execution_count": null,
      "outputs": []
    },
    {
      "cell_type": "code",
      "source": [
        "df = df[df['country'] != 'nan']\n",
        "df = df[df['country'] != 'Buy Now']\n",
        "df = df[df['country'] != 'DrizlyVivino']\n",
        "df = df[df['alcohol'] != 'nan']\n",
        "df = df[df['price'] != 'nan']\n",
        "df = df.reset_index(drop=True)"
      ],
      "metadata": {
        "id": "pHF7RzFJz2Kr"
      },
      "id": "pHF7RzFJz2Kr",
      "execution_count": null,
      "outputs": []
    },
    {
      "cell_type": "code",
      "source": [
        "display(df)"
      ],
      "metadata": {
        "id": "PhhGIXaG0Drr"
      },
      "id": "PhhGIXaG0Drr",
      "execution_count": null,
      "outputs": []
    }
  ],
  "metadata": {
    "kernelspec": {
      "display_name": "Python 3 (ipykernel)",
      "language": "python",
      "name": "python3"
    },
    "language_info": {
      "codemirror_mode": {
        "name": "ipython",
        "version": 3
      },
      "file_extension": ".py",
      "mimetype": "text/x-python",
      "name": "python",
      "nbconvert_exporter": "python",
      "pygments_lexer": "ipython3",
      "version": "3.11.2"
    },
    "colab": {
      "provenance": [],
      "include_colab_link": true
    }
  },
  "nbformat": 4,
  "nbformat_minor": 5
}