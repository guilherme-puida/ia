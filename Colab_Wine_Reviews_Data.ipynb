{
 "cells": [
  {
   "cell_type": "markdown",
   "id": "68914961",
   "metadata": {
    "colab_type": "text",
    "id": "view-in-github"
   },
   "source": [
    "<a href=\"https://colab.research.google.com/github/guilherme-puida/ia/blob/main/Colab_Wine_Reviews_Data.ipynb\" target=\"_parent\"><img src=\"https://colab.research.google.com/assets/colab-badge.svg\" alt=\"Open In Colab\"/></a>"
   ]
  },
  {
   "cell_type": "code",
   "execution_count": 1,
   "id": "1908e354",
   "metadata": {
    "id": "1908e354",
    "scrolled": true
   },
   "outputs": [],
   "source": [
    "import pandas as pd\n",
    "import matplotlib.pyplot as plt"
   ]
  },
  {
   "cell_type": "code",
   "execution_count": 2,
   "id": "ce663730",
   "metadata": {
    "id": "ce663730"
   },
   "outputs": [],
   "source": [
    "df = pd.read_csv(\"wine.csv\")"
   ]
  },
  {
   "cell_type": "markdown",
   "id": "aeecc39b",
   "metadata": {
    "id": "aeecc39b"
   },
   "source": [
    "# display do dataframe original"
   ]
  },
  {
   "cell_type": "code",
   "execution_count": 3,
   "id": "5cbf4fa2",
   "metadata": {
    "colab": {
     "base_uri": "https://localhost:8080/",
     "height": 597
    },
    "id": "5cbf4fa2",
    "outputId": "4b27e24d-da47-48b4-b88d-eff6c79919ca",
    "scrolled": true
   },
   "outputs": [
    {
     "data": {
      "text/html": [
       "<div>\n",
       "<style scoped>\n",
       "    .dataframe tbody tr th:only-of-type {\n",
       "        vertical-align: middle;\n",
       "    }\n",
       "\n",
       "    .dataframe tbody tr th {\n",
       "        vertical-align: top;\n",
       "    }\n",
       "\n",
       "    .dataframe thead th {\n",
       "        text-align: right;\n",
       "    }\n",
       "</style>\n",
       "<table border=\"1\" class=\"dataframe\">\n",
       "  <thead>\n",
       "    <tr style=\"text-align: right;\">\n",
       "      <th></th>\n",
       "      <th>wine</th>\n",
       "      <th>winery</th>\n",
       "      <th>category</th>\n",
       "      <th>designation</th>\n",
       "      <th>varietal</th>\n",
       "      <th>appellation</th>\n",
       "      <th>alcohol</th>\n",
       "      <th>price</th>\n",
       "      <th>rating</th>\n",
       "      <th>reviewer</th>\n",
       "      <th>review</th>\n",
       "    </tr>\n",
       "  </thead>\n",
       "  <tbody>\n",
       "    <tr>\n",
       "      <th>0</th>\n",
       "      <td>J. Lohr 2000 Hilltop Vineyard Cabernet Sauvign...</td>\n",
       "      <td>J. Lohr</td>\n",
       "      <td>Red</td>\n",
       "      <td>Hilltop Vineyard</td>\n",
       "      <td>Cabernet Sauvignon</td>\n",
       "      <td>Paso Robles, Central Coast, California, US</td>\n",
       "      <td>NaN</td>\n",
       "      <td>$32</td>\n",
       "      <td>87</td>\n",
       "      <td>NaN</td>\n",
       "      <td>Held back nearly five years, this Cab still ha...</td>\n",
       "    </tr>\n",
       "    <tr>\n",
       "      <th>1</th>\n",
       "      <td>Antucura 2010 Pinot Noir (Vista Flores)</td>\n",
       "      <td>Antucura</td>\n",
       "      <td>Red</td>\n",
       "      <td>NaN</td>\n",
       "      <td>Pinot Noir</td>\n",
       "      <td>Vista Flores, Mendoza Province, Argentina</td>\n",
       "      <td>15%</td>\n",
       "      <td>$17</td>\n",
       "      <td>85</td>\n",
       "      <td>Michael Schachner</td>\n",
       "      <td>Rubbery, bold and earthy on the nose, then ful...</td>\n",
       "    </tr>\n",
       "    <tr>\n",
       "      <th>2</th>\n",
       "      <td>Quinta do Portal 1999 Quinta do Portal Reserva...</td>\n",
       "      <td>Quinta do Portal</td>\n",
       "      <td>Red</td>\n",
       "      <td>Quinta do Portal Reserva</td>\n",
       "      <td>Red Blends, Red Blends</td>\n",
       "      <td>Douro, Portugal</td>\n",
       "      <td>NaN</td>\n",
       "      <td>NaN</td>\n",
       "      <td>90</td>\n",
       "      <td>Roger Voss</td>\n",
       "      <td>Smoky, meaty aromas lead into perfumed fruit f...</td>\n",
       "    </tr>\n",
       "    <tr>\n",
       "      <th>3</th>\n",
       "      <td>Tenuta di Ghizzano 2006 Il Ghizzano Red (Toscana)</td>\n",
       "      <td>Tenuta di Ghizzano</td>\n",
       "      <td>Red</td>\n",
       "      <td>Il Ghizzano</td>\n",
       "      <td>Red Blends, Red Blends</td>\n",
       "      <td>Toscana, Tuscany, Italy</td>\n",
       "      <td>13.5%</td>\n",
       "      <td>$18</td>\n",
       "      <td>86</td>\n",
       "      <td>NaN</td>\n",
       "      <td>The nose is rather neutral save for distant ar...</td>\n",
       "    </tr>\n",
       "    <tr>\n",
       "      <th>4</th>\n",
       "      <td>Tenuta San Francesco 2007 Tramonti White (Camp...</td>\n",
       "      <td>Tenuta San Francesco</td>\n",
       "      <td>White</td>\n",
       "      <td>Tramonti</td>\n",
       "      <td>White Blend</td>\n",
       "      <td>Campania, Southern Italy, Italy</td>\n",
       "      <td>13.5%</td>\n",
       "      <td>$21</td>\n",
       "      <td>85</td>\n",
       "      <td>NaN</td>\n",
       "      <td>This intriguing blend of Falanghina, Biancolel...</td>\n",
       "    </tr>\n",
       "    <tr>\n",
       "      <th>...</th>\n",
       "      <td>...</td>\n",
       "      <td>...</td>\n",
       "      <td>...</td>\n",
       "      <td>...</td>\n",
       "      <td>...</td>\n",
       "      <td>...</td>\n",
       "      <td>...</td>\n",
       "      <td>...</td>\n",
       "      <td>...</td>\n",
       "      <td>...</td>\n",
       "      <td>...</td>\n",
       "    </tr>\n",
       "    <tr>\n",
       "      <th>323232</th>\n",
       "      <td>Maddalena 2017 Rosé (Paso Robles)</td>\n",
       "      <td>Maddalena</td>\n",
       "      <td>Rose</td>\n",
       "      <td>NaN</td>\n",
       "      <td>Rosé</td>\n",
       "      <td>Paso Robles, Central Coast, California, US</td>\n",
       "      <td>12.5%</td>\n",
       "      <td>$18</td>\n",
       "      <td>87</td>\n",
       "      <td>Matt Kettmann</td>\n",
       "      <td>Candied raspberry, cranberry, orange juice and...</td>\n",
       "    </tr>\n",
       "    <tr>\n",
       "      <th>323233</th>\n",
       "      <td>Toscolo 2015  Vernaccia di San Gimignano</td>\n",
       "      <td>Toscolo</td>\n",
       "      <td>White</td>\n",
       "      <td>NaN</td>\n",
       "      <td>Vernaccia, Italian White</td>\n",
       "      <td>Vernaccia di San Gimignano, Tuscany, Italy</td>\n",
       "      <td>12.5%</td>\n",
       "      <td>$11</td>\n",
       "      <td>87</td>\n",
       "      <td>Kerin O’Keefe</td>\n",
       "      <td>Aromas of white spring flower, yellow pear and...</td>\n",
       "    </tr>\n",
       "    <tr>\n",
       "      <th>323234</th>\n",
       "      <td>Domaine G. Metz 2017 Pinot Blanc (Alsace)</td>\n",
       "      <td>Domaine G. Metz</td>\n",
       "      <td>White</td>\n",
       "      <td>NaN</td>\n",
       "      <td>Pinot Blanc</td>\n",
       "      <td>Alsace, Alsace, France</td>\n",
       "      <td>13%</td>\n",
       "      <td>$20</td>\n",
       "      <td>90</td>\n",
       "      <td>Anne Krebiehl MW</td>\n",
       "      <td>A tinge of earth clings to the ripe, almost ju...</td>\n",
       "    </tr>\n",
       "    <tr>\n",
       "      <th>323235</th>\n",
       "      <td>Huston 2019 Chicken Dinner Red (Idaho)</td>\n",
       "      <td>Huston</td>\n",
       "      <td>Red</td>\n",
       "      <td>Chicken Dinner</td>\n",
       "      <td>Red Blends, Red Blends</td>\n",
       "      <td>Idaho, Idaho, US</td>\n",
       "      <td>14.3%</td>\n",
       "      <td>$18</td>\n",
       "      <td>87</td>\n",
       "      <td>Sean P. Sullivan</td>\n",
       "      <td>Fruit-forward aromas of plum, huckleberry and ...</td>\n",
       "    </tr>\n",
       "    <tr>\n",
       "      <th>323236</th>\n",
       "      <td>La Selva 2008  Maremma</td>\n",
       "      <td>La Selva</td>\n",
       "      <td>Red</td>\n",
       "      <td>NaN</td>\n",
       "      <td>Ciliegiolo, Italian White</td>\n",
       "      <td>Maremma, Tuscany, Italy</td>\n",
       "      <td>13.5%</td>\n",
       "      <td>$28</td>\n",
       "      <td>86</td>\n",
       "      <td>NaN</td>\n",
       "      <td>Made from organically farmed Ciliegiolo (one o...</td>\n",
       "    </tr>\n",
       "  </tbody>\n",
       "</table>\n",
       "<p>323237 rows × 11 columns</p>\n",
       "</div>"
      ],
      "text/plain": [
       "                                                     wine  \\\n",
       "0       J. Lohr 2000 Hilltop Vineyard Cabernet Sauvign...   \n",
       "1                 Antucura 2010 Pinot Noir (Vista Flores)   \n",
       "2       Quinta do Portal 1999 Quinta do Portal Reserva...   \n",
       "3       Tenuta di Ghizzano 2006 Il Ghizzano Red (Toscana)   \n",
       "4       Tenuta San Francesco 2007 Tramonti White (Camp...   \n",
       "...                                                   ...   \n",
       "323232                  Maddalena 2017 Rosé (Paso Robles)   \n",
       "323233           Toscolo 2015  Vernaccia di San Gimignano   \n",
       "323234          Domaine G. Metz 2017 Pinot Blanc (Alsace)   \n",
       "323235             Huston 2019 Chicken Dinner Red (Idaho)   \n",
       "323236                             La Selva 2008  Maremma   \n",
       "\n",
       "                      winery category               designation  \\\n",
       "0                    J. Lohr      Red          Hilltop Vineyard   \n",
       "1                   Antucura      Red                       NaN   \n",
       "2           Quinta do Portal      Red  Quinta do Portal Reserva   \n",
       "3         Tenuta di Ghizzano      Red               Il Ghizzano   \n",
       "4       Tenuta San Francesco    White                  Tramonti   \n",
       "...                      ...      ...                       ...   \n",
       "323232             Maddalena     Rose                       NaN   \n",
       "323233               Toscolo    White                       NaN   \n",
       "323234       Domaine G. Metz    White                       NaN   \n",
       "323235                Huston      Red            Chicken Dinner   \n",
       "323236              La Selva      Red                       NaN   \n",
       "\n",
       "                         varietal                                 appellation  \\\n",
       "0              Cabernet Sauvignon  Paso Robles, Central Coast, California, US   \n",
       "1                      Pinot Noir   Vista Flores, Mendoza Province, Argentina   \n",
       "2          Red Blends, Red Blends                             Douro, Portugal   \n",
       "3          Red Blends, Red Blends                     Toscana, Tuscany, Italy   \n",
       "4                     White Blend             Campania, Southern Italy, Italy   \n",
       "...                           ...                                         ...   \n",
       "323232                       Rosé  Paso Robles, Central Coast, California, US   \n",
       "323233   Vernaccia, Italian White  Vernaccia di San Gimignano, Tuscany, Italy   \n",
       "323234                Pinot Blanc                      Alsace, Alsace, France   \n",
       "323235     Red Blends, Red Blends                            Idaho, Idaho, US   \n",
       "323236  Ciliegiolo, Italian White                     Maremma, Tuscany, Italy   \n",
       "\n",
       "       alcohol price  rating           reviewer  \\\n",
       "0          NaN   $32      87                NaN   \n",
       "1          15%   $17      85  Michael Schachner   \n",
       "2          NaN   NaN      90         Roger Voss   \n",
       "3        13.5%   $18      86                NaN   \n",
       "4        13.5%   $21      85                NaN   \n",
       "...        ...   ...     ...                ...   \n",
       "323232   12.5%   $18      87      Matt Kettmann   \n",
       "323233   12.5%   $11      87      Kerin O’Keefe   \n",
       "323234     13%   $20      90   Anne Krebiehl MW   \n",
       "323235   14.3%   $18      87   Sean P. Sullivan   \n",
       "323236   13.5%   $28      86                NaN   \n",
       "\n",
       "                                                   review  \n",
       "0       Held back nearly five years, this Cab still ha...  \n",
       "1       Rubbery, bold and earthy on the nose, then ful...  \n",
       "2       Smoky, meaty aromas lead into perfumed fruit f...  \n",
       "3       The nose is rather neutral save for distant ar...  \n",
       "4       This intriguing blend of Falanghina, Biancolel...  \n",
       "...                                                   ...  \n",
       "323232  Candied raspberry, cranberry, orange juice and...  \n",
       "323233  Aromas of white spring flower, yellow pear and...  \n",
       "323234  A tinge of earth clings to the ripe, almost ju...  \n",
       "323235  Fruit-forward aromas of plum, huckleberry and ...  \n",
       "323236  Made from organically farmed Ciliegiolo (one o...  \n",
       "\n",
       "[323237 rows x 11 columns]"
      ]
     },
     "execution_count": 3,
     "metadata": {},
     "output_type": "execute_result"
    }
   ],
   "source": [
    "df"
   ]
  },
  {
   "cell_type": "markdown",
   "id": "02e593e6",
   "metadata": {
    "id": "02e593e6"
   },
   "source": [
    "# display de informações básicas dos dados\n",
    "### tipos de dados e quantidade de dados não nulos"
   ]
  },
  {
   "cell_type": "code",
   "execution_count": 4,
   "id": "33fc417c",
   "metadata": {
    "colab": {
     "base_uri": "https://localhost:8080/"
    },
    "id": "33fc417c",
    "outputId": "c7bc109f-d578-40aa-cccb-59dd4bdb3b0e",
    "scrolled": false
   },
   "outputs": [
    {
     "name": "stdout",
     "output_type": "stream",
     "text": [
      "<class 'pandas.core.frame.DataFrame'>\n",
      "RangeIndex: 323237 entries, 0 to 323236\n",
      "Data columns (total 11 columns):\n",
      " #   Column       Non-Null Count   Dtype \n",
      "---  ------       --------------   ----- \n",
      " 0   wine         323237 non-null  object\n",
      " 1   winery       323237 non-null  object\n",
      " 2   category     323237 non-null  object\n",
      " 3   designation  229692 non-null  object\n",
      " 4   varietal     302190 non-null  object\n",
      " 5   appellation  320630 non-null  object\n",
      " 6   alcohol      282216 non-null  object\n",
      " 7   price        299282 non-null  object\n",
      " 8   rating       323237 non-null  int64 \n",
      " 9   reviewer     251075 non-null  object\n",
      " 10  review       322108 non-null  object\n",
      "dtypes: int64(1), object(10)\n",
      "memory usage: 27.1+ MB\n"
     ]
    }
   ],
   "source": [
    "df.info()"
   ]
  },
  {
   "cell_type": "markdown",
   "id": "ebfb782c",
   "metadata": {
    "id": "ebfb782c"
   },
   "source": [
    "### display dos valores e suas repetições"
   ]
  },
  {
   "cell_type": "code",
   "execution_count": 5,
   "id": "cb99a49d",
   "metadata": {
    "colab": {
     "base_uri": "https://localhost:8080/"
    },
    "id": "cb99a49d",
    "outputId": "0cde2102-eab9-4c9e-b8c9-06a2a63041ae",
    "scrolled": false
   },
   "outputs": [
    {
     "data": {
      "text/plain": [
       "Perrier Jouët NV Grand Brut  (Champagne)                       15\n",
       "Delamotte NV Brut  (Champagne)                                 14\n",
       "Gloria Ferrer NV Sonoma Brut Sparkling (Sonoma County)         14\n",
       "Deutz NV Brut Classic  (Champagne)                             14\n",
       "Pommery NV Brut Royal  (Champagne)                             13\n",
       "                                                               ..\n",
       "Santa Rita 2002 Casa Real Cabernet Sauvignon (Maipo Valley)     1\n",
       "Cameron Hughes 2005 Chardonnay (Russian River Valley)           1\n",
       "Shaw 2007 Riesling (Finger Lakes)                               1\n",
       "Elk Creek Vineyards 2006 Chardonnay (Kentucky)                  1\n",
       "La Selva 2008  Maremma                                          1\n",
       "Name: wine, Length: 318338, dtype: int64"
      ]
     },
     "execution_count": 5,
     "metadata": {},
     "output_type": "execute_result"
    }
   ],
   "source": [
    "df['wine'].value_counts()"
   ]
  },
  {
   "cell_type": "markdown",
   "id": "7289f670",
   "metadata": {
    "id": "7289f670"
   },
   "source": [
    "### display dos valores e suas repetições"
   ]
  },
  {
   "cell_type": "code",
   "execution_count": 6,
   "id": "57781956",
   "metadata": {
    "colab": {
     "base_uri": "https://localhost:8080/"
    },
    "id": "57781956",
    "outputId": "a4a186be-ddf6-4038-f1c8-f84c17784897"
   },
   "outputs": [
    {
     "data": {
      "text/plain": [
       "Williams Selyem                   500\n",
       "Chateau Ste. Michelle             489\n",
       "DFJ Vinhos                        443\n",
       "Testarossa                        443\n",
       "Kendall-Jackson                   413\n",
       "                                 ... \n",
       "Château la Croix Saint-Georges      1\n",
       "Domaine Hamelin                     1\n",
       "Tenuta di Argiano                   1\n",
       "Conde de Olzinellas                 1\n",
       "Nabuko                              1\n",
       "Name: winery, Length: 26598, dtype: int64"
      ]
     },
     "execution_count": 6,
     "metadata": {},
     "output_type": "execute_result"
    }
   ],
   "source": [
    "df['winery'].value_counts()"
   ]
  },
  {
   "cell_type": "markdown",
   "id": "61ca90c9",
   "metadata": {
    "id": "61ca90c9"
   },
   "source": [
    "### display dos valores e suas repetições"
   ]
  },
  {
   "cell_type": "code",
   "execution_count": 7,
   "id": "0c7e1352",
   "metadata": {
    "colab": {
     "base_uri": "https://localhost:8080/"
    },
    "id": "0c7e1352",
    "outputId": "7cd4d7d8-66da-4bbc-e54e-88905066b24c"
   },
   "outputs": [
    {
     "data": {
      "text/plain": [
       "Red            194396\n",
       "White           95424\n",
       "Sparkling       14938\n",
       "Rose            11667\n",
       "Dessert          4329\n",
       "Port/Sherry      2257\n",
       "Fortified         226\n",
       "Name: category, dtype: int64"
      ]
     },
     "execution_count": 7,
     "metadata": {},
     "output_type": "execute_result"
    }
   ],
   "source": [
    "df['category'].value_counts()"
   ]
  },
  {
   "cell_type": "markdown",
   "id": "2b704fab",
   "metadata": {
    "id": "2b704fab"
   },
   "source": [
    "### display dos valores e suas repetições"
   ]
  },
  {
   "cell_type": "code",
   "execution_count": 8,
   "id": "d1c8d415",
   "metadata": {
    "colab": {
     "base_uri": "https://localhost:8080/"
    },
    "id": "d1c8d415",
    "outputId": "b5cd018a-f88c-4895-ce97-58d7afeaa148"
   },
   "outputs": [
    {
     "data": {
      "text/plain": [
       "Reserve                           5183\n",
       "Estate                            3183\n",
       "Reserva                           2927\n",
       "Barrel Sample                     2497\n",
       "Riserva                           1719\n",
       "                                  ... \n",
       "Exception Brut Intense               1\n",
       "Finca San Cibrao                     1\n",
       "Blanc de Noirs Cebada Vineyard       1\n",
       "Loner R13-C                          1\n",
       "Columbia County                      1\n",
       "Name: designation, Length: 77226, dtype: int64"
      ]
     },
     "execution_count": 8,
     "metadata": {},
     "output_type": "execute_result"
    }
   ],
   "source": [
    "df['designation'].value_counts()"
   ]
  },
  {
   "cell_type": "markdown",
   "id": "7a921c24",
   "metadata": {
    "id": "7a921c24"
   },
   "source": [
    "### display dos valores e suas repetições"
   ]
  },
  {
   "cell_type": "code",
   "execution_count": 9,
   "id": "6bda56b9",
   "metadata": {
    "colab": {
     "base_uri": "https://localhost:8080/"
    },
    "id": "6bda56b9",
    "outputId": "cc874f9f-a8cf-4252-f981-d8338af97973"
   },
   "outputs": [
    {
     "data": {
      "text/plain": [
       "Pinot Noir                                 33523\n",
       "Chardonnay                                 29439\n",
       "Cabernet Sauvignon                         23829\n",
       "Red Blends, Red Blends                     20012\n",
       "Bordeaux-style Red Blend                   17861\n",
       "                                           ...  \n",
       "Ruen, Other Red                                1\n",
       "Assyrtiko-Sauvignon Blanc, White Blend         1\n",
       "Chardonel, Other White                         1\n",
       "Grasparossa di Castelvetro, Italian Red        1\n",
       "Ehrenfelser, Other White                       1\n",
       "Name: varietal, Length: 869, dtype: int64"
      ]
     },
     "execution_count": 9,
     "metadata": {},
     "output_type": "execute_result"
    }
   ],
   "source": [
    "df['varietal'].value_counts()"
   ]
  },
  {
   "cell_type": "markdown",
   "id": "4f6db12b",
   "metadata": {
    "id": "4f6db12b"
   },
   "source": [
    "### display dos valores e suas repetições"
   ]
  },
  {
   "cell_type": "code",
   "execution_count": 10,
   "id": "08eb3375",
   "metadata": {
    "colab": {
     "base_uri": "https://localhost:8080/"
    },
    "id": "08eb3375",
    "outputId": "aaf63855-2f23-4a1b-c390-5d481867d62d"
   },
   "outputs": [
    {
     "data": {
      "text/plain": [
       "13.5%    45251\n",
       "13%      38404\n",
       "14.5%    33376\n",
       "14%      29945\n",
       "12.5%    24592\n",
       "         ...  \n",
       "225%         1\n",
       "17.3%        1\n",
       "8333%        1\n",
       "1.2%         1\n",
       "2016%        1\n",
       "Name: alcohol, Length: 553, dtype: int64"
      ]
     },
     "execution_count": 10,
     "metadata": {},
     "output_type": "execute_result"
    }
   ],
   "source": [
    "df['alcohol'].value_counts()"
   ]
  },
  {
   "cell_type": "markdown",
   "id": "09006da9",
   "metadata": {
    "id": "09006da9"
   },
   "source": [
    "limpeza do dado de preço removendo o \"$\""
   ]
  },
  {
   "cell_type": "code",
   "execution_count": 11,
   "id": "if57Ay11U7Ur",
   "metadata": {
    "id": "if57Ay11U7Ur"
   },
   "outputs": [],
   "source": [
    "df['alcohol'] = df['alcohol'].astype(str)"
   ]
  },
  {
   "cell_type": "code",
   "execution_count": 12,
   "id": "HePXEQWbVMgJ",
   "metadata": {
    "colab": {
     "base_uri": "https://localhost:8080/"
    },
    "id": "HePXEQWbVMgJ",
    "outputId": "a250208c-c64c-492b-e59b-457ace8c2d92"
   },
   "outputs": [
    {
     "data": {
      "text/plain": [
       "13.5%    45251\n",
       "nan      41021\n",
       "13%      38404\n",
       "14.5%    33376\n",
       "14%      29945\n",
       "         ...  \n",
       "225%         1\n",
       "17.3%        1\n",
       "8333%        1\n",
       "1.2%         1\n",
       "2016%        1\n",
       "Name: alcohol, Length: 554, dtype: int64"
      ]
     },
     "execution_count": 12,
     "metadata": {},
     "output_type": "execute_result"
    }
   ],
   "source": [
    "df['alcohol'].value_counts()"
   ]
  },
  {
   "cell_type": "code",
   "execution_count": 13,
   "id": "mEqph-m6VAeR",
   "metadata": {
    "id": "mEqph-m6VAeR"
   },
   "outputs": [],
   "source": [
    "df['alcohol'] = df['alcohol'].str.replace('%', '').astype(float)\n",
    "\n",
    "df = df[df['alcohol'] < 30]\n",
    "\n",
    "df = df.reset_index(drop=True)"
   ]
  },
  {
   "cell_type": "markdown",
   "id": "yBVqzny6XXDr",
   "metadata": {
    "id": "yBVqzny6XXDr"
   },
   "source": []
  },
  {
   "cell_type": "code",
   "execution_count": 14,
   "id": "x0fk2_s0V6TT",
   "metadata": {
    "colab": {
     "base_uri": "https://localhost:8080/"
    },
    "id": "x0fk2_s0V6TT",
    "outputId": "99476172-b9b8-4562-c8a0-8f2ac30ae832"
   },
   "outputs": [
    {
     "data": {
      "text/plain": [
       "13.50    45251\n",
       "13.00    38404\n",
       "14.50    33376\n",
       "14.00    29945\n",
       "12.50    24592\n",
       "         ...  \n",
       "12.18        1\n",
       "15.57        1\n",
       "17.30        1\n",
       "1.20         1\n",
       "11.79        1\n",
       "Name: alcohol, Length: 485, dtype: int64"
      ]
     },
     "execution_count": 14,
     "metadata": {},
     "output_type": "execute_result"
    }
   ],
   "source": [
    "df['alcohol'].value_counts()"
   ]
  },
  {
   "cell_type": "code",
   "execution_count": 15,
   "id": "b12K_VYLXizI",
   "metadata": {
    "colab": {
     "base_uri": "https://localhost:8080/"
    },
    "id": "b12K_VYLXizI",
    "outputId": "16a17754-b049-4209-b0bd-c5a559619bbe"
   },
   "outputs": [
    {
     "name": "stdout",
     "output_type": "stream",
     "text": [
      "[15.   13.5  15.1  12.   13.   14.1  14.5  12.5  11.   12.6  14.   13.7\n",
      " 13.1  20.   11.5  13.6  10.   15.6  13.8  12.7  13.9  14.8  15.5  14.7\n",
      " 14.3  14.9  14.2   9.5  19.5  11.3  14.4  12.8  15.2  14.6   9.   13.4\n",
      " 11.86 10.5   8.5  13.2  11.7  13.3   8.   15.3  16.   12.2  15.4  12.9\n",
      " 13.14 21.   15.7   7.5  11.9   8.2   9.6  13.44 15.03 13.52 16.7  15.8\n",
      " 16.2  12.1  12.3  16.8  12.35  7.   16.1   5.5  14.27 17.   15.9  20.5\n",
      "  9.9  18.   16.5   9.1  13.65 14.57 18.2  20.9  11.6  16.4  11.4  18.5\n",
      " 14.13 14.95  5.   13.04 11.2   6.5   9.8  12.15 13.07 12.4  13.28 14.73\n",
      " 15.12 10.2  14.21 19.4  13.62 19.   17.5  10.8  10.7  10.9  13.09 14.25\n",
      " 14.35 14.93 14.24 16.3  10.6   9.2  14.68 13.85 14.97 13.21 11.8  19.1\n",
      " 13.96 17.6  13.95 14.17 12.01  8.6  15.22 13.86  7.8  12.25 14.26 24.\n",
      "  4.5   8.7  14.56 10.1   9.4  12.27 13.31 13.72 13.38 17.9  14.38 15.27\n",
      " 14.14 15.84 14.02  8.9  11.1  16.9  13.26 10.4  13.67 13.25 12.08 22.\n",
      "  6.   14.75 14.94  0.5  12.73 13.75 12.77 12.53 14.36 13.83 13.36 18.7\n",
      " 12.65 13.88 14.42 14.04 12.79 12.02  9.79 14.66  8.8  25.   13.59 13.99\n",
      " 10.3  12.07 13.03 18.1  13.01 12.93 14.45 14.41 14.79 13.16 15.43 12.04\n",
      " 16.92 14.06 14.34 14.28 13.84 15.15 14.61 13.22 14.72 15.91 22.8   7.2\n",
      "  1.35 14.09 14.44 15.46 13.71 18.8  19.8  14.51 14.86 19.7  15.04 14.63\n",
      " 12.69 15.98 13.35 13.15 13.68 14.65 15.49 13.55 10.07 14.15 13.87 14.76\n",
      " 13.42 14.55 14.32 17.8  14.85 12.99 13.19 16.25 10.25 14.19 11.94 14.08\n",
      " 14.78 15.33 14.12 13.91 12.49 14.69 13.61 11.92 13.98 13.47 13.66 14.87\n",
      "  9.3  13.57 11.24 12.24 11.63 21.5  11.42 15.56  6.3  15.44 16.68 15.21\n",
      " 14.18 15.32 18.3  14.39 13.93  2.5   7.6  14.05 20.6   7.4  13.64 14.59\n",
      "  7.35 12.86 13.63 17.1  11.71  7.08 16.6  13.53 14.22 14.98 12.84 12.34\n",
      " 12.14 19.2  12.57 14.23 13.54 14.82 13.74 12.82 15.28 13.17 15.67 15.29\n",
      " 15.76 17.2  14.89 13.24 14.48 15.25 14.64 12.68 12.56 14.29 18.39 12.67\n",
      "  8.3  14.47 12.95 13.89 12.88 15.18 12.48 14.67 12.98 13.39 13.51 18.9\n",
      " 15.55  9.7  14.88 28.    4.   11.98 14.37 13.77 11.07 19.9  12.59 15.75\n",
      " 13.81 23.   11.88 13.45  3.   14.01 14.92 12.31 12.75 14.54 13.94 12.38\n",
      " 14.71 11.99 12.44 14.11 12.18 15.57 13.11 15.02 17.3   1.2  16.64 13.58\n",
      " 15.07 13.92 12.05 15.38 23.3  11.95 15.17 13.79  8.4  14.33 12.96 12.22\n",
      " 12.23 27.    7.9  14.46 18.6  14.43 15.37 13.05 14.77 13.34 14.91 17.4\n",
      " 15.05 12.54 13.43 12.06  7.1  14.49 11.69 20.4  12.66 13.06 11.73 11.85\n",
      " 15.08 13.73 14.52  2.   13.97  9.68 15.09  8.1  19.3  15.26 15.53 13.69\n",
      " 12.32 11.66 18.4  11.25 12.71 15.52 12.37 12.42 13.78 11.74  8.17 12.83\n",
      " 13.46 12.61 12.64 10.83 13.49 14.81 15.35  3.5  16.37 12.43 13.56 13.12\n",
      " 14.83 14.53  1.   19.02 17.7  11.83 15.59 13.76  6.2  13.32 15.34 15.87\n",
      "  7.3  11.75 12.74 14.84  9.17 12.85 15.14 12.28 15.23 14.58 15.13 14.16\n",
      " 15.99  7.7  13.82 16.75 14.07  6.8  12.45 15.88 15.71 14.03 13.33  1.5\n",
      "  9.25 15.78 21.2  16.24 13.29 14.62 13.41 14.96 12.16 12.92 13.27 19.6\n",
      " 20.1   2.2  15.39 15.42 11.79]\n"
     ]
    }
   ],
   "source": [
    "unique_alcohol_values = df['alcohol'].unique()\n",
    "print(unique_alcohol_values)"
   ]
  },
  {
   "cell_type": "code",
   "execution_count": 16,
   "id": "b79a9877",
   "metadata": {
    "id": "b79a9877"
   },
   "outputs": [],
   "source": [
    "df['price'] = df['price'].replace(r'[^0-9.,]+', '', regex=True)"
   ]
  },
  {
   "cell_type": "markdown",
   "id": "97c4ba45",
   "metadata": {
    "id": "97c4ba45"
   },
   "source": [
    "### display dos valores e suas repetições\n",
    "é notável uma certa incongruencia nos valores, viato que tem valores bem altos"
   ]
  },
  {
   "cell_type": "code",
   "execution_count": 17,
   "id": "9a948eae",
   "metadata": {
    "colab": {
     "base_uri": "https://localhost:8080/"
    },
    "id": "9a948eae",
    "outputId": "d2072a8b-44dd-4db5-8dfe-a0e6ad3b3779"
   },
   "outputs": [
    {
     "data": {
      "text/plain": [
       "20     14608\n",
       "15     13047\n",
       "25     12569\n",
       "30     10720\n",
       "18     10024\n",
       "       ...  \n",
       "788        1\n",
       "386        1\n",
       "261        1\n",
       "612        1\n",
       "897        1\n",
       "Name: price, Length: 513, dtype: int64"
      ]
     },
     "execution_count": 17,
     "metadata": {},
     "output_type": "execute_result"
    }
   ],
   "source": [
    "df['price'].value_counts()"
   ]
  },
  {
   "cell_type": "code",
   "execution_count": 18,
   "id": "14159e59",
   "metadata": {
    "id": "14159e59"
   },
   "outputs": [],
   "source": [
    "df2 = df[~df['price'].isnull()]"
   ]
  },
  {
   "cell_type": "code",
   "execution_count": 19,
   "id": "e5bb1931",
   "metadata": {
    "id": "e5bb1931"
   },
   "outputs": [],
   "source": [
    "df2 = df2[df2['price'].str.isnumeric()]\n"
   ]
  },
  {
   "cell_type": "code",
   "execution_count": 20,
   "id": "8aa3c334",
   "metadata": {
    "colab": {
     "base_uri": "https://localhost:8080/"
    },
    "id": "8aa3c334",
    "outputId": "a1504e52-2dc2-436e-aa48-22d5bf649a6c"
   },
   "outputs": [
    {
     "name": "stdout",
     "output_type": "stream",
     "text": [
      "<class 'pandas.core.frame.DataFrame'>\n",
      "Int64Index: 260457 entries, 0 to 282081\n",
      "Data columns (total 11 columns):\n",
      " #   Column       Non-Null Count   Dtype  \n",
      "---  ------       --------------   -----  \n",
      " 0   wine         260457 non-null  object \n",
      " 1   winery       260457 non-null  object \n",
      " 2   category     260457 non-null  object \n",
      " 3   designation  186504 non-null  object \n",
      " 4   varietal     243390 non-null  object \n",
      " 5   appellation  257996 non-null  object \n",
      " 6   alcohol      260457 non-null  float64\n",
      " 7   price        260457 non-null  object \n",
      " 8   rating       260457 non-null  int64  \n",
      " 9   reviewer     208068 non-null  object \n",
      " 10  review       259677 non-null  object \n",
      "dtypes: float64(1), int64(1), object(9)\n",
      "memory usage: 23.8+ MB\n"
     ]
    }
   ],
   "source": [
    "df2.info()"
   ]
  },
  {
   "cell_type": "markdown",
   "id": "d3a33c9a",
   "metadata": {
    "id": "d3a33c9a"
   },
   "source": [
    "### print do vinho com valores mais altos em preço"
   ]
  },
  {
   "cell_type": "code",
   "execution_count": 21,
   "id": "7967052a",
   "metadata": {
    "colab": {
     "base_uri": "https://localhost:8080/"
    },
    "id": "7967052a",
    "outputId": "7061fdfa-6e72-4079-c325-0c4117514174",
    "scrolled": false
   },
   "outputs": [
    {
     "data": {
      "text/plain": [
       "wine           Quinta do Crasto NV Honore Very Old Tawny  (Port)\n",
       "winery                                          Quinta do Crasto\n",
       "category                                             Port/Sherry\n",
       "designation                                Honore Very Old Tawny\n",
       "varietal                                        Port, Port Blend\n",
       "appellation                                       Port, Portugal\n",
       "alcohol                                                     20.0\n",
       "price                                                       8500\n",
       "rating                                                        98\n",
       "reviewer                                              Roger Voss\n",
       "review         This is an extraordinary wine. It was created ...\n",
       "Name: 125634, dtype: object"
      ]
     },
     "execution_count": 21,
     "metadata": {},
     "output_type": "execute_result"
    }
   ],
   "source": [
    "df2['price'] = df2['price'].astype(int)\n",
    "df2.loc[df2['price'].idxmax()]"
   ]
  },
  {
   "cell_type": "markdown",
   "id": "95d3af6d",
   "metadata": {
    "id": "95d3af6d"
   },
   "source": [
    "### print do vinho com valores mais baixos em preço"
   ]
  },
  {
   "cell_type": "code",
   "execution_count": 22,
   "id": "ad6ca9f2",
   "metadata": {
    "colab": {
     "base_uri": "https://localhost:8080/"
    },
    "id": "ad6ca9f2",
    "outputId": "3810769b-80c2-4d41-a37f-001f980f7219",
    "scrolled": true
   },
   "outputs": [
    {
     "data": {
      "text/plain": [
       "wine                        Three Wishes NV Chardonnay (America)\n",
       "winery                                              Three Wishes\n",
       "category                                                   White\n",
       "designation                                                  NaN\n",
       "varietal                                              Chardonnay\n",
       "appellation                                          America, US\n",
       "alcohol                                                     12.5\n",
       "price                                                          3\n",
       "rating                                                        86\n",
       "reviewer                                              Jim Gordon\n",
       "review         This medium-bodied, soft-textured wine finds a...\n",
       "Name: 80158, dtype: object"
      ]
     },
     "execution_count": 22,
     "metadata": {},
     "output_type": "execute_result"
    }
   ],
   "source": [
    "df2.loc[df2['price'].idxmin()]"
   ]
  },
  {
   "cell_type": "markdown",
   "id": "95886c45",
   "metadata": {
    "id": "95886c45"
   },
   "source": [
    "### display dos valores de rating"
   ]
  },
  {
   "cell_type": "code",
   "execution_count": 23,
   "id": "a6e52a33",
   "metadata": {
    "colab": {
     "base_uri": "https://localhost:8080/"
    },
    "id": "a6e52a33",
    "outputId": "99651487-1857-4915-ee6e-37dc9eabffe9",
    "scrolled": true
   },
   "outputs": [
    {
     "data": {
      "text/plain": [
       "88     36475\n",
       "90     34775\n",
       "87     34089\n",
       "89     26015\n",
       "91     25072\n",
       "86     24814\n",
       "92     21612\n",
       "85     18716\n",
       "93     15214\n",
       "84     13787\n",
       "94      9152\n",
       "83      7462\n",
       "82      4647\n",
       "95      4306\n",
       "96      1810\n",
       "81      1783\n",
       "80      1095\n",
       "97       806\n",
       "98       298\n",
       "99        86\n",
       "100       68\n",
       "Name: rating, dtype: int64"
      ]
     },
     "execution_count": 23,
     "metadata": {},
     "output_type": "execute_result"
    }
   ],
   "source": [
    "df['rating'].value_counts()"
   ]
  },
  {
   "cell_type": "markdown",
   "id": "4324ed71",
   "metadata": {
    "id": "4324ed71"
   },
   "source": [
    "### plotagem do histograma de rating"
   ]
  },
  {
   "cell_type": "code",
   "execution_count": 24,
   "id": "ce83dd4f",
   "metadata": {
    "colab": {
     "base_uri": "https://localhost:8080/",
     "height": 440
    },
    "id": "ce83dd4f",
    "outputId": "55344689-fb49-4053-a639-695a8b418b9a",
    "scrolled": true
   },
   "outputs": [
    {
     "data": {
      "image/png": "[encoded data removed]",
      "text/plain": [
       "<Figure size 640x480 with 1 Axes>"
      ]
     },
     "metadata": {},
     "output_type": "display_data"
    }
   ],
   "source": [
    "plt.style.use(\"classic\")\n",
    "plt.hist(df['rating'], bins=21)\n",
    "plt.show()"
   ]
  },
  {
   "cell_type": "markdown",
   "id": "e060eec1",
   "metadata": {
    "id": "e060eec1"
   },
   "source": [
    "### display dos nomes dos avaliadores"
   ]
  },
  {
   "cell_type": "code",
   "execution_count": 25,
   "id": "4777fb6e",
   "metadata": {
    "colab": {
     "base_uri": "https://localhost:8080/"
    },
    "id": "4777fb6e",
    "outputId": "33ea9d30-1105-4a61-aa30-01857137354a",
    "scrolled": true
   },
   "outputs": [
    {
     "data": {
      "text/plain": [
       "Roger Voss            47557\n",
       "Michael Schachner     33033\n",
       "Kerin O’Keefe         23255\n",
       "Virginie Boone        20156\n",
       "Matt Kettmann         16939\n",
       "Paul Gregutt          14897\n",
       "Joe Czerwinski        12038\n",
       "Jim Gordon            11040\n",
       "Anna Lee C. Iijima    10809\n",
       "Sean P. Sullivan       9991\n",
       "Anne Krebiehl MW       9455\n",
       "Lauren Buzzeo          3792\n",
       "Christina Pickard      3402\n",
       "Alexander Peartree     2912\n",
       "Susan Kostrzewa        2668\n",
       "Mike DeSimone          1135\n",
       "Jeff Jenssen           1018\n",
       "Fiona Adams             798\n",
       "Carrie Dykes            341\n",
       "Jesica Vargas           118\n",
       "Layla Schlack            33\n",
       "Dara Kapoor               1\n",
       "Name: reviewer, dtype: int64"
      ]
     },
     "execution_count": 25,
     "metadata": {},
     "output_type": "execute_result"
    }
   ],
   "source": [
    "df['reviewer'].value_counts()"
   ]
  },
  {
   "cell_type": "markdown",
   "id": "121d257a",
   "metadata": {
    "id": "121d257a"
   },
   "source": [
    "### display das avaliações"
   ]
  },
  {
   "cell_type": "code",
   "execution_count": 26,
   "id": "457dbaf2",
   "metadata": {
    "colab": {
     "base_uri": "https://localhost:8080/"
    },
    "id": "457dbaf2",
    "outputId": "3f5d9bc0-36d6-4a79-a5a1-32fbdd79fc86",
    "scrolled": true
   },
   "outputs": [
    {
     "data": {
      "text/plain": [
       "Review unavailable at this time                                                                                                                                                                                                                                                                                                                                                                   156\n",
       "Floral and almond scents on the nose, along with stone fruits—Queen Anne cherries? Sharp, almost bitter on the palate and into the finish, which is tart and shows good length.                                                                                                                                                                                                                     3\n",
       "Review not available at this time.                                                                                                                                                                                                                                                                                                                                                                  3\n",
       "This zesty red has pretty aromas that suggest small red berry, blue flower and a whiff of moist soil. The vibrant palate offers sour cherry, pomegranate and a hint of anise alongside zesty acidity and refined tannins.                                                                                                                                                                           2\n",
       "Tom Meadowcroft's second label, Thomas Henry, is also sourcing from Borden Ranch in Lodi, as is his slightly higher-priced, lower-alcohol Riesling under the Meadowcroft name. This one not as as fragrant at first, more austere, but fully inviting wih melon, honey and pear. Thai food would be the perfect pairing.                                                                            2\n",
       "                                                                                                                                                                                                                                                                                                                                                                                                 ... \n",
       "This is a seductive and deeply satisfying Pinot Noir, light in rose petal and red cherry notes and yet intense and voluptuous in texture. Part of the winery's 30th anniversary celebration, with the fruit coming from original co-founder Burt Williams' Morning Dew Ranch in Anderson Valley, this is a remarkably polished and balanced wine, with a racy jolt of spiciness on the finish.      1\n",
       "Concentrated and complex, the nose of this wine suggests ripe peach, tinned peach and Galia melon, all shot through with Mandarin-zest aromas. Intense and medium dry, the palate lets all the aromas take their respective turns. The texture is gentle and smooth and the finish gives a pleasantly bitter counterpoint.                                                                          1\n",
       "Elegant and full-bodied, this opens with inviting aromas of Alpine hay, mature white stone fruit and delicate whiffs of cedar and botanical herbs. The creamy, enveloping palate features ripe yellow pear, apple and hazelnut alongside hints of fennel seed and saline. Fresh acidity brightens the rich flavors.                                                                                 1\n",
       "Banana aromas don't intrude too strongly into the fruity palate of this wine that has a crisp character. Tart red-berry fruits and and bright acidity give the wine a fresh, totally fruity appeal with only a hint of tannin. Drink now.                                                                                                                                                           1\n",
       "Made from organically farmed Ciliegiolo (one of the great indigenous varieties of Tuscany), this opens with cherry and cured meat notes, and it shows a bright, tart quality on the finish.                                                                                                                                                                                                         1\n",
       "Name: review, Length: 280988, dtype: int64"
      ]
     },
     "execution_count": 26,
     "metadata": {},
     "output_type": "execute_result"
    }
   ],
   "source": [
    "df['review'].value_counts()"
   ]
  },
  {
   "cell_type": "markdown",
   "id": "76a7be99",
   "metadata": {
    "id": "76a7be99"
   },
   "source": [
    "### display das regiões dos vinhos"
   ]
  },
  {
   "cell_type": "code",
   "execution_count": 27,
   "id": "62f1df18",
   "metadata": {
    "colab": {
     "base_uri": "https://localhost:8080/"
    },
    "id": "62f1df18",
    "outputId": "df1ccc81-d6b5-4ef3-bc03-be8344e07e96",
    "scrolled": false
   },
   "outputs": [
    {
     "data": {
      "text/plain": [
       "Napa Valley, Napa, California, US                             9533\n",
       "Russian River Valley, Sonoma, California, US                  6452\n",
       "California, California Other, California, US                  6324\n",
       "Columbia Valley (WA), Columbia Valley, Washington, US         6085\n",
       "Paso Robles, Central Coast, California, US                    5440\n",
       "                                                              ... \n",
       "Vino de la Tierra Ribera del Jiloca, Northern Spain, Spain       1\n",
       "Mendocino-Napa-Sonoma, North Coast, California, US               1\n",
       "Deutscher Tafelwein Rhein, Germany                               1\n",
       "Rosso di Cerignola, Southern Italy, Italy                        1\n",
       "Delia Nivolelli, Sicily & Sardinia, Italy                        1\n",
       "Name: appellation, Length: 1963, dtype: int64"
      ]
     },
     "execution_count": 27,
     "metadata": {},
     "output_type": "execute_result"
    }
   ],
   "source": [
    "df['appellation'].value_counts()"
   ]
  },
  {
   "cell_type": "markdown",
   "id": "fafd5d15",
   "metadata": {
    "id": "fafd5d15"
   },
   "source": [
    "### formatação para retirar o pais dos dados"
   ]
  },
  {
   "cell_type": "code",
   "execution_count": 28,
   "id": "aa29ddb0",
   "metadata": {
    "id": "aa29ddb0"
   },
   "outputs": [],
   "source": [
    "def ultimo_valor_string(text):\n",
    "    values = text.split(',')\n",
    "    return values[-1]"
   ]
  },
  {
   "cell_type": "code",
   "execution_count": 29,
   "id": "0d0970dd",
   "metadata": {
    "colab": {
     "base_uri": "https://localhost:8080/",
     "height": 198
    },
    "id": "0d0970dd",
    "outputId": "8180e96d-953c-4aab-f06e-c273c3c7fba7",
    "scrolled": true
   },
   "outputs": [
    {
     "name": "stdout",
     "output_type": "stream",
     "text": [
      "0          Argentina\n",
      "1              Italy\n",
      "2              Italy\n",
      "3                 US\n",
      "4                 US\n",
      "             ...    \n",
      "282077            US\n",
      "282078         Italy\n",
      "282079        France\n",
      "282080            US\n",
      "282081         Italy\n",
      "Name: country, Length: 282082, dtype: object\n"
     ]
    }
   ],
   "source": [
    "df['appellation'] = df['appellation'].astype(str)\n",
    "df['country'] = df['appellation'].apply(ultimo_valor_string)\n",
    "\n",
    "print(df['country'])"
   ]
  },
  {
   "cell_type": "markdown",
   "id": "e113f46c",
   "metadata": {
    "id": "e113f46c"
   },
   "source": [
    "### print dos países mais comuns  no dataset"
   ]
  },
  {
   "cell_type": "code",
   "execution_count": 30,
   "id": "328fc06f",
   "metadata": {
    "id": "328fc06f"
   },
   "outputs": [
    {
     "data": {
      "text/plain": [
       " US              115208\n",
       " France           48171\n",
       " Italy            41132\n",
       " Spain            14163\n",
       " Portugal         11826\n",
       " Chile             8965\n",
       " Australia         8659\n",
       " Argentina         8389\n",
       " Austria           6617\n",
       " Germany           5257\n",
       " New Zealand       4080\n",
       " South Africa      3516\n",
       "nan                2553\n",
       " Israel            1167\n",
       " Greece            1136\n",
       "Buy Now             584\n",
       " Hungary            329\n",
       " Romania            323\n",
       "South Africa          4\n",
       "DrizlyVivino          2\n",
       "Chile                 1\n",
       "Name: country, dtype: int64"
      ]
     },
     "execution_count": 30,
     "metadata": {},
     "output_type": "execute_result"
    }
   ],
   "source": [
    "df['country'].value_counts()"
   ]
  },
  {
   "cell_type": "code",
   "execution_count": 31,
   "id": "Rq0o2ek2zxS8",
   "metadata": {
    "id": "Rq0o2ek2zxS8"
   },
   "outputs": [],
   "source": [
    "df['price'] = df['price'].astype(str)\n",
    "df['alcohol'] = df['alcohol'].astype(str)"
   ]
  },
  {
   "cell_type": "code",
   "execution_count": 32,
   "id": "pHF7RzFJz2Kr",
   "metadata": {
    "id": "pHF7RzFJz2Kr"
   },
   "outputs": [],
   "source": [
    "df = df[df['country'] != 'nan']\n",
    "df = df[df['country'] != 'Buy Now']\n",
    "df = df[df['country'] != 'DrizlyVivino']\n",
    "df = df[df['alcohol'] != 'nan']\n",
    "df = df[df['price'] != 'nan']\n",
    "df = df.reset_index(drop=True)"
   ]
  },
  {
   "cell_type": "code",
   "execution_count": 33,
   "id": "PhhGIXaG0Drr",
   "metadata": {
    "id": "PhhGIXaG0Drr"
   },
   "outputs": [
    {
     "data": {
      "text/html": [
       "<div>\n",
       "<style scoped>\n",
       "    .dataframe tbody tr th:only-of-type {\n",
       "        vertical-align: middle;\n",
       "    }\n",
       "\n",
       "    .dataframe tbody tr th {\n",
       "        vertical-align: top;\n",
       "    }\n",
       "\n",
       "    .dataframe thead th {\n",
       "        text-align: right;\n",
       "    }\n",
       "</style>\n",
       "<table border=\"1\" class=\"dataframe\">\n",
       "  <thead>\n",
       "    <tr style=\"text-align: right;\">\n",
       "      <th></th>\n",
       "      <th>wine</th>\n",
       "      <th>winery</th>\n",
       "      <th>category</th>\n",
       "      <th>designation</th>\n",
       "      <th>varietal</th>\n",
       "      <th>appellation</th>\n",
       "      <th>alcohol</th>\n",
       "      <th>price</th>\n",
       "      <th>rating</th>\n",
       "      <th>reviewer</th>\n",
       "      <th>review</th>\n",
       "      <th>country</th>\n",
       "    </tr>\n",
       "  </thead>\n",
       "  <tbody>\n",
       "    <tr>\n",
       "      <th>0</th>\n",
       "      <td>Antucura 2010 Pinot Noir (Vista Flores)</td>\n",
       "      <td>Antucura</td>\n",
       "      <td>Red</td>\n",
       "      <td>NaN</td>\n",
       "      <td>Pinot Noir</td>\n",
       "      <td>Vista Flores, Mendoza Province, Argentina</td>\n",
       "      <td>15.0</td>\n",
       "      <td>17</td>\n",
       "      <td>85</td>\n",
       "      <td>Michael Schachner</td>\n",
       "      <td>Rubbery, bold and earthy on the nose, then ful...</td>\n",
       "      <td>Argentina</td>\n",
       "    </tr>\n",
       "    <tr>\n",
       "      <th>1</th>\n",
       "      <td>Tenuta di Ghizzano 2006 Il Ghizzano Red (Toscana)</td>\n",
       "      <td>Tenuta di Ghizzano</td>\n",
       "      <td>Red</td>\n",
       "      <td>Il Ghizzano</td>\n",
       "      <td>Red Blends, Red Blends</td>\n",
       "      <td>Toscana, Tuscany, Italy</td>\n",
       "      <td>13.5</td>\n",
       "      <td>18</td>\n",
       "      <td>86</td>\n",
       "      <td>NaN</td>\n",
       "      <td>The nose is rather neutral save for distant ar...</td>\n",
       "      <td>Italy</td>\n",
       "    </tr>\n",
       "    <tr>\n",
       "      <th>2</th>\n",
       "      <td>Tenuta San Francesco 2007 Tramonti White (Camp...</td>\n",
       "      <td>Tenuta San Francesco</td>\n",
       "      <td>White</td>\n",
       "      <td>Tramonti</td>\n",
       "      <td>White Blend</td>\n",
       "      <td>Campania, Southern Italy, Italy</td>\n",
       "      <td>13.5</td>\n",
       "      <td>21</td>\n",
       "      <td>85</td>\n",
       "      <td>NaN</td>\n",
       "      <td>This intriguing blend of Falanghina, Biancolel...</td>\n",
       "      <td>Italy</td>\n",
       "    </tr>\n",
       "    <tr>\n",
       "      <th>3</th>\n",
       "      <td>Las Positas 2011 Estate Barbera (Livermore Val...</td>\n",
       "      <td>Las Positas</td>\n",
       "      <td>Red</td>\n",
       "      <td>Estate</td>\n",
       "      <td>Barbera</td>\n",
       "      <td>Livermore Valley, Central Coast, California, US</td>\n",
       "      <td>15.1</td>\n",
       "      <td>40</td>\n",
       "      <td>89</td>\n",
       "      <td>Virginie Boone</td>\n",
       "      <td>This is a hefty Barbera, replete with dark, br...</td>\n",
       "      <td>US</td>\n",
       "    </tr>\n",
       "    <tr>\n",
       "      <th>4</th>\n",
       "      <td>Krupp Brothers 2007 The Doctor Red (Napa Valley)</td>\n",
       "      <td>Krupp Brothers</td>\n",
       "      <td>Red</td>\n",
       "      <td>The Doctor</td>\n",
       "      <td>Red Blends, Red Blends</td>\n",
       "      <td>Napa Valley, Napa, California, US</td>\n",
       "      <td>15.1</td>\n",
       "      <td>60</td>\n",
       "      <td>92</td>\n",
       "      <td>NaN</td>\n",
       "      <td>An ambitious blend of Merlot, Tempranillo, Mal...</td>\n",
       "      <td>US</td>\n",
       "    </tr>\n",
       "    <tr>\n",
       "      <th>...</th>\n",
       "      <td>...</td>\n",
       "      <td>...</td>\n",
       "      <td>...</td>\n",
       "      <td>...</td>\n",
       "      <td>...</td>\n",
       "      <td>...</td>\n",
       "      <td>...</td>\n",
       "      <td>...</td>\n",
       "      <td>...</td>\n",
       "      <td>...</td>\n",
       "      <td>...</td>\n",
       "      <td>...</td>\n",
       "    </tr>\n",
       "    <tr>\n",
       "      <th>263693</th>\n",
       "      <td>Maddalena 2017 Rosé (Paso Robles)</td>\n",
       "      <td>Maddalena</td>\n",
       "      <td>Rose</td>\n",
       "      <td>NaN</td>\n",
       "      <td>Rosé</td>\n",
       "      <td>Paso Robles, Central Coast, California, US</td>\n",
       "      <td>12.5</td>\n",
       "      <td>18</td>\n",
       "      <td>87</td>\n",
       "      <td>Matt Kettmann</td>\n",
       "      <td>Candied raspberry, cranberry, orange juice and...</td>\n",
       "      <td>US</td>\n",
       "    </tr>\n",
       "    <tr>\n",
       "      <th>263694</th>\n",
       "      <td>Toscolo 2015  Vernaccia di San Gimignano</td>\n",
       "      <td>Toscolo</td>\n",
       "      <td>White</td>\n",
       "      <td>NaN</td>\n",
       "      <td>Vernaccia, Italian White</td>\n",
       "      <td>Vernaccia di San Gimignano, Tuscany, Italy</td>\n",
       "      <td>12.5</td>\n",
       "      <td>11</td>\n",
       "      <td>87</td>\n",
       "      <td>Kerin O’Keefe</td>\n",
       "      <td>Aromas of white spring flower, yellow pear and...</td>\n",
       "      <td>Italy</td>\n",
       "    </tr>\n",
       "    <tr>\n",
       "      <th>263695</th>\n",
       "      <td>Domaine G. Metz 2017 Pinot Blanc (Alsace)</td>\n",
       "      <td>Domaine G. Metz</td>\n",
       "      <td>White</td>\n",
       "      <td>NaN</td>\n",
       "      <td>Pinot Blanc</td>\n",
       "      <td>Alsace, Alsace, France</td>\n",
       "      <td>13.0</td>\n",
       "      <td>20</td>\n",
       "      <td>90</td>\n",
       "      <td>Anne Krebiehl MW</td>\n",
       "      <td>A tinge of earth clings to the ripe, almost ju...</td>\n",
       "      <td>France</td>\n",
       "    </tr>\n",
       "    <tr>\n",
       "      <th>263696</th>\n",
       "      <td>Huston 2019 Chicken Dinner Red (Idaho)</td>\n",
       "      <td>Huston</td>\n",
       "      <td>Red</td>\n",
       "      <td>Chicken Dinner</td>\n",
       "      <td>Red Blends, Red Blends</td>\n",
       "      <td>Idaho, Idaho, US</td>\n",
       "      <td>14.3</td>\n",
       "      <td>18</td>\n",
       "      <td>87</td>\n",
       "      <td>Sean P. Sullivan</td>\n",
       "      <td>Fruit-forward aromas of plum, huckleberry and ...</td>\n",
       "      <td>US</td>\n",
       "    </tr>\n",
       "    <tr>\n",
       "      <th>263697</th>\n",
       "      <td>La Selva 2008  Maremma</td>\n",
       "      <td>La Selva</td>\n",
       "      <td>Red</td>\n",
       "      <td>NaN</td>\n",
       "      <td>Ciliegiolo, Italian White</td>\n",
       "      <td>Maremma, Tuscany, Italy</td>\n",
       "      <td>13.5</td>\n",
       "      <td>28</td>\n",
       "      <td>86</td>\n",
       "      <td>NaN</td>\n",
       "      <td>Made from organically farmed Ciliegiolo (one o...</td>\n",
       "      <td>Italy</td>\n",
       "    </tr>\n",
       "  </tbody>\n",
       "</table>\n",
       "<p>263698 rows × 12 columns</p>\n",
       "</div>"
      ],
      "text/plain": [
       "                                                     wine  \\\n",
       "0                 Antucura 2010 Pinot Noir (Vista Flores)   \n",
       "1       Tenuta di Ghizzano 2006 Il Ghizzano Red (Toscana)   \n",
       "2       Tenuta San Francesco 2007 Tramonti White (Camp...   \n",
       "3       Las Positas 2011 Estate Barbera (Livermore Val...   \n",
       "4        Krupp Brothers 2007 The Doctor Red (Napa Valley)   \n",
       "...                                                   ...   \n",
       "263693                  Maddalena 2017 Rosé (Paso Robles)   \n",
       "263694           Toscolo 2015  Vernaccia di San Gimignano   \n",
       "263695          Domaine G. Metz 2017 Pinot Blanc (Alsace)   \n",
       "263696             Huston 2019 Chicken Dinner Red (Idaho)   \n",
       "263697                             La Selva 2008  Maremma   \n",
       "\n",
       "                      winery category     designation  \\\n",
       "0                   Antucura      Red             NaN   \n",
       "1         Tenuta di Ghizzano      Red     Il Ghizzano   \n",
       "2       Tenuta San Francesco    White        Tramonti   \n",
       "3                Las Positas      Red          Estate   \n",
       "4             Krupp Brothers      Red      The Doctor   \n",
       "...                      ...      ...             ...   \n",
       "263693             Maddalena     Rose             NaN   \n",
       "263694               Toscolo    White             NaN   \n",
       "263695       Domaine G. Metz    White             NaN   \n",
       "263696                Huston      Red  Chicken Dinner   \n",
       "263697              La Selva      Red             NaN   \n",
       "\n",
       "                         varietal  \\\n",
       "0                      Pinot Noir   \n",
       "1          Red Blends, Red Blends   \n",
       "2                     White Blend   \n",
       "3                         Barbera   \n",
       "4          Red Blends, Red Blends   \n",
       "...                           ...   \n",
       "263693                       Rosé   \n",
       "263694   Vernaccia, Italian White   \n",
       "263695                Pinot Blanc   \n",
       "263696     Red Blends, Red Blends   \n",
       "263697  Ciliegiolo, Italian White   \n",
       "\n",
       "                                            appellation alcohol price  rating  \\\n",
       "0             Vista Flores, Mendoza Province, Argentina    15.0    17      85   \n",
       "1                               Toscana, Tuscany, Italy    13.5    18      86   \n",
       "2                       Campania, Southern Italy, Italy    13.5    21      85   \n",
       "3       Livermore Valley, Central Coast, California, US    15.1    40      89   \n",
       "4                     Napa Valley, Napa, California, US    15.1    60      92   \n",
       "...                                                 ...     ...   ...     ...   \n",
       "263693       Paso Robles, Central Coast, California, US    12.5    18      87   \n",
       "263694       Vernaccia di San Gimignano, Tuscany, Italy    12.5    11      87   \n",
       "263695                           Alsace, Alsace, France    13.0    20      90   \n",
       "263696                                 Idaho, Idaho, US    14.3    18      87   \n",
       "263697                          Maremma, Tuscany, Italy    13.5    28      86   \n",
       "\n",
       "                 reviewer                                             review  \\\n",
       "0       Michael Schachner  Rubbery, bold and earthy on the nose, then ful...   \n",
       "1                     NaN  The nose is rather neutral save for distant ar...   \n",
       "2                     NaN  This intriguing blend of Falanghina, Biancolel...   \n",
       "3          Virginie Boone  This is a hefty Barbera, replete with dark, br...   \n",
       "4                     NaN  An ambitious blend of Merlot, Tempranillo, Mal...   \n",
       "...                   ...                                                ...   \n",
       "263693      Matt Kettmann  Candied raspberry, cranberry, orange juice and...   \n",
       "263694      Kerin O’Keefe  Aromas of white spring flower, yellow pear and...   \n",
       "263695   Anne Krebiehl MW  A tinge of earth clings to the ripe, almost ju...   \n",
       "263696   Sean P. Sullivan  Fruit-forward aromas of plum, huckleberry and ...   \n",
       "263697                NaN  Made from organically farmed Ciliegiolo (one o...   \n",
       "\n",
       "           country  \n",
       "0        Argentina  \n",
       "1            Italy  \n",
       "2            Italy  \n",
       "3               US  \n",
       "4               US  \n",
       "...            ...  \n",
       "263693          US  \n",
       "263694       Italy  \n",
       "263695      France  \n",
       "263696          US  \n",
       "263697       Italy  \n",
       "\n",
       "[263698 rows x 12 columns]"
      ]
     },
     "metadata": {},
     "output_type": "display_data"
    }
   ],
   "source": [
    "display(df)"
   ]
  },
  {
   "cell_type": "code",
   "execution_count": 34,
   "id": "496bd06a",
   "metadata": {},
   "outputs": [
    {
     "name": "stdout",
     "output_type": "stream",
     "text": [
      "<class 'pandas.core.frame.DataFrame'>\n",
      "RangeIndex: 263698 entries, 0 to 263697\n",
      "Data columns (total 12 columns):\n",
      " #   Column       Non-Null Count   Dtype \n",
      "---  ------       --------------   ----- \n",
      " 0   wine         263698 non-null  object\n",
      " 1   winery       263698 non-null  object\n",
      " 2   category     263698 non-null  object\n",
      " 3   designation  188921 non-null  object\n",
      " 4   varietal     246715 non-null  object\n",
      " 5   appellation  263698 non-null  object\n",
      " 6   alcohol      263698 non-null  object\n",
      " 7   price        263698 non-null  object\n",
      " 8   rating       263698 non-null  int64 \n",
      " 9   reviewer     209939 non-null  object\n",
      " 10  review       262909 non-null  object\n",
      " 11  country      263698 non-null  object\n",
      "dtypes: int64(1), object(11)\n",
      "memory usage: 24.1+ MB\n"
     ]
    }
   ],
   "source": [
    "df.info()"
   ]
  },
  {
   "cell_type": "code",
   "execution_count": 35,
   "id": "d946dc1b",
   "metadata": {},
   "outputs": [],
   "source": [
    "df.to_csv(\"wine_treated.csv\", sep=',', index=False, encoding='utf-8')"
   ]
  },
  {
   "cell_type": "code",
   "execution_count": null,
   "id": "3b9276ab",
   "metadata": {},
   "outputs": [],
   "source": []
  }
 ],
 "metadata": {
  "colab": {
   "include_colab_link": true,
   "provenance": []
  },
  "kernelspec": {
   "display_name": "Python 3 (ipykernel)",
   "language": "python",
   "name": "python3"
  },
  "language_info": {
   "codemirror_mode": {
    "name": "ipython",
    "version": 3
   },
   "file_extension": ".py",
   "mimetype": "text/x-python",
   "name": "python",
   "nbconvert_exporter": "python",
   "pygments_lexer": "ipython3",
   "version": "3.11.2"
  }
 },
 "nbformat": 4,
 "nbformat_minor": 5
}
