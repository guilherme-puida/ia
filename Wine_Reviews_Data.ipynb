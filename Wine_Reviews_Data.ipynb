{
 "cells": [
  {
   "cell_type": "code",
   "execution_count": 72,
   "id": "1908e354",
   "metadata": {
    "scrolled": true
   },
   "outputs": [],
   "source": [
    "import pandas as pd\n",
    "import matplotlib.pyplot as plt"
   ]
  },
  {
   "cell_type": "code",
   "execution_count": 73,
   "id": "ce663730",
   "metadata": {},
   "outputs": [],
   "source": [
    "df = pd.read_csv(\"data/wine.csv\")"
   ]
  },
  {
   "cell_type": "markdown",
   "id": "aeecc39b",
   "metadata": {},
   "source": [
    "# display do dataframe original"
   ]
  },
  {
   "cell_type": "code",
   "execution_count": 74,
   "id": "5cbf4fa2",
   "metadata": {
    "scrolled": true
   },
   "outputs": [
    {
     "data": {
      "text/html": [
       "<div>\n",
       "<style scoped>\n",
       "    .dataframe tbody tr th:only-of-type {\n",
       "        vertical-align: middle;\n",
       "    }\n",
       "\n",
       "    .dataframe tbody tr th {\n",
       "        vertical-align: top;\n",
       "    }\n",
       "\n",
       "    .dataframe thead th {\n",
       "        text-align: right;\n",
       "    }\n",
       "</style>\n",
       "<table border=\"1\" class=\"dataframe\">\n",
       "  <thead>\n",
       "    <tr style=\"text-align: right;\">\n",
       "      <th></th>\n",
       "      <th>wine</th>\n",
       "      <th>winery</th>\n",
       "      <th>category</th>\n",
       "      <th>designation</th>\n",
       "      <th>varietal</th>\n",
       "      <th>appellation</th>\n",
       "      <th>alcohol</th>\n",
       "      <th>price</th>\n",
       "      <th>rating</th>\n",
       "      <th>reviewer</th>\n",
       "      <th>review</th>\n",
       "    </tr>\n",
       "  </thead>\n",
       "  <tbody>\n",
       "    <tr>\n",
       "      <th>0</th>\n",
       "      <td>J. Lohr 2000 Hilltop Vineyard Cabernet Sauvign...</td>\n",
       "      <td>J. Lohr</td>\n",
       "      <td>Red</td>\n",
       "      <td>Hilltop Vineyard</td>\n",
       "      <td>Cabernet Sauvignon</td>\n",
       "      <td>Paso Robles, Central Coast, California, US</td>\n",
       "      <td>NaN</td>\n",
       "      <td>$32</td>\n",
       "      <td>87</td>\n",
       "      <td>NaN</td>\n",
       "      <td>Held back nearly five years, this Cab still ha...</td>\n",
       "    </tr>\n",
       "    <tr>\n",
       "      <th>1</th>\n",
       "      <td>Antucura 2010 Pinot Noir (Vista Flores)</td>\n",
       "      <td>Antucura</td>\n",
       "      <td>Red</td>\n",
       "      <td>NaN</td>\n",
       "      <td>Pinot Noir</td>\n",
       "      <td>Vista Flores, Mendoza Province, Argentina</td>\n",
       "      <td>15%</td>\n",
       "      <td>$17</td>\n",
       "      <td>85</td>\n",
       "      <td>Michael Schachner</td>\n",
       "      <td>Rubbery, bold and earthy on the nose, then ful...</td>\n",
       "    </tr>\n",
       "    <tr>\n",
       "      <th>2</th>\n",
       "      <td>Quinta do Portal 1999 Quinta do Portal Reserva...</td>\n",
       "      <td>Quinta do Portal</td>\n",
       "      <td>Red</td>\n",
       "      <td>Quinta do Portal Reserva</td>\n",
       "      <td>Red Blends, Red Blends</td>\n",
       "      <td>Douro, Portugal</td>\n",
       "      <td>NaN</td>\n",
       "      <td>NaN</td>\n",
       "      <td>90</td>\n",
       "      <td>Roger Voss</td>\n",
       "      <td>Smoky, meaty aromas lead into perfumed fruit f...</td>\n",
       "    </tr>\n",
       "    <tr>\n",
       "      <th>3</th>\n",
       "      <td>Tenuta di Ghizzano 2006 Il Ghizzano Red (Toscana)</td>\n",
       "      <td>Tenuta di Ghizzano</td>\n",
       "      <td>Red</td>\n",
       "      <td>Il Ghizzano</td>\n",
       "      <td>Red Blends, Red Blends</td>\n",
       "      <td>Toscana, Tuscany, Italy</td>\n",
       "      <td>13.5%</td>\n",
       "      <td>$18</td>\n",
       "      <td>86</td>\n",
       "      <td>NaN</td>\n",
       "      <td>The nose is rather neutral save for distant ar...</td>\n",
       "    </tr>\n",
       "    <tr>\n",
       "      <th>4</th>\n",
       "      <td>Tenuta San Francesco 2007 Tramonti White (Camp...</td>\n",
       "      <td>Tenuta San Francesco</td>\n",
       "      <td>White</td>\n",
       "      <td>Tramonti</td>\n",
       "      <td>White Blend</td>\n",
       "      <td>Campania, Southern Italy, Italy</td>\n",
       "      <td>13.5%</td>\n",
       "      <td>$21</td>\n",
       "      <td>85</td>\n",
       "      <td>NaN</td>\n",
       "      <td>This intriguing blend of Falanghina, Biancolel...</td>\n",
       "    </tr>\n",
       "    <tr>\n",
       "      <th>...</th>\n",
       "      <td>...</td>\n",
       "      <td>...</td>\n",
       "      <td>...</td>\n",
       "      <td>...</td>\n",
       "      <td>...</td>\n",
       "      <td>...</td>\n",
       "      <td>...</td>\n",
       "      <td>...</td>\n",
       "      <td>...</td>\n",
       "      <td>...</td>\n",
       "      <td>...</td>\n",
       "    </tr>\n",
       "    <tr>\n",
       "      <th>323232</th>\n",
       "      <td>Maddalena 2017 Rosé (Paso Robles)</td>\n",
       "      <td>Maddalena</td>\n",
       "      <td>Rose</td>\n",
       "      <td>NaN</td>\n",
       "      <td>Rosé</td>\n",
       "      <td>Paso Robles, Central Coast, California, US</td>\n",
       "      <td>12.5%</td>\n",
       "      <td>$18</td>\n",
       "      <td>87</td>\n",
       "      <td>Matt Kettmann</td>\n",
       "      <td>Candied raspberry, cranberry, orange juice and...</td>\n",
       "    </tr>\n",
       "    <tr>\n",
       "      <th>323233</th>\n",
       "      <td>Toscolo 2015  Vernaccia di San Gimignano</td>\n",
       "      <td>Toscolo</td>\n",
       "      <td>White</td>\n",
       "      <td>NaN</td>\n",
       "      <td>Vernaccia, Italian White</td>\n",
       "      <td>Vernaccia di San Gimignano, Tuscany, Italy</td>\n",
       "      <td>12.5%</td>\n",
       "      <td>$11</td>\n",
       "      <td>87</td>\n",
       "      <td>Kerin O’Keefe</td>\n",
       "      <td>Aromas of white spring flower, yellow pear and...</td>\n",
       "    </tr>\n",
       "    <tr>\n",
       "      <th>323234</th>\n",
       "      <td>Domaine G. Metz 2017 Pinot Blanc (Alsace)</td>\n",
       "      <td>Domaine G. Metz</td>\n",
       "      <td>White</td>\n",
       "      <td>NaN</td>\n",
       "      <td>Pinot Blanc</td>\n",
       "      <td>Alsace, Alsace, France</td>\n",
       "      <td>13%</td>\n",
       "      <td>$20</td>\n",
       "      <td>90</td>\n",
       "      <td>Anne Krebiehl MW</td>\n",
       "      <td>A tinge of earth clings to the ripe, almost ju...</td>\n",
       "    </tr>\n",
       "    <tr>\n",
       "      <th>323235</th>\n",
       "      <td>Huston 2019 Chicken Dinner Red (Idaho)</td>\n",
       "      <td>Huston</td>\n",
       "      <td>Red</td>\n",
       "      <td>Chicken Dinner</td>\n",
       "      <td>Red Blends, Red Blends</td>\n",
       "      <td>Idaho, Idaho, US</td>\n",
       "      <td>14.3%</td>\n",
       "      <td>$18</td>\n",
       "      <td>87</td>\n",
       "      <td>Sean P. Sullivan</td>\n",
       "      <td>Fruit-forward aromas of plum, huckleberry and ...</td>\n",
       "    </tr>\n",
       "    <tr>\n",
       "      <th>323236</th>\n",
       "      <td>La Selva 2008  Maremma</td>\n",
       "      <td>La Selva</td>\n",
       "      <td>Red</td>\n",
       "      <td>NaN</td>\n",
       "      <td>Ciliegiolo, Italian White</td>\n",
       "      <td>Maremma, Tuscany, Italy</td>\n",
       "      <td>13.5%</td>\n",
       "      <td>$28</td>\n",
       "      <td>86</td>\n",
       "      <td>NaN</td>\n",
       "      <td>Made from organically farmed Ciliegiolo (one o...</td>\n",
       "    </tr>\n",
       "  </tbody>\n",
       "</table>\n",
       "<p>323237 rows × 11 columns</p>\n",
       "</div>"
      ],
      "text/plain": [
       "                                                     wine  \\\n",
       "0       J. Lohr 2000 Hilltop Vineyard Cabernet Sauvign...   \n",
       "1                 Antucura 2010 Pinot Noir (Vista Flores)   \n",
       "2       Quinta do Portal 1999 Quinta do Portal Reserva...   \n",
       "3       Tenuta di Ghizzano 2006 Il Ghizzano Red (Toscana)   \n",
       "4       Tenuta San Francesco 2007 Tramonti White (Camp...   \n",
       "...                                                   ...   \n",
       "323232                  Maddalena 2017 Rosé (Paso Robles)   \n",
       "323233           Toscolo 2015  Vernaccia di San Gimignano   \n",
       "323234          Domaine G. Metz 2017 Pinot Blanc (Alsace)   \n",
       "323235             Huston 2019 Chicken Dinner Red (Idaho)   \n",
       "323236                             La Selva 2008  Maremma   \n",
       "\n",
       "                      winery category               designation  \\\n",
       "0                    J. Lohr      Red          Hilltop Vineyard   \n",
       "1                   Antucura      Red                       NaN   \n",
       "2           Quinta do Portal      Red  Quinta do Portal Reserva   \n",
       "3         Tenuta di Ghizzano      Red               Il Ghizzano   \n",
       "4       Tenuta San Francesco    White                  Tramonti   \n",
       "...                      ...      ...                       ...   \n",
       "323232             Maddalena     Rose                       NaN   \n",
       "323233               Toscolo    White                       NaN   \n",
       "323234       Domaine G. Metz    White                       NaN   \n",
       "323235                Huston      Red            Chicken Dinner   \n",
       "323236              La Selva      Red                       NaN   \n",
       "\n",
       "                         varietal                                 appellation  \\\n",
       "0              Cabernet Sauvignon  Paso Robles, Central Coast, California, US   \n",
       "1                      Pinot Noir   Vista Flores, Mendoza Province, Argentina   \n",
       "2          Red Blends, Red Blends                             Douro, Portugal   \n",
       "3          Red Blends, Red Blends                     Toscana, Tuscany, Italy   \n",
       "4                     White Blend             Campania, Southern Italy, Italy   \n",
       "...                           ...                                         ...   \n",
       "323232                       Rosé  Paso Robles, Central Coast, California, US   \n",
       "323233   Vernaccia, Italian White  Vernaccia di San Gimignano, Tuscany, Italy   \n",
       "323234                Pinot Blanc                      Alsace, Alsace, France   \n",
       "323235     Red Blends, Red Blends                            Idaho, Idaho, US   \n",
       "323236  Ciliegiolo, Italian White                     Maremma, Tuscany, Italy   \n",
       "\n",
       "       alcohol price  rating           reviewer  \\\n",
       "0          NaN   $32      87                NaN   \n",
       "1          15%   $17      85  Michael Schachner   \n",
       "2          NaN   NaN      90         Roger Voss   \n",
       "3        13.5%   $18      86                NaN   \n",
       "4        13.5%   $21      85                NaN   \n",
       "...        ...   ...     ...                ...   \n",
       "323232   12.5%   $18      87      Matt Kettmann   \n",
       "323233   12.5%   $11      87      Kerin O’Keefe   \n",
       "323234     13%   $20      90   Anne Krebiehl MW   \n",
       "323235   14.3%   $18      87   Sean P. Sullivan   \n",
       "323236   13.5%   $28      86                NaN   \n",
       "\n",
       "                                                   review  \n",
       "0       Held back nearly five years, this Cab still ha...  \n",
       "1       Rubbery, bold and earthy on the nose, then ful...  \n",
       "2       Smoky, meaty aromas lead into perfumed fruit f...  \n",
       "3       The nose is rather neutral save for distant ar...  \n",
       "4       This intriguing blend of Falanghina, Biancolel...  \n",
       "...                                                   ...  \n",
       "323232  Candied raspberry, cranberry, orange juice and...  \n",
       "323233  Aromas of white spring flower, yellow pear and...  \n",
       "323234  A tinge of earth clings to the ripe, almost ju...  \n",
       "323235  Fruit-forward aromas of plum, huckleberry and ...  \n",
       "323236  Made from organically farmed Ciliegiolo (one o...  \n",
       "\n",
       "[323237 rows x 11 columns]"
      ]
     },
     "execution_count": 74,
     "metadata": {},
     "output_type": "execute_result"
    }
   ],
   "source": [
    "df"
   ]
  },
  {
   "cell_type": "markdown",
   "id": "02e593e6",
   "metadata": {},
   "source": [
    "# display de informações básicas dos dados\n",
    "### tipos de dados e quantidade de dados não nulos"
   ]
  },
  {
   "cell_type": "code",
   "execution_count": 75,
   "id": "33fc417c",
   "metadata": {
    "scrolled": false
   },
   "outputs": [
    {
     "name": "stdout",
     "output_type": "stream",
     "text": [
      "<class 'pandas.core.frame.DataFrame'>\n",
      "RangeIndex: 323237 entries, 0 to 323236\n",
      "Data columns (total 11 columns):\n",
      " #   Column       Non-Null Count   Dtype \n",
      "---  ------       --------------   ----- \n",
      " 0   wine         323237 non-null  object\n",
      " 1   winery       323237 non-null  object\n",
      " 2   category     323237 non-null  object\n",
      " 3   designation  229692 non-null  object\n",
      " 4   varietal     302190 non-null  object\n",
      " 5   appellation  320630 non-null  object\n",
      " 6   alcohol      282216 non-null  object\n",
      " 7   price        299282 non-null  object\n",
      " 8   rating       323237 non-null  int64 \n",
      " 9   reviewer     251075 non-null  object\n",
      " 10  review       322108 non-null  object\n",
      "dtypes: int64(1), object(10)\n",
      "memory usage: 27.1+ MB\n"
     ]
    }
   ],
   "source": [
    "df.info()"
   ]
  },
  {
   "cell_type": "markdown",
   "id": "ebfb782c",
   "metadata": {},
   "source": [
    "### display dos valores e suas repetições"
   ]
  },
  {
   "cell_type": "code",
   "execution_count": 76,
   "id": "cb99a49d",
   "metadata": {
    "scrolled": false
   },
   "outputs": [
    {
     "data": {
      "text/plain": [
       "Perrier Jouët NV Grand Brut  (Champagne)                       15\n",
       "Delamotte NV Brut  (Champagne)                                 14\n",
       "Gloria Ferrer NV Sonoma Brut Sparkling (Sonoma County)         14\n",
       "Deutz NV Brut Classic  (Champagne)                             14\n",
       "Pommery NV Brut Royal  (Champagne)                             13\n",
       "                                                               ..\n",
       "Santa Rita 2002 Casa Real Cabernet Sauvignon (Maipo Valley)     1\n",
       "Cameron Hughes 2005 Chardonnay (Russian River Valley)           1\n",
       "Shaw 2007 Riesling (Finger Lakes)                               1\n",
       "Elk Creek Vineyards 2006 Chardonnay (Kentucky)                  1\n",
       "La Selva 2008  Maremma                                          1\n",
       "Name: wine, Length: 318338, dtype: int64"
      ]
     },
     "execution_count": 76,
     "metadata": {},
     "output_type": "execute_result"
    }
   ],
   "source": [
    "df['wine'].value_counts()"
   ]
  },
  {
   "cell_type": "markdown",
   "id": "7289f670",
   "metadata": {},
   "source": [
    "### display dos valores e suas repetições"
   ]
  },
  {
   "cell_type": "code",
   "execution_count": 77,
   "id": "57781956",
   "metadata": {},
   "outputs": [
    {
     "data": {
      "text/plain": [
       "Williams Selyem                   500\n",
       "Chateau Ste. Michelle             489\n",
       "DFJ Vinhos                        443\n",
       "Testarossa                        443\n",
       "Kendall-Jackson                   413\n",
       "                                 ... \n",
       "Château la Croix Saint-Georges      1\n",
       "Domaine Hamelin                     1\n",
       "Tenuta di Argiano                   1\n",
       "Conde de Olzinellas                 1\n",
       "Nabuko                              1\n",
       "Name: winery, Length: 26598, dtype: int64"
      ]
     },
     "execution_count": 77,
     "metadata": {},
     "output_type": "execute_result"
    }
   ],
   "source": [
    "df['winery'].value_counts()"
   ]
  },
  {
   "cell_type": "markdown",
   "id": "61ca90c9",
   "metadata": {},
   "source": [
    "### display dos valores e suas repetições"
   ]
  },
  {
   "cell_type": "code",
   "execution_count": 78,
   "id": "0c7e1352",
   "metadata": {},
   "outputs": [
    {
     "data": {
      "text/plain": [
       "Red            194396\n",
       "White           95424\n",
       "Sparkling       14938\n",
       "Rose            11667\n",
       "Dessert          4329\n",
       "Port/Sherry      2257\n",
       "Fortified         226\n",
       "Name: category, dtype: int64"
      ]
     },
     "execution_count": 78,
     "metadata": {},
     "output_type": "execute_result"
    }
   ],
   "source": [
    "df['category'].value_counts()"
   ]
  },
  {
   "cell_type": "markdown",
   "id": "2b704fab",
   "metadata": {},
   "source": [
    "### display dos valores e suas repetições"
   ]
  },
  {
   "cell_type": "code",
   "execution_count": 79,
   "id": "d1c8d415",
   "metadata": {},
   "outputs": [
    {
     "data": {
      "text/plain": [
       "Reserve                           5183\n",
       "Estate                            3183\n",
       "Reserva                           2927\n",
       "Barrel Sample                     2497\n",
       "Riserva                           1719\n",
       "                                  ... \n",
       "Exception Brut Intense               1\n",
       "Finca San Cibrao                     1\n",
       "Blanc de Noirs Cebada Vineyard       1\n",
       "Loner R13-C                          1\n",
       "Columbia County                      1\n",
       "Name: designation, Length: 77226, dtype: int64"
      ]
     },
     "execution_count": 79,
     "metadata": {},
     "output_type": "execute_result"
    }
   ],
   "source": [
    "df['designation'].value_counts()"
   ]
  },
  {
   "cell_type": "markdown",
   "id": "7a921c24",
   "metadata": {},
   "source": [
    "### display dos valores e suas repetições"
   ]
  },
  {
   "cell_type": "code",
   "execution_count": 80,
   "id": "6bda56b9",
   "metadata": {},
   "outputs": [
    {
     "data": {
      "text/plain": [
       "Pinot Noir                                 33523\n",
       "Chardonnay                                 29439\n",
       "Cabernet Sauvignon                         23829\n",
       "Red Blends, Red Blends                     20012\n",
       "Bordeaux-style Red Blend                   17861\n",
       "                                           ...  \n",
       "Ruen, Other Red                                1\n",
       "Assyrtiko-Sauvignon Blanc, White Blend         1\n",
       "Chardonel, Other White                         1\n",
       "Grasparossa di Castelvetro, Italian Red        1\n",
       "Ehrenfelser, Other White                       1\n",
       "Name: varietal, Length: 869, dtype: int64"
      ]
     },
     "execution_count": 80,
     "metadata": {},
     "output_type": "execute_result"
    }
   ],
   "source": [
    "df['varietal'].value_counts()"
   ]
  },
  {
   "cell_type": "markdown",
   "id": "4f6db12b",
   "metadata": {},
   "source": [
    "### display dos valores e suas repetições"
   ]
  },
  {
   "cell_type": "code",
   "execution_count": 81,
   "id": "08eb3375",
   "metadata": {},
   "outputs": [
    {
     "data": {
      "text/plain": [
       "13.5%    45251\n",
       "13%      38404\n",
       "14.5%    33376\n",
       "14%      29945\n",
       "12.5%    24592\n",
       "         ...  \n",
       "225%         1\n",
       "17.3%        1\n",
       "8333%        1\n",
       "1.2%         1\n",
       "2016%        1\n",
       "Name: alcohol, Length: 553, dtype: int64"
      ]
     },
     "execution_count": 81,
     "metadata": {},
     "output_type": "execute_result"
    }
   ],
   "source": [
    "df['alcohol'].value_counts()"
   ]
  },
  {
   "cell_type": "markdown",
   "id": "09006da9",
   "metadata": {},
   "source": [
    "limpeza do dado de preço removendo o \"$\""
   ]
  },
  {
   "cell_type": "code",
   "execution_count": 82,
   "id": "b79a9877",
   "metadata": {},
   "outputs": [],
   "source": [
    "df['price'] = df['price'].replace(r'[^0-9.,]+', '', regex=True)"
   ]
  },
  {
   "cell_type": "markdown",
   "id": "97c4ba45",
   "metadata": {},
   "source": [
    "### display dos valores e suas repetições\n",
    "é notável uma certa incongruencia nos valores, viato que tem valores bem altos"
   ]
  },
  {
   "cell_type": "code",
   "execution_count": 83,
   "id": "9a948eae",
   "metadata": {},
   "outputs": [
    {
     "data": {
      "text/plain": [
       "20       16373\n",
       "15       14445\n",
       "25       14027\n",
       "30       12180\n",
       "18       11506\n",
       "         ...  \n",
       "1900         1\n",
       "8.49         1\n",
       "17.50        1\n",
       "367          1\n",
       "897          1\n",
       "Name: price, Length: 543, dtype: int64"
      ]
     },
     "execution_count": 83,
     "metadata": {},
     "output_type": "execute_result"
    }
   ],
   "source": [
    "df['price'].value_counts()"
   ]
  },
  {
   "cell_type": "code",
   "execution_count": 96,
   "id": "14159e59",
   "metadata": {},
   "outputs": [],
   "source": [
    "df2 = df[~df['price'].isnull()]"
   ]
  },
  {
   "cell_type": "code",
   "execution_count": 98,
   "id": "e5bb1931",
   "metadata": {},
   "outputs": [],
   "source": [
    "df2 = df2[df2['price'].str.isnumeric()]\n"
   ]
  },
  {
   "cell_type": "code",
   "execution_count": 99,
   "id": "8aa3c334",
   "metadata": {
    "collapsed": true
   },
   "outputs": [
    {
     "name": "stdout",
     "output_type": "stream",
     "text": [
      "<class 'pandas.core.frame.DataFrame'>\n",
      "Int64Index: 291920 entries, 0 to 323236\n",
      "Data columns (total 11 columns):\n",
      " #   Column       Non-Null Count   Dtype \n",
      "---  ------       --------------   ----- \n",
      " 0   wine         291920 non-null  object\n",
      " 1   winery       291920 non-null  object\n",
      " 2   category     291920 non-null  object\n",
      " 3   designation  206061 non-null  object\n",
      " 4   varietal     271833 non-null  object\n",
      " 5   appellation  289406 non-null  object\n",
      " 6   alcohol      260579 non-null  object\n",
      " 7   price        291920 non-null  object\n",
      " 8   rating       291920 non-null  int64 \n",
      " 9   reviewer     225760 non-null  object\n",
      " 10  review       290894 non-null  object\n",
      "dtypes: int64(1), object(10)\n",
      "memory usage: 26.7+ MB\n"
     ]
    }
   ],
   "source": [
    "df2.info()"
   ]
  },
  {
   "cell_type": "markdown",
   "id": "d3a33c9a",
   "metadata": {},
   "source": [
    "### print do vinho com valores mais altos em preço"
   ]
  },
  {
   "cell_type": "code",
   "execution_count": 86,
   "id": "7967052a",
   "metadata": {
    "scrolled": false
   },
   "outputs": [
    {
     "data": {
      "text/plain": [
       "wine           Quinta do Crasto NV Honore Very Old Tawny  (Port)\n",
       "winery                                          Quinta do Crasto\n",
       "category                                             Port/Sherry\n",
       "designation                                Honore Very Old Tawny\n",
       "varietal                                        Port, Port Blend\n",
       "appellation                                       Port, Portugal\n",
       "alcohol                                                      20%\n",
       "price                                                       8500\n",
       "rating                                                        98\n",
       "reviewer                                              Roger Voss\n",
       "review         This is an extraordinary wine. It was created ...\n",
       "Name: 143963, dtype: object"
      ]
     },
     "execution_count": 86,
     "metadata": {},
     "output_type": "execute_result"
    }
   ],
   "source": [
    "df2['price'] = df2['price'].astype(int)\n",
    "df2.loc[df2['price'].idxmax()]"
   ]
  },
  {
   "cell_type": "markdown",
   "id": "95d3af6d",
   "metadata": {},
   "source": [
    "### print do vinho com valores mais baixos em preço"
   ]
  },
  {
   "cell_type": "code",
   "execution_count": 87,
   "id": "ad6ca9f2",
   "metadata": {
    "scrolled": true
   },
   "outputs": [
    {
     "data": {
      "text/plain": [
       "wine                        Three Wishes NV Chardonnay (America)\n",
       "winery                                              Three Wishes\n",
       "category                                                   White\n",
       "designation                                                  NaN\n",
       "varietal                                              Chardonnay\n",
       "appellation                                          America, US\n",
       "alcohol                                                    12.5%\n",
       "price                                                          3\n",
       "rating                                                        86\n",
       "reviewer                                              Jim Gordon\n",
       "review         This medium-bodied, soft-textured wine finds a...\n",
       "Name: 91841, dtype: object"
      ]
     },
     "execution_count": 87,
     "metadata": {},
     "output_type": "execute_result"
    }
   ],
   "source": [
    "df2.loc[df2['price'].idxmin()]"
   ]
  },
  {
   "cell_type": "markdown",
   "id": "95886c45",
   "metadata": {},
   "source": [
    "### display dos valores de rating"
   ]
  },
  {
   "cell_type": "code",
   "execution_count": 16,
   "id": "a6e52a33",
   "metadata": {
    "scrolled": true
   },
   "outputs": [
    {
     "data": {
      "text/plain": [
       "88     41269\n",
       "90     39674\n",
       "87     38675\n",
       "89     29961\n",
       "91     28699\n",
       "86     28296\n",
       "92     24599\n",
       "85     21590\n",
       "93     17488\n",
       "84     16107\n",
       "94     10545\n",
       "83      8748\n",
       "82      5377\n",
       "95      5090\n",
       "96      2240\n",
       "81      2040\n",
       "80      1212\n",
       "97      1031\n",
       "98       400\n",
       "99       118\n",
       "100       78\n",
       "Name: rating, dtype: int64"
      ]
     },
     "execution_count": 16,
     "metadata": {},
     "output_type": "execute_result"
    }
   ],
   "source": [
    "df['rating'].value_counts()"
   ]
  },
  {
   "cell_type": "markdown",
   "id": "4324ed71",
   "metadata": {},
   "source": [
    "### plotagem do histograma de rating"
   ]
  },
  {
   "cell_type": "code",
   "execution_count": 26,
   "id": "ce83dd4f",
   "metadata": {
    "scrolled": true
   },
   "outputs": [
    {
     "data": {
      "image/png": "[encoded data removed]",
      "text/plain": [
       "<Figure size 640x480 with 1 Axes>"
      ]
     },
     "metadata": {},
     "output_type": "display_data"
    }
   ],
   "source": [
    "plt.style.use(\"classic\")\n",
    "plt.hist(df['rating'], bins=21)\n",
    "plt.show()"
   ]
  },
  {
   "cell_type": "markdown",
   "id": "e060eec1",
   "metadata": {},
   "source": [
    "### display dos nomes dos avaliadores"
   ]
  },
  {
   "cell_type": "code",
   "execution_count": 17,
   "id": "4777fb6e",
   "metadata": {
    "scrolled": true
   },
   "outputs": [
    {
     "data": {
      "text/plain": [
       "Roger Voss            59848\n",
       "Michael Schachner     34774\n",
       "Kerin O’Keefe         24084\n",
       "Paul Gregutt          22862\n",
       "Virginie Boone        20189\n",
       "Matt Kettmann         17026\n",
       "Joe Czerwinski        13982\n",
       "Jim Gordon            11090\n",
       "Anna Lee C. Iijima    10917\n",
       "Sean P. Sullivan      10278\n",
       "Anne Krebiehl MW       9497\n",
       "Lauren Buzzeo          3870\n",
       "Christina Pickard      3430\n",
       "Alexander Peartree     2923\n",
       "Susan Kostrzewa        2750\n",
       "Mike DeSimone          1144\n",
       "Jeff Jenssen           1031\n",
       "Fiona Adams             845\n",
       "Carrie Dykes            344\n",
       "Jesica Vargas           157\n",
       "Layla Schlack            33\n",
       "Dara Kapoor               1\n",
       "Name: reviewer, dtype: int64"
      ]
     },
     "execution_count": 17,
     "metadata": {},
     "output_type": "execute_result"
    }
   ],
   "source": [
    "df['reviewer'].value_counts()"
   ]
  },
  {
   "cell_type": "markdown",
   "id": "121d257a",
   "metadata": {},
   "source": [
    "### display das avaliações"
   ]
  },
  {
   "cell_type": "code",
   "execution_count": 18,
   "id": "457dbaf2",
   "metadata": {
    "scrolled": true
   },
   "outputs": [
    {
     "data": {
      "text/plain": [
       "Review unavailable at this time                                                                                                                                                                                                                                 162\n",
       "Floral and almond scents on the nose, along with stone fruits—Queen Anne cherries? Sharp, almost bitter on the palate and into the finish, which is tart and shows good length.                                                                                   4\n",
       "86-88 This could work as a rich wine, because there is good structure and piles of botrytis. It could be delicious, with its lovely dry finish, but that's for the future.                                                                                        3\n",
       "89–91. Barrel Sample. While this wine has plenty of tannins, it is the fruit that is so good here. The black currant flavors of Cabernet Sauvignon dominate and give the wine an open fruitiness. Drink from 2023.                                                3\n",
       "Review not available at this time.                                                                                                                                                                                                                                3\n",
       "                                                                                                                                                                                                                                                               ... \n",
       "Initial hickory and clove aromas give way to cool earth scents. This flush, tannic RDD is edgy and abrasive in feel, with baked plum and spicy berry flavors. On the finish, this tastes saucy and earthy, with mild astringency stemming from hard tannins.      1\n",
       "Rounded aromas of Asian pear and citrus show on the nose of this bottling. The flavors combine lemon juice with tart green apple and a bit of nutty warmth.                                                                                                       1\n",
       "Starts with earthy, blackberry aromas and deeper notes of plum preserves and blueberry. Picks up some pretty blackberry and cherry notes in the chewy core, then turns rich and solidly tannic in the finish. Needs time. —S.H.                                   1\n",
       "Created in 1819, this vineyard surrounds a Victorian château overlooking the Loire. This wine is fruity, fresh and soft. It has attractive acidity, a light texture and perfumed acidity set in the context of apple and lime fruits. Drink now.                  1\n",
       "Made from organically farmed Ciliegiolo (one of the great indigenous varieties of Tuscany), this opens with cherry and cured meat notes, and it shows a bright, tart quality on the finish.                                                                       1\n",
       "Name: review, Length: 321764, dtype: int64"
      ]
     },
     "execution_count": 18,
     "metadata": {},
     "output_type": "execute_result"
    }
   ],
   "source": [
    "df['review'].value_counts()"
   ]
  },
  {
   "cell_type": "markdown",
   "id": "76a7be99",
   "metadata": {},
   "source": [
    "### display das regiões dos vinhos"
   ]
  },
  {
   "cell_type": "code",
   "execution_count": 100,
   "id": "62f1df18",
   "metadata": {
    "scrolled": false
   },
   "outputs": [
    {
     "data": {
      "text/plain": [
       "Napa Valley, Napa, California, US                             11477\n",
       "Columbia Valley (WA), Columbia Valley, Washington, US          9150\n",
       "California, California Other, California, US                   7408\n",
       "Russian River Valley, Sonoma, California, US                   7161\n",
       "Paso Robles, Central Coast, California, US                     6101\n",
       "                                                              ...  \n",
       "Vino de la Tierra Ribera del Jiloca, Northern Spain, Spain        1\n",
       "Deutscher Tafelwein Rhein, Germany                                1\n",
       "Rosso di Cerignola, Southern Italy, Italy                         1\n",
       "Barkan, Israel                                                    1\n",
       "Delia Nivolelli, Sicily & Sardinia, Italy                         1\n",
       "Name: appellation, Length: 2003, dtype: int64"
      ]
     },
     "execution_count": 100,
     "metadata": {},
     "output_type": "execute_result"
    }
   ],
   "source": [
    "df['appellation'].value_counts()"
   ]
  },
  {
   "cell_type": "markdown",
   "id": "fafd5d15",
   "metadata": {},
   "source": [
    "### formatação para retirar o pais dos dados"
   ]
  },
  {
   "cell_type": "code",
   "execution_count": 104,
   "id": "aa29ddb0",
   "metadata": {},
   "outputs": [],
   "source": [
    "def ultimo_valor_string(text):\n",
    "    values = text.split(',')\n",
    "    return values[-1]"
   ]
  },
  {
   "cell_type": "code",
   "execution_count": 106,
   "id": "0d0970dd",
   "metadata": {
    "scrolled": true
   },
   "outputs": [
    {
     "name": "stdout",
     "output_type": "stream",
     "text": [
      "0                 US\n",
      "1          Argentina\n",
      "2           Portugal\n",
      "3              Italy\n",
      "4              Italy\n",
      "             ...    \n",
      "323232            US\n",
      "323233         Italy\n",
      "323234        France\n",
      "323235            US\n",
      "323236         Italy\n",
      "Name: country, Length: 323237, dtype: object\n"
     ]
    }
   ],
   "source": [
    "df['appellation'] = df['appellation'].astype(str)\n",
    "df['country'] = df['appellation'].apply(ultimo_valor_string)\n",
    "\n",
    "print(df['country'])"
   ]
  },
  {
   "cell_type": "markdown",
   "id": "e113f46c",
   "metadata": {},
   "source": [
    "### print dos países mais comuns  no dataset"
   ]
  },
  {
   "cell_type": "code",
   "execution_count": 107,
   "id": "328fc06f",
   "metadata": {},
   "outputs": [
    {
     "data": {
      "text/plain": [
       " US              135281\n",
       " France           59733\n",
       " Italy            44842\n",
       " Spain            14946\n",
       " Portugal         13299\n",
       " Australia         9596\n",
       " Chile             9534\n",
       " Argentina         8740\n",
       " Austria           7095\n",
       " Germany           5555\n",
       " New Zealand       4586\n",
       " South Africa      3790\n",
       "nan                2607\n",
       " Israel            1196\n",
       " Greece            1157\n",
       "Buy Now             609\n",
       " Hungary            333\n",
       " Romania            331\n",
       "South Africa          4\n",
       "DrizlyVivino          2\n",
       "Chile                 1\n",
       "Name: country, dtype: int64"
      ]
     },
     "execution_count": 107,
     "metadata": {},
     "output_type": "execute_result"
    }
   ],
   "source": [
    "df['country'].value_counts()"
   ]
  },
  {
   "cell_type": "code",
   "execution_count": 108,
   "id": "13d3cb1b",
   "metadata": {},
   "outputs": [],
   "source": [
    "def encontrar_ola(lista):\n",
    "    strings_com_ola = []\n",
    "    for texto in lista:\n",
    "        palavras = texto.split(',')\n",
    "        if palavras[-1].strip() == 'Buy Now':\n",
    "            strings_com_ola.append(texto)\n",
    "    return strings_com_ola\n",
    "\n"
   ]
  },
  {
   "cell_type": "code",
   "execution_count": 109,
   "id": "214ef6e9",
   "metadata": {
    "collapsed": true
   },
   "outputs": [
    {
     "name": "stdout",
     "output_type": "stream",
     "text": [
      "As strings que contêm 'ola' como última palavra são:\n",
      "$10,Buy Now\n",
      "$12,Buy Now\n",
      "$20,Buy Now\n",
      "$8,Buy Now\n",
      "$41,Buy Now\n",
      "$50,Buy Now\n",
      "$10,Buy Now\n",
      "$30,Buy Now\n",
      "$13,Buy Now\n",
      "$19,Buy Now\n",
      "$22,Buy Now\n",
      "$36,Buy Now\n",
      "$15,Buy Now\n",
      "$14,Buy Now\n",
      "$19,Buy Now\n",
      "$89,Buy Now\n",
      "$13,Buy Now\n",
      "$20,Buy Now\n",
      "$27,Buy Now\n",
      "$11,Buy Now\n",
      "$15,Buy Now\n",
      "$20,Buy Now\n",
      "$20,Buy Now\n",
      "$34,Buy Now\n",
      "$13,Buy Now\n",
      "$25,Buy Now\n",
      "$18,Buy Now\n",
      "$25,Buy Now\n",
      "$11,Buy Now\n",
      "$10,Buy Now\n",
      "$25,Buy Now\n",
      "$8,Buy Now\n",
      "$18,Buy Now\n",
      "$36,Buy Now\n",
      "$8,Buy Now\n",
      "$13,Buy Now\n",
      "$15,Buy Now\n",
      "$11,Buy Now\n",
      "$13,Buy Now\n",
      "N/A,Buy Now\n",
      "$16,Buy Now\n",
      "$10,Buy Now\n",
      "$9,Buy Now\n",
      "$60,Buy Now\n",
      "N/A,Buy Now\n",
      "$22,Buy Now\n",
      "$22,Buy Now\n",
      "$18,Buy Now\n",
      "$22,Buy Now\n",
      "$19,Buy Now\n",
      "$10,Buy Now\n",
      "$30,Buy Now\n",
      "$13,Buy Now\n",
      "$10,Buy Now\n",
      "$29,Buy Now\n",
      "$11,Buy Now\n",
      "$30,Buy Now\n",
      "$12,Buy Now\n",
      "$17,Buy Now\n",
      "$14,Buy Now\n",
      "$19,Buy Now\n",
      "$20,Buy Now\n",
      "N/A,Buy Now\n",
      "$10,Buy Now\n",
      "$29,Buy Now\n",
      "$8,Buy Now\n",
      "$22,Buy Now\n",
      "$10,Buy Now\n",
      "$9,Buy Now\n",
      "$75,Buy Now\n",
      "$14,Buy Now\n",
      "$14,Buy Now\n",
      "$21,Buy Now\n",
      "$13,Buy Now\n",
      "$37,Buy Now\n",
      "$13,Buy Now\n",
      "$35,Buy Now\n",
      "$15,Buy Now\n",
      "$17,Buy Now\n",
      "$11,Buy Now\n",
      "$73,Buy Now\n",
      "N/A,Buy Now\n",
      "$20,Buy Now\n",
      "$11,Buy Now\n",
      "$25,Buy Now\n",
      "$10,Buy Now\n",
      "$10,Buy Now\n",
      "$19,Buy Now\n",
      "$80,Buy Now\n",
      "$34,Buy Now\n",
      "$27,Buy Now\n",
      "$20,Buy Now\n",
      "$20,Buy Now\n",
      "$30,Buy Now\n",
      "$25,Buy Now\n",
      "$17,Buy Now\n",
      "$45,Buy Now\n",
      "$16,Buy Now\n",
      "N/A,Buy Now\n",
      "$13,Buy Now\n",
      "$13,Buy Now\n",
      "$10,Buy Now\n",
      "$35,Buy Now\n",
      "$16,Buy Now\n",
      "$40,Buy Now\n",
      "$28,Buy Now\n",
      "$30,Buy Now\n",
      "$35,Buy Now\n",
      "$15,Buy Now\n",
      "$35,Buy Now\n",
      "N/A,Buy Now\n",
      "$25,Buy Now\n",
      "$9,Buy Now\n",
      "$35,Buy Now\n",
      "$17,Buy Now\n",
      "$11,Buy Now\n",
      "$23,Buy Now\n",
      "$37,Buy Now\n",
      "$15,Buy Now\n",
      "$11,Buy Now\n",
      "N/A,Buy Now\n",
      "N/A,Buy Now\n",
      "N/A,Buy Now\n",
      "N/A,Buy Now\n",
      "$25,Buy Now\n",
      "$40,Buy Now\n",
      "$37,Buy Now\n",
      "$13,Buy Now\n",
      "$50,Buy Now\n",
      "$12,Buy Now\n",
      "$20,Buy Now\n",
      "$11,Buy Now\n",
      "$18,Buy Now\n",
      "$20,Buy Now\n",
      "$20,Buy Now\n",
      "$18,Buy Now\n",
      "$15,Buy Now\n",
      "N/A,Buy Now\n",
      "$55,Buy Now\n",
      "$19,Buy Now\n",
      "$18,Buy Now\n",
      "$22,Buy Now\n",
      "$25,Buy Now\n",
      "$20,Buy Now\n",
      "$10,Buy Now\n",
      "$15,Buy Now\n",
      "$12,Buy Now\n",
      "N/A,Buy Now\n",
      "$14,Buy Now\n",
      "$16,Buy Now\n",
      "$13,Buy Now\n",
      "$22,Buy Now\n",
      "$36,Buy Now\n",
      "$25,Buy Now\n",
      "$13,Buy Now\n",
      "$10,Buy Now\n",
      "$20,Buy Now\n",
      "$12,Buy Now\n",
      "$12,Buy Now\n",
      "$13,Buy Now\n",
      "$12,Buy Now\n",
      "$35,Buy Now\n",
      "$8,Buy Now\n",
      "$33,Buy Now\n",
      "$11,Buy Now\n",
      "$10,Buy Now\n",
      "$10,Buy Now\n",
      "$9,Buy Now\n",
      "$25,Buy Now\n",
      "$16,Buy Now\n",
      "$18,Buy Now\n",
      "$19,Buy Now\n",
      "$14,Buy Now\n",
      "$27,Buy Now\n",
      "$37,Buy Now\n",
      "$17,Buy Now\n",
      "$26,Buy Now\n",
      "$20,Buy Now\n",
      "$14,Buy Now\n",
      "$15,Buy Now\n",
      "$12,Buy Now\n",
      "$13,Buy Now\n",
      "$10,Buy Now\n",
      "$23,Buy Now\n",
      "$21,Buy Now\n",
      "$34,Buy Now\n",
      "$12,Buy Now\n",
      "$11,Buy Now\n",
      "$8,Buy Now\n",
      "$18,Buy Now\n",
      "N/A,Buy Now\n",
      "$21,Buy Now\n",
      "$15,Buy Now\n",
      "$25,Buy Now\n",
      "$20,Buy Now\n",
      "$18,Buy Now\n",
      "$28,Buy Now\n",
      "N/A,Buy Now\n",
      "$10,Buy Now\n",
      "$22,Buy Now\n",
      "$26,Buy Now\n",
      "$25,Buy Now\n",
      "$37,Buy Now\n",
      "N/A,Buy Now\n",
      "$15,Buy Now\n",
      "$11,Buy Now\n",
      "$14,Buy Now\n",
      "N/A,Buy Now\n",
      "$17,Buy Now\n",
      "$38,Buy Now\n",
      "N/A,Buy Now\n",
      "$20,Buy Now\n",
      "$15,Buy Now\n",
      "$40,Buy Now\n",
      "$58,Buy Now\n",
      "$27,Buy Now\n",
      "$14,Buy Now\n",
      "$20,Buy Now\n",
      "N/A,Buy Now\n",
      "$20,Buy Now\n",
      "$27,Buy Now\n",
      "$11,Buy Now\n",
      "$13,Buy Now\n",
      "$20,Buy Now\n",
      "$13,Buy Now\n",
      "$22,Buy Now\n",
      "$18,Buy Now\n",
      "$28,Buy Now\n",
      "$24,Buy Now\n",
      "N/A,Buy Now\n",
      "$11,Buy Now\n",
      "$11,Buy Now\n",
      "$26,Buy Now\n",
      "N/A,Buy Now\n",
      "$12,Buy Now\n",
      "$25,Buy Now\n",
      "$12,Buy Now\n",
      "$9,Buy Now\n",
      "N/A,Buy Now\n",
      "$20,Buy Now\n",
      "$13,Buy Now\n",
      "$15,Buy Now\n",
      "$42,Buy Now\n",
      "$20,Buy Now\n",
      "N/A,Buy Now\n",
      "$22,Buy Now\n",
      "$18,Buy Now\n",
      "N/A,Buy Now\n",
      "$9,Buy Now\n",
      "$15,Buy Now\n",
      "$50,Buy Now\n",
      "$24,Buy Now\n",
      "$22,Buy Now\n",
      "$35,Buy Now\n",
      "$20,Buy Now\n",
      "$19,Buy Now\n",
      "$11,Buy Now\n",
      "$9,Buy Now\n",
      "N/A,Buy Now\n",
      "$13,Buy Now\n",
      "$23,Buy Now\n",
      "$17,Buy Now\n",
      "$13,Buy Now\n",
      "$10,Buy Now\n",
      "$10,Buy Now\n",
      "$20,Buy Now\n",
      "$20,Buy Now\n",
      "$11,Buy Now\n",
      "$10,Buy Now\n",
      "$25,Buy Now\n",
      "$58,Buy Now\n",
      "$12,Buy Now\n",
      "$16,Buy Now\n",
      "$16,Buy Now\n",
      "$11,Buy Now\n",
      "$12,Buy Now\n",
      "$12,Buy Now\n",
      "$25,Buy Now\n",
      "$10,Buy Now\n",
      "$30,Buy Now\n",
      "$24,Buy Now\n",
      "$47,Buy Now\n",
      "$15,Buy Now\n",
      "$11,Buy Now\n",
      "$25,Buy Now\n",
      "$35,Buy Now\n",
      "$11,Buy Now\n",
      "$25,Buy Now\n",
      "$10,Buy Now\n",
      "$36,Buy Now\n",
      "$23,Buy Now\n",
      "$25,Buy Now\n",
      "$12,Buy Now\n",
      "$24,Buy Now\n",
      "$12,Buy Now\n",
      "$39,Buy Now\n",
      "$11,Buy Now\n",
      "$25,Buy Now\n",
      "$14,Buy Now\n",
      "$14,Buy Now\n",
      "$15,Buy Now\n",
      "$35,Buy Now\n",
      "$25,Buy Now\n",
      "$10,Buy Now\n",
      "$20,Buy Now\n",
      "$35,Buy Now\n",
      "N/A,Buy Now\n",
      "$16,Buy Now\n",
      "$22,Buy Now\n",
      "$26,Buy Now\n",
      "$19,Buy Now\n",
      "$19,Buy Now\n",
      "$16,Buy Now\n",
      "$20,Buy Now\n",
      "$11,Buy Now\n",
      "$16,Buy Now\n",
      "$20,Buy Now\n",
      "N/A,Buy Now\n",
      "$49,Buy Now\n",
      "$18,Buy Now\n",
      "$50,Buy Now\n",
      "N/A,Buy Now\n",
      "$38,Buy Now\n",
      "$16,Buy Now\n",
      "$12,Buy Now\n",
      "$15,Buy Now\n",
      "$29,Buy Now\n",
      "$24,Buy Now\n",
      "$19,Buy Now\n",
      "$89,Buy Now\n",
      "$16,Buy Now\n",
      "$15,Buy Now\n",
      "$110,Buy Now\n",
      "$19,Buy Now\n",
      "$24,Buy Now\n",
      "$8,Buy Now\n",
      "$25,Buy Now\n",
      "$38,Buy Now\n",
      "$35,Buy Now\n",
      "$12,Buy Now\n",
      "$25,Buy Now\n",
      "$47,Buy Now\n",
      "$7,Buy Now\n",
      "$15,Buy Now\n",
      "$16,Buy Now\n",
      "$29,Buy Now\n",
      "$11,Buy Now\n",
      "$25,Buy Now\n",
      "$16,Buy Now\n",
      "$17,Buy Now\n",
      "$21,Buy Now\n",
      "$80,Buy Now\n",
      "$12,Buy Now\n",
      "$16,Buy Now\n",
      "$15,Buy Now\n",
      "$14,Buy Now\n",
      "$73,Buy Now\n",
      "$18,Buy Now\n",
      "$25,Buy Now\n",
      "$13,Buy Now\n",
      "$18,Buy Now\n",
      "$15,Buy Now\n",
      "$34,Buy Now\n",
      "$14,Buy Now\n",
      "$13,Buy Now\n",
      "$20,Buy Now\n",
      "$20,Buy Now\n",
      "$19,Buy Now\n",
      "$14,Buy Now\n",
      "$28,Buy Now\n",
      "$7,Buy Now\n",
      "$14,Buy Now\n",
      "$25,Buy Now\n",
      "$40,Buy Now\n",
      "$13,Buy Now\n",
      "$25,Buy Now\n",
      "$28,Buy Now\n",
      "$15,Buy Now\n",
      "$11,Buy Now\n",
      "$19,Buy Now\n",
      "$25,Buy Now\n",
      "$19,Buy Now\n",
      "$10,Buy Now\n",
      "$11,Buy Now\n",
      "N/A,Buy Now\n",
      "$75,Buy Now\n",
      "$50,Buy Now\n",
      "$10,Buy Now\n",
      "$15,Buy Now\n",
      "$13,Buy Now\n",
      "$10,Buy Now\n",
      "$42,Buy Now\n",
      "$15,Buy Now\n",
      "$12,Buy Now\n",
      "$25,Buy Now\n",
      "$12,Buy Now\n",
      "$9,Buy Now\n",
      "$15,Buy Now\n",
      "N/A,Buy Now\n",
      "$18,Buy Now\n",
      "$47,Buy Now\n",
      "N/A,Buy Now\n",
      "N/A,Buy Now\n",
      "$20,Buy Now\n",
      "$10,Buy Now\n",
      "$10,Buy Now\n",
      "$24,Buy Now\n",
      "$14,Buy Now\n",
      "$14,Buy Now\n",
      "$15,Buy Now\n",
      "$25,Buy Now\n",
      "$37,Buy Now\n",
      "$11,Buy Now\n",
      "$17,Buy Now\n",
      "$18,Buy Now\n",
      "$12,Buy Now\n",
      "$23,Buy Now\n",
      "$29,Buy Now\n",
      "$12,Buy Now\n",
      "$15,Buy Now\n",
      "$21,Buy Now\n",
      "$17,Buy Now\n",
      "$35,Buy Now\n",
      "$12,Buy Now\n",
      "$29,Buy Now\n",
      "$13,Buy Now\n",
      "$22,Buy Now\n",
      "N/A,Buy Now\n",
      "$15,Buy Now\n",
      "$23,Buy Now\n",
      "$11,Buy Now\n",
      "$35,Buy Now\n",
      "$15,Buy Now\n",
      "$14,Buy Now\n",
      "$13,Buy Now\n",
      "$17,Buy Now\n",
      "$18,Buy Now\n",
      "$10,Buy Now\n",
      "$45,Buy Now\n",
      "$13,Buy Now\n",
      "$10,Buy Now\n",
      "$41,Buy Now\n",
      "$22,Buy Now\n",
      "$34,Buy Now\n",
      "$10,Buy Now\n",
      "$22,Buy Now\n",
      "$20,Buy Now\n",
      "$20,Buy Now\n",
      "$25,Buy Now\n",
      "$11,Buy Now\n",
      "$25,Buy Now\n",
      "$12,Buy Now\n",
      "$20,Buy Now\n",
      "$8,Buy Now\n",
      "$10,Buy Now\n",
      "$20,Buy Now\n",
      "$18,Buy Now\n",
      "$13,Buy Now\n",
      "$10,Buy Now\n",
      "$11,Buy Now\n",
      "$42,Buy Now\n",
      "$57,Buy Now\n",
      "$13,Buy Now\n",
      "$13,Buy Now\n",
      "$10,Buy Now\n",
      "$11,Buy Now\n",
      "$75,Buy Now\n",
      "$19,Buy Now\n",
      "$12,Buy Now\n",
      "$12,Buy Now\n",
      "$8,Buy Now\n",
      "$28,Buy Now\n",
      "$45,Buy Now\n",
      "$11,Buy Now\n",
      "$25,Buy Now\n",
      "$36,Buy Now\n",
      "$23,Buy Now\n",
      "$25,Buy Now\n",
      "$23,Buy Now\n",
      "$15,Buy Now\n",
      "$15,Buy Now\n",
      "$72.50,Buy Now\n",
      "N/A,Buy Now\n",
      "$25,Buy Now\n",
      "$13,Buy Now\n",
      "$37,Buy Now\n",
      "$15,Buy Now\n",
      "$25,Buy Now\n",
      "$11,Buy Now\n",
      "$40,Buy Now\n",
      "$11,Buy Now\n",
      "$20,Buy Now\n",
      "$36,Buy Now\n",
      "$15,Buy Now\n",
      "$12,Buy Now\n",
      "$15,Buy Now\n",
      "$24,Buy Now\n",
      "$13,Buy Now\n",
      "$24,Buy Now\n",
      "$18,Buy Now\n",
      "$24,Buy Now\n",
      "$17,Buy Now\n",
      "$22,Buy Now\n",
      "$11,Buy Now\n",
      "$38,Buy Now\n",
      "$12,Buy Now\n",
      "$25,Buy Now\n",
      "$12,Buy Now\n",
      "$12,Buy Now\n",
      "$20,Buy Now\n",
      "$16,Buy Now\n",
      "$16,Buy Now\n",
      "$29,Buy Now\n",
      "$24,Buy Now\n",
      "$8,Buy Now\n",
      "$35,Buy Now\n",
      "$25,Buy Now\n",
      "$29,Buy Now\n",
      "$16,Buy Now\n",
      "$10,Buy Now\n",
      "$25,Buy Now\n",
      "$12,Buy Now\n",
      "N/A,Buy Now\n",
      "$23,Buy Now\n",
      "$13,Buy Now\n",
      "$26,Buy Now\n",
      "N/A,Buy Now\n",
      "$40,Buy Now\n",
      "$35,Buy Now\n",
      "$18,Buy Now\n",
      "$72.50,Buy Now\n",
      "$11,Buy Now\n",
      "$14,Buy Now\n",
      "$10,Buy Now\n",
      "N/A,Buy Now\n",
      "$15,Buy Now\n",
      "$22,Buy Now\n",
      "N/A,Buy Now\n",
      "$17,Buy Now\n",
      "$19,Buy Now\n",
      "$16,Buy Now\n",
      "$28,Buy Now\n",
      "$11,Buy Now\n",
      "$19,Buy Now\n",
      "$10,Buy Now\n",
      "$23,Buy Now\n",
      "$24,Buy Now\n",
      "$17,Buy Now\n",
      "$18,Buy Now\n",
      "$11,Buy Now\n",
      "$23,Buy Now\n",
      "$20,Buy Now\n",
      "$18,Buy Now\n",
      "$9,Buy Now\n",
      "$17,Buy Now\n",
      "N/A,Buy Now\n",
      "$11,Buy Now\n",
      "$11,Buy Now\n",
      "$15,Buy Now\n",
      "$10,Buy Now\n",
      "$19,Buy Now\n",
      "$16,Buy Now\n",
      "$14,Buy Now\n",
      "$13,Buy Now\n",
      "$11,Buy Now\n",
      "$13,Buy Now\n",
      "$27,Buy Now\n",
      "$14,Buy Now\n",
      "$18,Buy Now\n",
      "N/A,Buy Now\n",
      "$30,Buy Now\n",
      "$30,Buy Now\n",
      "$19,Buy Now\n",
      "$20,Buy Now\n",
      "$11,Buy Now\n",
      "$18,Buy Now\n",
      "$24,Buy Now\n",
      "$11,Buy Now\n",
      "$9,Buy Now\n",
      "$47,Buy Now\n",
      "$35,Buy Now\n",
      "$9,Buy Now\n",
      "$13,Buy Now\n",
      "$52,Buy Now\n",
      "$25,Buy Now\n",
      "$50,Buy Now\n",
      "$15,Buy Now\n",
      "$25,Buy Now\n",
      "$35,Buy Now\n",
      "$15,Buy Now\n",
      "$11,Buy Now\n",
      "$36,Buy Now\n",
      "$20,Buy Now\n",
      "$20,Buy Now\n",
      "$35,Buy Now\n",
      "$40,Buy Now\n",
      "N/A,Buy Now\n",
      "$10,Buy Now\n",
      "$35,Buy Now\n",
      "$42,Buy Now\n",
      "$20,Buy Now\n",
      "$10,Buy Now\n",
      "$16,Buy Now\n",
      "$25,Buy Now\n",
      "$12,Buy Now\n",
      "$22,Buy Now\n",
      "$12,Buy Now\n",
      "N/A,Buy Now\n",
      "$25,Buy Now\n"
     ]
    }
   ],
   "source": [
    "strings_com_ola = encontrar_ola(df['appellation'])\n",
    "\n",
    "if strings_com_ola:\n",
    "    print(\"As strings que contêm 'ola' como última palavra são:\")\n",
    "    for string in strings_com_ola:\n",
    "        print(string)\n",
    "else:\n",
    "    print(\"Nenhuma string contém 'ola' como última palavra.\")"
   ]
  }
 ],
 "metadata": {
  "kernelspec": {
   "display_name": "Python 3 (ipykernel)",
   "language": "python",
   "name": "python3"
  },
  "language_info": {
   "codemirror_mode": {
    "name": "ipython",
    "version": 3
   },
   "file_extension": ".py",
   "mimetype": "text/x-python",
   "name": "python",
   "nbconvert_exporter": "python",
   "pygments_lexer": "ipython3",
   "version": "3.11.2"
  }
 },
 "nbformat": 4,
 "nbformat_minor": 5
}
